{
 "cells": [
  {
   "cell_type": "markdown",
   "metadata": {},
   "source": [
    "# Processing of Sentinel-1 SAR images \n",
    "# Application to flood monitoring"
   ]
  },
  {
   "cell_type": "markdown",
   "metadata": {},
   "source": [
    "# 1. Single image processing"
   ]
  },
  {
   "cell_type": "markdown",
   "metadata": {},
   "source": [
    "## 1.1 Settings"
   ]
  },
  {
   "cell_type": "code",
   "execution_count": null,
   "metadata": {
    "scrolled": true
   },
   "outputs": [],
   "source": [
    "in_dir='~/SAR_DATA/TP_S1/InputData'\n",
    "!ls $in_dir"
   ]
  },
  {
   "cell_type": "markdown",
   "metadata": {},
   "source": [
    "The Sentinel-1 images are stored in the folders:\n",
    "TP_S1/InputData/S1B_IW_GRDH_1SDV_20181004T060051_20181004T060116_023982_029EA5_0956.S\n",
    "AFE/measurement/\n",
    "TP_S1/InputData/S1A_IW_GRDH_1SDV_20181016T060051_20181016T060116_024157_02A459_BFCA.\n",
    "SAFE/measurement/"
   ]
  },
  {
   "cell_type": "code",
   "execution_count": null,
   "metadata": {},
   "outputs": [],
   "source": [
    "im1_name=\"S1A_IW_GRDH_1SDV_20181004T060051_20181004T060116_023982_029EA5_0956.SAFE\"\n",
    "tiff_vv1=\"s1a-iw-grd-vv-20181004t060051-20181004t060116-023982-029ea5-001.tiff\""
   ]
  },
  {
   "cell_type": "code",
   "execution_count": null,
   "metadata": {},
   "outputs": [],
   "source": [
    "proc_dir='~/SAR_DATA/TP_S1/OutputData'\n",
    "!ls $proc_dir"
   ]
  },
  {
   "cell_type": "markdown",
   "metadata": {},
   "source": [
    "##   1.2 Radiometric Calibration: from DN to $\\sigma_0$"
   ]
  },
  {
   "cell_type": "code",
   "execution_count": null,
   "metadata": {},
   "outputs": [],
   "source": [
    "!otbcli_SARCalibration -in $in_dir/$im1_name/measurement/$tiff_vv1 -out $proc_dir/s1a-iw-grd-vv-20181004-sigma0.tiff -lut sigma"
   ]
  },
  {
   "cell_type": "markdown",
   "metadata": {},
   "source": [
    "## 1.3 Clipping: selection of a sub-image"
   ]
  },
  {
   "cell_type": "code",
   "execution_count": null,
   "metadata": {
    "scrolled": true
   },
   "outputs": [],
   "source": [
    "!pwd\n",
    "#!gdalwarp -s_srs EPSG:4326 -t_srs EPSG:4326 -te 2.11 42.89 3.04 43.54 -of GTiff s1a_iw_grd_vv_20181004_sigma0.tiff s1a-iw-grd-vh-20181004-sigma0clipped.tiff\n",
    "#France: 46°00'N, 2°00'E \n",
    "\n",
    "!otbcli_ExtractROI -in $proc_dir/s1a-iw-grd-vv-20181004-sigma0.tiff  -mode extent -mode.extent.unit lonlat -mode.extent.ulx 2.11 -mode.extent.uly 42.89 -mode.extent.lrx 3.04 -mode.extent.lry 43.54 -out $proc_dir/s1a-iw-grd-vv-20181004-sigma0Clip.tiff"
   ]
  },
  {
   "cell_type": "markdown",
   "metadata": {},
   "source": [
    "## 1.4 Speckle filtering"
   ]
  },
  {
   "cell_type": "code",
   "execution_count": null,
   "metadata": {},
   "outputs": [],
   "source": [
    "!otbcli_Despeckle -in $proc_dir/s1a-iw-grd-vv-20181004-sigma0Clip.tiff -out $proc_dir/s1a-iw-grd-vv-20181004-sigma0ClipFilt.tiff -filter frost -filter.frost.rad 3 -filter.frost.deramp 0.2"
   ]
  },
  {
   "cell_type": "markdown",
   "metadata": {},
   "source": [
    "# 1.5 Filtered image orthorectification"
   ]
  },
  {
   "cell_type": "code",
   "execution_count": null,
   "metadata": {},
   "outputs": [],
   "source": [
    "!otbcli_OrthoRectification -io.in $proc_dir/s1a-iw-grd-vv-20181004-sigma0ClipFilt.tiff -io.out $proc_dir/s1a-iw-grd-vv-20181004-sigma0ClipFiltOrtho.tiff -map wgs -opt.gridspacing 4 -elev.dem $in_dir/SRTM/ -elev.geoid $in_dir/Geoid/egm96.grd"
   ]
  },
  {
   "cell_type": "markdown",
   "metadata": {},
   "source": [
    "# 1.6 Superimpose a Sentinel-2 image"
   ]
  },
  {
   "cell_type": "code",
   "execution_count": null,
   "metadata": {
    "scrolled": true
   },
   "outputs": [],
   "source": [
    "overlay_im=in_dir+\"/SENTINEL2A_20181025-104115-456_L2A_T31TDH_D_V1-9/SENTINEL2A_20181025-104115-456_L2A_T31TDH_D_V1-9_FRE_B3.tif\"\n",
    "!otbcli_Superimpose -inr $proc_dir/s1a-iw-grd-vv-20181004-sigma0ClipFiltOrtho.tiff -inm $overlay_im  -out $proc_dir/S2superonS1.tiff"
   ]
  },
  {
   "cell_type": "markdown",
   "metadata": {},
   "source": [
    "# 2 Batch processing: VV and HV images at both dates"
   ]
  },
  {
   "cell_type": "code",
   "execution_count": null,
   "metadata": {},
   "outputs": [],
   "source": [
    "import os\n",
    "\n",
    "in_dir='~/SAR_DATA/TP_S1/InputData'\n",
    "proc_dir='~/SAR_DATA/TP_S1/OutputData'\n",
    "im1_name=\"S1A_IW_GRDH_1SDV_20181004T060051_20181004T060116_023982_029EA5_0956.SAFE\"\n",
    "im2_name=\"S1A_IW_GRDH_1SDV_20181016T060051_20181016T060116_024157_02A459_BFCA.SAFE\"\n",
    "tiff_vv1=\"s1a-iw-grd-vv-20181004t060051-20181004t060116-023982-029ea5-001.tiff\"\n",
    "tiff_vh1=\"s1a-iw-grd-vh-20181004t060051-20181004t060116-023982-029ea5-002.tiff\"\n",
    "tiff_vv2=\"s1a-iw-grd-vv-20181016t060051-20181016t060116-024157-02a459-001.tiff\"\n",
    "tiff_vh2=\"s1a-iw-grd-vh-20181016t060051-20181016t060116-024157-02a459-002.tiff\"\n",
    "#---------------------------------------#\n",
    "#remove old results before processing\n",
    "#---------------------------------------#\n",
    "files=os.listdir(os.path.expanduser(proc_dir))\n",
    "\n",
    "for ff in files:\n",
    "    os.remove(os.path.join(os.path.expanduser(proc_dir),ff))\n",
    " \n",
    "imlist=['s1a-iw-grd-vv-20181004', 's1a-iw-grd-vh-20181016', 's1a-iw-grd-vh-20181004', 's1a-iw-grd-vv-20181016']\n",
    "print(imlist)"
   ]
  },
  {
   "cell_type": "code",
   "execution_count": null,
   "metadata": {},
   "outputs": [],
   "source": [
    "imlist=['s1a-iw-grd-vv-20181004', 's1a-iw-grd-vh-20181016', 's1a-iw-grd-vh-20181004', 's1a-iw-grd-vv-20181016']"
   ]
  },
  {
   "cell_type": "code",
   "execution_count": null,
   "metadata": {},
   "outputs": [],
   "source": [
    "!otbcli_SARCalibration -in $in_dir/$im1_name/measurement/$tiff_vv1 -out $proc_dir/s1a-iw-grd-vv-20181004-sigma0.tiff -lut sigma\n",
    "!otbcli_SARCalibration -in $in_dir/$im1_name/measurement/$tiff_vh1 -out $proc_dir/s1a-iw-grd-vh-20181004-sigma0.tiff -lut sigma\n",
    "!otbcli_SARCalibration -in $in_dir/$im2_name/measurement/$tiff_vv2 -out $proc_dir/s1a-iw-grd-vv-20181016-sigma0.tiff -lut sigma\n",
    "!otbcli_SARCalibration -in $in_dir/$im2_name/measurement/$tiff_vh2 -out $proc_dir/s1a-iw-grd-vh-20181016-sigma0.tiff -lut sigma"
   ]
  },
  {
   "cell_type": "code",
   "execution_count": null,
   "metadata": {},
   "outputs": [],
   "source": [
    "for im in imlist:\n",
    "    #print(len(file))\n",
    "    im_name=im+'-sigma0.tiff'\n",
    "    clip_name=im+'-sigma0Clip.tiff'\n",
    "    filt_name=im+'-sigma0ClipFilt.tiff'\n",
    "    ortho_name=im+'-sigma0ClipFiltOrth.tiff'\n",
    "    !otbcli_ExtractROI -in $proc_dir/$im_name -mode extent -mode.extent.unit lonlat -mode.extent.ulx 2.11 -mode.extent.uly 42.89 -mode.extent.lrx 3.04 -mode.extent.lry 43.54 -out $proc_dir/$clip_name\n",
    "    !otbcli_Despeckle -in $proc_dir/$clip_name -out $proc_dir/$filt_name -filter frost -filter.frost.rad 3 -filter.frost.deramp 0.2\n",
    "    !otbcli_OrthoRectification -io.in $proc_dir/$filt_name -io.out $proc_dir/$ortho_name -map wgs -opt.gridspacing 4 -elev.dem $in_dir/SRTM/ -elev.geoid $in_dir/Geoid/egm96.grd\n"
   ]
  },
  {
   "cell_type": "code",
   "execution_count": null,
   "metadata": {},
   "outputs": [],
   "source": [
    "overlay_im=in_dir+\"/SENTINEL2A_20181025-104115-456_L2A_T31TDH_D_V1-9/SENTINEL2A_20181025-104115-456_L2A_T31TDH_D_V1-9_FRE_B3.tif\"\n",
    "!otbcli_Superimpose -inr $proc_dir/$ortho_name -inm $overlay_im  -out $proc_dir/S2superonS1.tiff"
   ]
  }
 ],
 "metadata": {
  "kernelspec": {
   "display_name": "Python 3",
   "language": "python",
   "name": "python3"
  },
  "language_info": {
   "codemirror_mode": {
    "name": "ipython",
    "version": 3
   },
   "file_extension": ".py",
   "mimetype": "text/x-python",
   "name": "python",
   "nbconvert_exporter": "python",
   "pygments_lexer": "ipython3",
   "version": "3.9.5"
  }
 },
 "nbformat": 4,
 "nbformat_minor": 4
}
