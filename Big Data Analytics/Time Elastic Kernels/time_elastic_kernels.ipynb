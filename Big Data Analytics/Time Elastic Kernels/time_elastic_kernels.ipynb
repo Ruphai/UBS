{
 "cells": [
  {
   "cell_type": "markdown",
   "metadata": {},
   "source": [
    "## Time Elastic Kernels\n"
   ]
  },
  {
   "cell_type": "code",
   "execution_count": 7,
   "metadata": {},
   "outputs": [],
   "source": [
    "# workspace utilities\n",
    "import numpy as np\n",
    "import dfrechet as df\n",
    "import dtw\n",
    "import processMobisig as pm"
   ]
  },
  {
   "cell_type": "markdown",
   "metadata": {},
   "source": [
    "## Levenshtein's distance of the strings \"aBigRedHat\" and \"aRedBigHat\". \n",
    "Draw the alignment matrix to evaluate the pairwise Levenshtein's distance of the strings \"aBigRedHat\" and \"aRedBigHat\" using the following cost:\n",
    "- i. deletion/insertion = 1, \n",
    "- ii. substition = 2, \n",
    "- iii. match = 0.\n",
    "Document your observations."
   ]
  },
  {
   "cell_type": "code",
   "execution_count": null,
   "metadata": {},
   "outputs": [],
   "source": [
    "import re, ast\n",
    "import pandas as pd"
   ]
  },
  {
   "cell_type": "code",
   "execution_count": 19,
   "metadata": {},
   "outputs": [],
   "source": [
    "# function to compute the levenshtein's\n",
    "import numpy as np\n",
    "\n",
    "def min_ed_dis(first,second):\n",
    "    #build an empty matrix of correct size\n",
    "    first = [k for k in first]\n",
    "    second = [k for k in second]\n",
    "    matrix = np.zeros((len(first),len(second)))\n",
    "    \n",
    "    #first row & column\n",
    "    matrix[0] = [j for j in range(len(first))]\n",
    "    matrix[:,0] = [j for j in range(len(second))]\n",
    "    \n",
    "    #add anchor value\n",
    "    if first[1] != second[1]:\n",
    "        matrix[1,1] = 2\n",
    "        \n",
    "    #through every column\n",
    "    for c in range(1, len(first)):\n",
    "        #through every row\n",
    "        for r in range(1, len(second)):\n",
    "            \n",
    "            #not same letter\n",
    "            if first[c] != second[r]:\n",
    "                matrix[r,c] = min(matrix[r-1, c], matrix[r, c-1])+2\n",
    "            \n",
    "            #same letter\n",
    "            else:\n",
    "                matrix[r,c] = matrix[r-1,c-1]\n",
    "    return matrix"
   ]
  },
  {
   "cell_type": "code",
   "execution_count": 20,
   "metadata": {},
   "outputs": [
    {
     "name": "stdout",
     "output_type": "stream",
     "text": [
      "Levenshtein's distance: \n",
      " [[ 0.  1.  2.  3.  4.  5.  6.  7.  8.  9.]\n",
      " [ 1.  3.  4.  5.  3.  5.  7.  9. 10. 11.]\n",
      " [ 2.  4.  6.  7.  5.  3.  5.  7.  9. 11.]\n",
      " [ 3.  5.  7.  9.  7.  5.  3.  5.  7.  9.]\n",
      " [ 4.  3.  5.  7.  9.  7.  5.  7.  9. 11.]\n",
      " [ 5.  5.  3.  5.  7.  9.  7.  9. 11. 13.]\n",
      " [ 6.  7.  5.  3.  5.  7.  9. 11. 13. 15.]\n",
      " [ 7.  9.  7.  5.  7.  9. 11.  9. 11. 13.]\n",
      " [ 8. 10.  9.  7.  9. 11. 13. 11.  9. 11.]\n",
      " [ 9. 11. 11.  9. 11. 13. 15. 13. 11.  9.]]\n"
     ]
    }
   ],
   "source": [
    "a = 'aBigRedHat'\n",
    "b = 'aRedBigHat'\n",
    "\n",
    "print(\"Levenshtein's distance: \\n\", min_ed_dis(a, b))"
   ]
  },
  {
   "cell_type": "markdown",
   "metadata": {},
   "source": [
    "Levenstein's distance observation::: \n",
    "What do you observe in the matrix"
   ]
  },
  {
   "cell_type": "markdown",
   "metadata": {},
   "source": [
    "Evaluating the 'time-elastic' distances of some time-series signature"
   ]
  },
  {
   "cell_type": "code",
   "execution_count": null,
   "metadata": {},
   "outputs": [],
   "source": []
  }
 ],
 "metadata": {
  "interpreter": {
   "hash": "9be38a6015254017d4edd2046b770be20849a1c5b230911009defc72922fbf9d"
  },
  "kernelspec": {
   "display_name": "Python 3.8.10 64-bit ('base': conda)",
   "name": "python3"
  },
  "language_info": {
   "codemirror_mode": {
    "name": "ipython",
    "version": 3
   },
   "file_extension": ".py",
   "mimetype": "text/x-python",
   "name": "python",
   "nbconvert_exporter": "python",
   "pygments_lexer": "ipython3",
   "version": "3.8.10"
  },
  "orig_nbformat": 4
 },
 "nbformat": 4,
 "nbformat_minor": 2
}
