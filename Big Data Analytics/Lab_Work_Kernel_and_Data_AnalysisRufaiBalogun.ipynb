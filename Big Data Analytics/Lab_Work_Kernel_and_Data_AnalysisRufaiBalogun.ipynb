{
  "nbformat": 4,
  "nbformat_minor": 0,
  "metadata": {
    "colab": {
      "name": "Lab Work: Kernel and Data AnalysisRufaiBalogun.ipynb",
      "provenance": []
    },
    "kernelspec": {
      "name": "python3",
      "display_name": "Python 3"
    },
    "language_info": {
      "name": "python"
    }
  },
  "cells": [
    {
      "cell_type": "markdown",
      "metadata": {
        "id": "W1YMq1ZgPj_H"
      },
      "source": [
        "# Lab Work 1: Kernel and data analysis\n",
        "Copernicus Master in Digital Earth\n",
        "October 2021"
      ]
    },
    {
      "cell_type": "markdown",
      "metadata": {
        "id": "0mI0YPp9WEAU"
      },
      "source": [
        "### 1. Pointwise function multiplication\n",
        "To prove the positive definite of the kernel, we check for two conditions: \n",
        "- conjugate symmetry\n",
        "- positive definiteness\n"
      ]
    },
    {
      "cell_type": "code",
      "metadata": {
        "id": "AScOimM2VAHk"
      },
      "source": [
        "# we create a function to check for positive definitiveness in our matrices\n",
        "import numpy as np\n",
        "def positive_def(M):\n",
        "  # check and adjust data type input\n",
        "  if type(M) != np.ndarray:\n",
        "    M = np.array(M)\n",
        "  else:\n",
        "    pass\n",
        "\n",
        "  #check for conjugate symmetry\n",
        "    if np.array_equal(M, M.T):\n",
        "        try:\n",
        "            #check for positive definitiveness\n",
        "            np.linalg.cholesky(M)\n",
        "            return True\n",
        "        except np.linalg.LinAlgError:\n",
        "          return False\n",
        "    else:\n",
        "        return False"
      ],
      "execution_count": 41,
      "outputs": []
    },
    {
      "cell_type": "code",
      "metadata": {
        "colab": {
          "base_uri": "https://localhost:8080/"
        },
        "id": "FtyttMWBWSQw",
        "outputId": "8f8034c1-e7ac-4217-9c70-eb922f7f2dc2"
      },
      "source": [
        "A = np.ones((3, 4))\n",
        "print(positive_def(A))\n",
        "B = np.empty((5, 5))\n",
        "B.fill(10)\n",
        "print(positive_def(B))\n",
        "C = np.array([[8, 5], [5, 8]])\n",
        "print(positive_def(C))"
      ],
      "execution_count": 42,
      "outputs": [
        {
          "output_type": "stream",
          "name": "stdout",
          "text": [
            "False\n",
            "False\n",
            "True\n"
          ]
        }
      ]
    },
    {
      "cell_type": "markdown",
      "metadata": {
        "id": "21MhrFAxPzmD"
      },
      "source": [
        "### 2. Kernel Ridge Regression\n",
        "Given a set of points following roughly a linear trend $(y = ax + b)$ with $x \\in [-5, 5]$\n"
      ]
    },
    {
      "cell_type": "code",
      "metadata": {
        "id": "ViPR-e2bV-Cn"
      },
      "source": [
        "# define point x between -5 and 5\n",
        "import random\n",
        "x = np.arange(-5, 6).reshape(-1, 1)\n",
        "#y = [random.uniform(-1, 1) + i for i in x]\n",
        "y = np.array([-4.291, -2.860, -2.918, -1.954, -1.426, 1.988, 0.157, 0.593, 2.044, 3.042, 4.309]).reshape(-1, 1)"
      ],
      "execution_count": 114,
      "outputs": []
    },
    {
      "cell_type": "code",
      "metadata": {
        "id": "bgfJFCLAiCBb"
      },
      "source": [
        "# create an arbitrary value of x within the range of -5 and 5\n",
        "new_x = np.linspace(-5, 5, 1000).reshape(-1, 1)"
      ],
      "execution_count": 115,
      "outputs": []
    },
    {
      "cell_type": "code",
      "metadata": {
        "id": "4SsUB8fLd9sD"
      },
      "source": [
        "class Kernel(self, X, Y, x_test):\n",
        "  self.\n",
        "\n",
        "def linear_regressor(X, Y, x_test):\n",
        "  \"\"\"\n",
        "  A Function to create the Linear Regression Model. \n",
        "  Input: X, Y and X_test\n",
        "  Output: Y_Predict\n",
        "  \"\"\"\n",
        "  from sklearn import linear_model\n",
        "  # initiate the linear regression model\n",
        "  lm = linear_model.LinearRegression()\n",
        "  lm.fit(X, Y)\n",
        "  y_predict = lm.predict(x_test)\n",
        "  return y_predict\n",
        "\n",
        "\n",
        "def plot(X, Y, x_test, y_pred):\n",
        "   \"\"\"\n",
        "  A Function to plot the Predicted versus Original\n",
        "  Input data points. \n",
        "  Input: X, Y, X_test, and Y_Predict\n",
        "  Output: Graph of Linear Model and Original datapoints\n",
        "  \"\"\"\n",
        "  import matplotlib.pyplot as plt\n",
        "\n",
        "  fig, ax = plt.subplots()\n",
        "  ax.xaxis.set_ticks(range(-5,6))\n",
        "  ax.yaxis.set_ticks(range(-5,6))\n",
        "  ax.set_xlabel('X')\n",
        "  ax.set_ylabel('Y')\n",
        "  \n",
        "  # plot regression line\n",
        "  plt.plot(x_test, y_pred, color='red', linestyle='solid', linewidth=2, label = \"Predicted\")\n",
        "  # Plot as blue points the original database\n",
        "  plt.scatter(X, Y, color='blue', label = \"Original Points\")\n",
        "  plt.legend()"
      ],
      "execution_count": 142,
      "outputs": []
    },
    {
      "cell_type": "code",
      "metadata": {
        "id": "7m8TfEkV7uxh"
      },
      "source": [
        "y_pred = linear_regressor(x, y, new_x)"
      ],
      "execution_count": 143,
      "outputs": []
    },
    {
      "cell_type": "code",
      "metadata": {
        "id": "4P-Q7RsyjQV4"
      },
      "source": [
        ""
      ],
      "execution_count": 144,
      "outputs": []
    },
    {
      "cell_type": "code",
      "metadata": {
        "colab": {
          "base_uri": "https://localhost:8080/",
          "height": 279
        },
        "id": "fI3SVWLD9Pxy",
        "outputId": "53f33c62-35e5-4c42-e0cb-45a7756d61ae"
      },
      "source": [
        "plot(x, y, new_x, y_pred)"
      ],
      "execution_count": 145,
      "outputs": [
        {
          "output_type": "display_data",
          "data": {
            "image/png": "[encoded data removed]",
            "text/plain": [
              "<Figure size 432x288 with 1 Axes>"
            ]
          },
          "metadata": {
            "needs_background": "light"
          }
        }
      ]
    },
    {
      "cell_type": "markdown",
      "metadata": {
        "id": "K3tpZHM2lfNN"
      },
      "source": [
        "Let us consider a new set of 21 points that do not follow the linear trend anymore but $x \\in [-5, 5] $. We provide a linear regression on the previous 21 points and display the predictions on 1000 values of x taken incrementally in  $ [-5, 5] $ and display the results. "
      ]
    },
    {
      "cell_type": "code",
      "metadata": {
        "id": "mGFspHFzldca"
      },
      "source": [
        "# create an arbitrary value of x within the range of -5 and 5\n",
        "xn = np.linspace(-5, 5, 21).reshape(-1, 1)\n",
        "yn = [-192.239, 71.537, 0.537, -35.671, -48.052, -42.445, -29.914, -13.828, -0.084, 8.668, 11.419, 8.778, 0.209, -10.370, -18.790, -16.722, -0.018, 42.934, 120.075, 245.389, 431.082]\n",
        "yn = np.array(yn).reshape(-1, 1)"
      ],
      "execution_count": 118,
      "outputs": []
    },
    {
      "cell_type": "code",
      "metadata": {
        "id": "PWEhbfvmm31R"
      },
      "source": [
        "# initiate the linear regression model\n",
        "lm= linear_model.LinearRegression()\n",
        "lm.fit(xn,yn)\n",
        "pred_yn = lm.predict(new_x)"
      ],
      "execution_count": 120,
      "outputs": []
    },
    {
      "cell_type": "code",
      "metadata": {
        "colab": {
          "base_uri": "https://localhost:8080/",
          "height": 296
        },
        "id": "T_RmDhbnpKof",
        "outputId": "db9fca45-ba1c-41d4-e904-3cc21da40e31"
      },
      "source": [
        "fig, ax = plt.subplots()\n",
        "ax.xaxis.set_ticks(range(-5,6))\n",
        "#ax.yaxis.set_ticks(range(-5,6))\n",
        "ax.set_xlabel('x')\n",
        "ax.set_ylabel('y')\n",
        "\n",
        "# plot regression line\n",
        "plt.plot(new_x, pred_y, color='red', linestyle='solid', linewidth=2, label = \"Predicted\")\n",
        "# Plot as blue points the original database\n",
        "plt.scatter(xn, yn,color='blue', label = \"Original Points\")\n",
        "#plt.scatter(new_x, pred_yn, label = \"Predicted Point\")\n",
        "plt.legend()"
      ],
      "execution_count": 123,
      "outputs": [
        {
          "output_type": "execute_result",
          "data": {
            "text/plain": [
              "<matplotlib.legend.Legend at 0x7f83a8d63610>"
            ]
          },
          "metadata": {},
          "execution_count": 123
        },
        {
          "output_type": "display_data",
          "data": {
            "image/png": "[encoded data removed]",
            "text/plain": [
              "<Figure size 432x288 with 1 Axes>"
            ]
          },
          "metadata": {
            "needs_background": "light"
          }
        }
      ]
    },
    {
      "cell_type": "markdown",
      "metadata": {
        "id": "-PolBp29fIum"
      },
      "source": [
        "Provide a Kernel Ridge Regression on the previous 21 points and display the results. "
      ]
    },
    {
      "cell_type": "code",
      "metadata": {
        "id": "ec0f_ccte-XG",
        "colab": {
          "base_uri": "https://localhost:8080/"
        },
        "outputId": "0d82aa99-1629-48d5-a932-9971950e498a"
      },
      "source": [
        "from sklearn.kernel_ridge import KernelRidge\n",
        "from sklearn.metrics import mean_squared_error, r2_score\n",
        "import math\n",
        "\n",
        "y_pred_list = []\n",
        "rmse_list = []\n",
        "\n",
        "polynom_degree = [2, 3, 4, 5]\n",
        "for deg in polynom_degree: \n",
        "  Ridge_regressor = KernelRidge(kernel='polynomial', degree=deg, alpha = 1.0)\n",
        "  Ridge_regressor.fit(xn, yn)\n",
        "  y_ridge = Ridge_regressor.predict(new_x)\n",
        "  y_pred_list.append(y_ridge)\n",
        "  \n",
        "  #RMSE\n",
        "  rmse = math.sqrt(mean_squared_error(Ridge_regressor.predict(xn), yn))\n",
        "  rmse_list.append(rmse)\n",
        "  \n",
        "  print(\"__________________________________________________\")\n",
        "  print(\"Polynomial degree: \", deg)\n",
        "  print(\"Root Mean Squared Error: %.1f\" % rmse)\n",
        "  print(\"__________________________________________________\")\n",
        "\n",
        "\n"
      ],
      "execution_count": 132,
      "outputs": [
        {
          "output_type": "stream",
          "name": "stdout",
          "text": [
            "__________________________________________________\n",
            "Polynomial degree:  2\n",
            "Root Mean Squared Error: 76.5\n",
            "__________________________________________________\n",
            "__________________________________________________\n",
            "Polynomial degree:  3\n",
            "Root Mean Squared Error: 50.1\n",
            "__________________________________________________\n",
            "__________________________________________________\n",
            "Polynomial degree:  4\n",
            "Root Mean Squared Error: 45.1\n",
            "__________________________________________________\n",
            "__________________________________________________\n",
            "Polynomial degree:  5\n",
            "Root Mean Squared Error: 34.3\n",
            "__________________________________________________\n"
          ]
        }
      ]
    },
    {
      "cell_type": "code",
      "metadata": {
        "id": "dxOT4b30fTm7",
        "colab": {
          "base_uri": "https://localhost:8080/",
          "height": 531
        },
        "outputId": "6e49adb9-69e5-48fe-9798-3686bf41b092"
      },
      "source": [
        "# # Set axes and labels\n",
        "\n",
        "fig, axs = plt.subplots(2, 2, figsize=(8, 8))\n",
        "for ax in axs.flat:\n",
        "    ax.set(xlabel='x', ylabel='y')\n",
        "# Hide x labels and tick labels for top plots and y ticks for right plots.\n",
        "for ax in axs.flat:\n",
        "    ax.label_outer()\n",
        "\n",
        "\n",
        "# Subplot top-left\n",
        "axs[0, 0].scatter(xn, yn, color='C0')\n",
        "axs[0, 0].plot(new_x, y_pred_list[0], color='C1')\n",
        "axs[0, 0].set_title(r'$d = 2$')\n",
        "axs[0, 0].set_xlim(-5.5,5.5)\n",
        "axs[0, 0].set_ylim(-100,500)\n",
        "axs[0, 0].annotate(u'$RMSE$ = %.1f' % rmse_list[0], xy=(0.15,0.85), xycoords='axes fraction')\n",
        "\n",
        "# Subplot top-right\n",
        "axs[0, 1].scatter(xn, yn, color='C0')\n",
        "axs[0, 1].plot(new_x, y_pred_list[1], color='C1')\n",
        "axs[0, 1].set_title(r'$d = 3$')\n",
        "axs[0, 1].set_xlim(-5.5,5.5)\n",
        "axs[0, 1].set_ylim(-100,500)\n",
        "axs[0, 1].annotate(u'$RMSE$ = %.1f' % rmse_list[1], xy=(0.15,0.85), xycoords='axes fraction')\n",
        "\n",
        "# Subplot bottom-left\n",
        "axs[1, 0].scatter(xn, yn, color='C0')\n",
        "axs[1, 0].plot(new_x, y_pred_list[2], color='C1')\n",
        "axs[1, 0].set_title(r'$d = 4$')\n",
        "axs[1, 0].set_xlim(-5.5,5.5)\n",
        "axs[1, 0].set_ylim(-100,500)\n",
        "axs[1, 0].annotate(u'$RMSE$ = %.1f' % rmse_list[2], xy=(0.15,0.85), xycoords='axes fraction')\n",
        "\n",
        "# Subplot bottom-right\n",
        "axs[1, 1].scatter(xn, yn, color='C0')\n",
        "axs[1, 1].plot(new_x, y_pred_list[3], color='C1')\n",
        "axs[1, 1].set_title(r'$d = 5$')\n",
        "axs[1, 1].set_xlim(-5.5,5.5)\n",
        "axs[1, 1].set_ylim(-100,500)\n",
        "axs[1, 1].annotate(u'$RMSE$ = %.1f' % rmse_list[3], xy=(0.15,0.85), xycoords='axes fraction')"
      ],
      "execution_count": 136,
      "outputs": [
        {
          "output_type": "execute_result",
          "data": {
            "text/plain": [
              "Text(0.15, 0.85, '$RMSE$ = 34.3')"
            ]
          },
          "metadata": {},
          "execution_count": 136
        },
        {
          "output_type": "display_data",
          "data": {
            "image/png": "[encoded data removed]",
            "text/plain": [
              "<Figure size 576x576 with 4 Axes>"
            ]
          },
          "metadata": {
            "needs_background": "light"
          }
        }
      ]
    },
    {
      "cell_type": "code",
      "metadata": {
        "id": "iIHXtR-Tf4ue"
      },
      "source": [
        ""
      ],
      "execution_count": null,
      "outputs": []
    }
  ]
}