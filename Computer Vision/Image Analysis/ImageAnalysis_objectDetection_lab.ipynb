{
  "cells": [
    {
      "cell_type": "markdown",
      "metadata": {
        "id": "c1ow4-5BT7mU"
      },
      "source": [
        "# **Practical session - Deep Learning for object detection**\n",
        "**Master 2 GeoData Science**\n",
        "\n",
        "*2021-2022*\n",
        "\n",
        "## **1/ Introduction**\n",
        "The purpose of this lab is to experiment the one-stage YOLO framework for object detection. We will learn how to train YOLO on Colab using the Darknet repository (https://github.com/AlexeyAB/darknet). Then we will apply the latest versions (YOLOv3 and YOLOv4) for vehicle detection from aerial images using the **MUNICH dataset**. If your Colab GPU is cool enough, we could perform the vehicle detection on larger datasets as VEDAI (aerial) or XVIEW (satellite)."
      ]
    },
    {
      "cell_type": "markdown",
      "metadata": {
        "id": "y4TIEgH-M2VL"
      },
      "source": [
        "Before starting, let's prepare your Colab notebook\n",
        "- check the cuda version\n",
        "- enable GPU (`Runtime > change runtime type`\n",
        " ) and check its configuration\n",
        "- mount your drive to allow Colab to acess to your Google Drive (for e.g., reading/writing images)"
      ]
    },
    {
      "cell_type": "code",
      "execution_count": 1,
      "metadata": {
        "id": "6fuSiXbHqa0Y"
      },
      "outputs": [
        {
          "name": "stdout",
          "output_type": "stream",
          "text": [
            "nvcc: NVIDIA (R) Cuda compiler driver\n",
            "Copyright (c) 2005-2021 NVIDIA Corporation\n",
            "Built on Wed_Jun__2_19:25:35_Pacific_Daylight_Time_2021\n",
            "Cuda compilation tools, release 11.4, V11.4.48\n",
            "Build cuda_11.4.r11.4/compiler.30033411_0\n"
          ]
        }
      ],
      "source": [
        "# check the CUDA version\n",
        "!nvcc --version"
      ]
    },
    {
      "cell_type": "code",
      "execution_count": 2,
      "metadata": {
        "id": "Csihq-LPqmMP"
      },
      "outputs": [
        {
          "name": "stdout",
          "output_type": "stream",
          "text": [
            "Mon Dec 13 09:44:40 2021       \n",
            "+-----------------------------------------------------------------------------+\n",
            "| NVIDIA-SMI 471.11       Driver Version: 471.11       CUDA Version: 11.4     |\n",
            "|-------------------------------+----------------------+----------------------+\n",
            "| GPU  Name            TCC/WDDM | Bus-Id        Disp.A | Volatile Uncorr. ECC |\n",
            "| Fan  Temp  Perf  Pwr:Usage/Cap|         Memory-Usage | GPU-Util  Compute M. |\n",
            "|                               |                      |               MIG M. |\n",
            "|===============================+======================+======================|\n",
            "|   0  NVIDIA GeForce ... WDDM  | 00000000:01:00.0 Off |                  N/A |\n",
            "| N/A   45C    P8     6W /  N/A |    356MiB /  6144MiB |      1%      Default |\n",
            "|                               |                      |                  N/A |\n",
            "+-------------------------------+----------------------+----------------------+\n",
            "                                                                               \n",
            "+-----------------------------------------------------------------------------+\n",
            "| Processes:                                                                  |\n",
            "|  GPU   GI   CI        PID   Type   Process name                  GPU Memory |\n",
            "|        ID   ID                                                   Usage      |\n",
            "|=============================================================================|\n",
            "|    0   N/A  N/A     11372    C+G   ...artMenuExperienceHost.exe    N/A      |\n",
            "|    0   N/A  N/A     16988    C+G   ...txyewy\\MiniSearchHost.exe    N/A      |\n",
            "|    0   N/A  N/A     18444    C+G   ...ekyb3d8bbwe\\YourPhone.exe    N/A      |\n",
            "|    0   N/A  N/A     20844    C+G   ...icrosoft VS Code\\Code.exe    N/A      |\n",
            "|    0   N/A  N/A     21268    C+G   ...ge\\Application\\msedge.exe    N/A      |\n",
            "|    0   N/A  N/A     26980    C+G   ...trationBackGroundTask.exe    N/A      |\n",
            "|    0   N/A  N/A     27896    C+G   Insufficient Permissions        N/A      |\n",
            "|    0   N/A  N/A     27968    C+G   ...n1h2txyewy\\SearchHost.exe    N/A      |\n",
            "|    0   N/A  N/A     30000    C+G   ...2txyewy\\TextInputHost.exe    N/A      |\n",
            "|    0   N/A  N/A     31792    C+G   ...8bbwe\\Microsoft.Notes.exe    N/A      |\n",
            "|    0   N/A  N/A     33100    C+G   ...rvice\\ePowerButton_NB.exe    N/A      |\n",
            "+-----------------------------------------------------------------------------+\n"
          ]
        }
      ],
      "source": [
        "# After enabling the GPU, check its configuration\n",
        "!nvidia-smi"
      ]
    },
    {
      "cell_type": "markdown",
      "metadata": {
        "id": "sAoPLRMcnOHu"
      },
      "source": [
        "## **2/ Cloning and Building Darknet from Cloud**\n",
        "\n",
        "Let's first clone darknet from the AlexeyAB's repository, then adjust the Makefile to enable OPENCV and GPU for darknet and finally compile (build) darknet."
      ]
    },
    {
      "cell_type": "code",
      "execution_count": 3,
      "metadata": {
        "id": "Js7DIqrKnwTY"
      },
      "outputs": [
        {
          "name": "stderr",
          "output_type": "stream",
          "text": [
            "Cloning into 'darknet'...\n",
            "Updating files:  77% (1588/2050)\n",
            "Updating files:  78% (1599/2050)\n",
            "Updating files:  79% (1620/2050)\n",
            "Updating files:  80% (1640/2050)\n",
            "Updating files:  81% (1661/2050)\n",
            "Updating files:  82% (1681/2050)\n",
            "Updating files:  83% (1702/2050)\n",
            "Updating files:  84% (1722/2050)\n",
            "Updating files:  85% (1743/2050)\n",
            "Updating files:  86% (1763/2050)\n",
            "Updating files:  87% (1784/2050)\n",
            "Updating files:  88% (1804/2050)\n",
            "Updating files:  89% (1825/2050)\n",
            "Updating files:  90% (1845/2050)\n",
            "Updating files:  91% (1866/2050)\n",
            "Updating files:  92% (1886/2050)\n",
            "Updating files:  93% (1907/2050)\n",
            "Updating files:  94% (1927/2050)\n",
            "Updating files:  95% (1948/2050)\n",
            "Updating files:  96% (1968/2050)\n",
            "Updating files:  97% (1989/2050)\n",
            "Updating files:  98% (2009/2050)\n",
            "Updating files:  99% (2030/2050)\n",
            "Updating files: 100% (2050/2050)\n",
            "Updating files: 100% (2050/2050), done.\n"
          ]
        }
      ],
      "source": [
        "# clone darknet repo\n",
        "!git clone https://github.com/AlexeyAB/darknet"
      ]
    },
    {
      "cell_type": "code",
      "execution_count": 4,
      "metadata": {
        "id": "-cjWJuernzec"
      },
      "outputs": [
        {
          "name": "stdout",
          "output_type": "stream",
          "text": [
            "c:\\Users\\rufai\\Downloads\\darknet\n"
          ]
        },
        {
          "name": "stderr",
          "output_type": "stream",
          "text": [
            "'sed' is not recognized as an internal or external command,\n",
            "operable program or batch file.\n",
            "'sed' is not recognized as an internal or external command,\n",
            "operable program or batch file.\n",
            "'sed' is not recognized as an internal or external command,\n",
            "operable program or batch file.\n",
            "'sed' is not recognized as an internal or external command,\n",
            "operable program or batch file.\n"
          ]
        }
      ],
      "source": [
        "# change makefile to have GPU and OPENCV enabled\n",
        "%cd darknet\n",
        "!sed -i 's/OPENCV=0/OPENCV=1/' Makefile\n",
        "!sed -i 's/GPU=0/GPU=1/' Makefile\n",
        "!sed -i 's/CUDNN=0/CUDNN=1/' Makefile\n",
        "!sed -i 's/CUDNN_HALF=0/CUDNN_HALF=1/' Makefile"
      ]
    },
    {
      "cell_type": "code",
      "execution_count": null,
      "metadata": {
        "id": "JtS5TmCJGx1U"
      },
      "outputs": [],
      "source": [
        "# check the current path and list\n",
        "!pwd\n",
        "!ls"
      ]
    },
    {
      "cell_type": "code",
      "execution_count": null,
      "metadata": {
        "id": "KsMk9NUJoI9J"
      },
      "outputs": [],
      "source": [
        "# compile (build) darknet using the make command\n",
        "# --> so that you can then use the darknet executable file to predict or to train object detectors\n",
        "# Do not worry about any warnings\n",
        "\n",
        "!make"
      ]
    },
    {
      "cell_type": "code",
      "execution_count": null,
      "metadata": {
        "id": "aGqHC9ivpFpJ"
      },
      "outputs": [],
      "source": [
        "# check if the darknet executable file is fine\n",
        "\n",
        "!./darknet"
      ]
    },
    {
      "cell_type": "markdown",
      "metadata": {
        "id": "Vm6YKbrWor-8"
      },
      "source": [
        "## **3/ Download pre-trained YOLO weights**\n",
        "Several YOLO models have been trained already on the COCO dataset which has 80 classes that it can predict. \n",
        "\n",
        "We will now download the pretrained weights of YOLOv3 and YOLOv4 so that we can run these two models on these pretrained classes and get detections of any image."
      ]
    },
    {
      "cell_type": "code",
      "execution_count": null,
      "metadata": {
        "id": "STebUOOEqu1J"
      },
      "outputs": [],
      "source": [
        "# get YOLOv3 pre-trained weights\n",
        "!wget https://pjreddie.com/media/files/yolov3.weights\n"
      ]
    },
    {
      "cell_type": "code",
      "execution_count": null,
      "metadata": {
        "id": "AegO2Rm_qxMR"
      },
      "outputs": [],
      "source": [
        "# get YOLOv4 pre-trained weights\n",
        "!wget https://github.com/AlexeyAB/darknet/releases/download/darknet_yolo_v3_optimal/yolov4.weights"
      ]
    },
    {
      "cell_type": "markdown",
      "metadata": {
        "id": "Zqo--LaIq84Q"
      },
      "source": [
        "## **4/ Define some helper functions**\n",
        "These three functions are helper functions that will allow you to show the image in your Colab Notebook after running your detections, as well as upload and download images to and from your Cloud Google virtual machine."
      ]
    },
    {
      "cell_type": "code",
      "execution_count": null,
      "metadata": {
        "id": "PCmNwc42rVIL"
      },
      "outputs": [],
      "source": [
        "# define helper functions\n",
        "def imShow(path):\n",
        "  import cv2\n",
        "  import matplotlib.pyplot as plt\n",
        "  %matplotlib inline\n",
        "\n",
        "  image = cv2.imread(path)\n",
        "  height, width = image.shape[:2]\n",
        "  resized_image = cv2.resize(image,(2*width, 2*height), interpolation = cv2.INTER_CUBIC)\n",
        "\n",
        "  fig = plt.gcf()\n",
        "  fig.set_size_inches(12, 8)\n",
        "  plt.axis(\"off\")\n",
        "  plt.imshow(cv2.cvtColor(resized_image, cv2.COLOR_BGR2RGB))\n",
        "  plt.show()\n",
        "\n",
        "# use this to upload files\n",
        "def upload():\n",
        "  from google.colab import files\n",
        "  uploaded = files.upload() \n",
        "  for name, data in uploaded.items():\n",
        "    with open(name, 'wb') as f:\n",
        "      f.write(data)\n",
        "      print ('saved file', name)\n",
        "\n",
        "# use this to download a file  \n",
        "def download(path):\n",
        "  from google.colab import files\n",
        "  files.download(path)"
      ]
    },
    {
      "cell_type": "markdown",
      "metadata": {
        "id": "Xet7hVI1r4DN"
      },
      "source": [
        "## **5/ Run your detections with Darknet using YOLO models**\n",
        "Darknet is now built and ready to run detections using YOLO models in the cloud! You can find out which sorts of classes the pre-trained YOLO weights can detect by clicking here. [COCO CLASSES](http://cocodataset.org/#explore)\n",
        "\n",
        "The object detector can be run using the following command\n",
        "```bash\n",
        "!./darknet detector test <path to .data file> <path to config> <path to weights> <path to image>\n",
        "```\n",
        "Darknet comes with a few images already installed in the darknet/data/ folder.\n",
        "\n",
        "**Note:** After running detections OpenCV can't open the image instantly in the cloud so we must run: \n",
        "```bash\n",
        "imShow('predictions.jpg')\n",
        "```\n",
        "This will output the image with the detections shown. The most recent detections are always saved to 'predictions.jpg'\n",
        "\n",
        "Try out the examples below for yourself!"
      ]
    },
    {
      "cell_type": "code",
      "execution_count": null,
      "metadata": {
        "id": "In5L_X048IRZ"
      },
      "outputs": [],
      "source": [
        "imShow('data/person.jpg')"
      ]
    },
    {
      "cell_type": "code",
      "execution_count": null,
      "metadata": {
        "id": "s2t5Qh-BsV2T"
      },
      "outputs": [],
      "source": [
        "# run darknet detection on test images using YOLOv3\n",
        "!./darknet detector test cfg/coco.data cfg/yolov4.cfg yolov4.weights data/person.jpg"
      ]
    },
    {
      "cell_type": "code",
      "execution_count": null,
      "metadata": {
        "id": "I7kV-g0_sm-U"
      },
      "outputs": [],
      "source": [
        "# show the detection result\n",
        "imShow('predictions.jpg')"
      ]
    },
    {
      "cell_type": "code",
      "execution_count": null,
      "metadata": {
        "id": "70oBSpVbs51q"
      },
      "outputs": [],
      "source": [
        "# do the same thing using YOLOv4\n",
        "# ..............\n",
        "# .............\n"
      ]
    },
    {
      "cell_type": "code",
      "execution_count": null,
      "metadata": {
        "id": "nhS-S0P7t5YY"
      },
      "outputs": [],
      "source": [
        "# then test on other images from the data folder\n",
        "# ..............\n",
        "# ............."
      ]
    },
    {
      "cell_type": "markdown",
      "metadata": {
        "id": "yY_q_DvOuO5y"
      },
      "source": [
        "## **6/ Uploading image files from your local machine or your Google Drive for detection**\n",
        "\n",
        "You may want to run detections on more than just the images within the darknet/data/ folder. This step will show you how to upload local or Google Drive files to the cloud VM and run detections on them!"
      ]
    },
    {
      "cell_type": "markdown",
      "metadata": {
        "id": "9jyY3wmzuvkC"
      },
      "source": [
        "### a) From Local Files\n",
        "To upload local files just use our helper function by running 'upload()' as seen below. Click Choose Files and select the image from your local machine that you want to upload to the cloud VM.\n",
        "\n",
        "Otherwise, you can simple use the Upload button in the File Explorer on the left side of your notebook.\n",
        "\n",
        "To detect objects from your image using YOLOv3, simple do.\n",
        "\n",
        "```\n",
        "!./darknet detector test cfg/coco.data cfg/yolov3.cfg yolov3.weights ../<your image name>\n",
        "```"
      ]
    },
    {
      "cell_type": "code",
      "execution_count": null,
      "metadata": {
        "id": "Lhjer6dnzQQ1"
      },
      "outputs": [],
      "source": [
        "!pwd"
      ]
    },
    {
      "cell_type": "code",
      "execution_count": null,
      "metadata": {
        "id": "ES6yX6jLvPik"
      },
      "outputs": [],
      "source": [
        "upload()"
      ]
    },
    {
      "cell_type": "code",
      "execution_count": null,
      "metadata": {
        "id": "cRtkfYh99aM3"
      },
      "outputs": [],
      "source": [
        "imShow('img_test_02.jpg')"
      ]
    },
    {
      "cell_type": "code",
      "execution_count": null,
      "metadata": {
        "id": "h98-ZtnC9j7e"
      },
      "outputs": [],
      "source": [
        "!./darknet detector test cfg/coco.data cfg/yolov4.cfg yolov4.weights img_test_02.jpg\n",
        "\n",
        "imShow('predictions.jpg')"
      ]
    },
    {
      "cell_type": "code",
      "execution_count": null,
      "metadata": {
        "id": "0hkolglF_KxK"
      },
      "outputs": [],
      "source": [
        "!./darknet detector test cfg/coco.data cfg/yolov4.cfg yolov4.weights data/dog.jpg\n",
        "\n",
        "imShow('predictions.jpg')"
      ]
    },
    {
      "cell_type": "code",
      "execution_count": null,
      "metadata": {
        "id": "wPk5XMSyyNRz"
      },
      "outputs": [],
      "source": [
        "# detect with YOLOv3 or YOLOv4\n",
        "# ..............\n",
        "# .............\n",
        "\n",
        "# images.txt\n",
        "\n",
        "# /data/images1.jpg\n",
        "# /data/images2.jpg"
      ]
    },
    {
      "cell_type": "markdown",
      "metadata": {
        "id": "Ek4U5C9G0jSU"
      },
      "source": [
        "### b) From your Google Drive by mounting your drive"
      ]
    },
    {
      "cell_type": "code",
      "execution_count": null,
      "metadata": {
        "id": "qgrHGExE0rUG"
      },
      "outputs": [],
      "source": [
        "%cd ..\n",
        "from google.colab import drive\n",
        "drive.mount('/content/gdrive')"
      ]
    },
    {
      "cell_type": "code",
      "execution_count": null,
      "metadata": {
        "id": "NjQBBI9P1g2M"
      },
      "outputs": [],
      "source": [
        "# this creates a symbolic link so that now the path /content/gdrive/My\\ Drive/ is equal to /mydrive\n",
        "!ln -s /content/gdrive/My\\ Drive/ /mydrive\n",
        "!ls /mydrive"
      ]
    },
    {
      "cell_type": "code",
      "execution_count": null,
      "metadata": {
        "id": "EMdKnhcv1lxc"
      },
      "outputs": [],
      "source": [
        "# cd back into the darknet folder to run detections\n",
        "%cd darknet"
      ]
    },
    {
      "cell_type": "code",
      "execution_count": null,
      "metadata": {
        "id": "MbC3_ls50ueP"
      },
      "outputs": [],
      "source": [
        "# then upload your images and test on them\n",
        "#................"
      ]
    },
    {
      "cell_type": "markdown",
      "metadata": {
        "id": "ypVnxDEQ0-w0"
      },
      "source": [
        "### c) Download Files to Local Machine or Google Drive from Cloud VM\n",
        "\n",
        "You can also easily download images from your cloud VM to save to your local machine or Google Drive."
      ]
    },
    {
      "cell_type": "code",
      "execution_count": null,
      "metadata": {
        "id": "urfnQxx61KL1"
      },
      "outputs": [],
      "source": [
        "# LOCAL MACHINE DOWNLOAD\n",
        "# using helper function to download the prediction image\n",
        "\n",
        "download('predictions.jpg')"
      ]
    },
    {
      "cell_type": "code",
      "execution_count": null,
      "metadata": {
        "id": "sAYgGf__1Pj-"
      },
      "outputs": [],
      "source": [
        "# GOOGLE DRIVE DOWNLOAD\n",
        "# note that I can change what the image name is saved as (I am saving it as detection1.jpg)\n",
        "\n",
        "!cp predictions.jpg /mydrive/images/detection1.jpg"
      ]
    },
    {
      "cell_type": "markdown",
      "metadata": {
        "id": "zIiqNN6h1wCE"
      },
      "source": [
        "## **7/ Let's try with a video**\n",
        "\n",
        "You can also run YOLOv4 object detections on video in your Google Colab VM (from your local machine or from your Google Drive)."
      ]
    },
    {
      "cell_type": "code",
      "execution_count": null,
      "metadata": {
        "id": "J2HKgjl32AAA"
      },
      "outputs": [],
      "source": [
        "# check\n",
        "!pwd\n"
      ]
    },
    {
      "cell_type": "code",
      "execution_count": null,
      "metadata": {
        "id": "8BDC8kcc2B_X"
      },
      "outputs": [],
      "source": [
        "# upload the video of your choosing!\n",
        "upload()\n"
      ]
    },
    {
      "cell_type": "code",
      "execution_count": null,
      "metadata": {
        "id": "yxuQDjBt2Hl2"
      },
      "outputs": [],
      "source": [
        "# try this\n",
        "!./darknet detector demo cfg/coco.data cfg/yolov4.cfg yolov4.weights -dont_show test_video.mp4 -i 0 -out_filename results_video.avi\n"
      ]
    },
    {
      "cell_type": "code",
      "execution_count": null,
      "metadata": {
        "id": "xzEcBeJw2O3g"
      },
      "outputs": [],
      "source": [
        "# download the video with detections shown\n",
        "download('results_video.avi')\n"
      ]
    },
    {
      "cell_type": "markdown",
      "metadata": {
        "id": "tYZfsUFE2dPP"
      },
      "source": [
        "## **8/ Now, customize YOLO prediction with the different thresholds**\n",
        "\n",
        "There is a flag '-thresh' you can use to add a threshold for confidences on the detections.  Only detections with a confidence level above the threshold you set will be returned.\n",
        "\n",
        "In the example below we run darknet with YOLOv4 without a threshold on the test image dog.jpg, without and with the '-thresh' flag. Let's observe the result.\n"
      ]
    },
    {
      "cell_type": "code",
      "execution_count": null,
      "metadata": {
        "id": "ov9ycue73R7I"
      },
      "outputs": [],
      "source": [
        "# this is ran without the threshold flag set\n",
        "!./darknet detector test cfg/coco.data cfg/yolov4.cfg yolov4.weights data/dog.jpg\n",
        "imShow('predictions.jpg')"
      ]
    },
    {
      "cell_type": "code",
      "execution_count": null,
      "metadata": {
        "id": "dHN2fVXD3VDK"
      },
      "outputs": [],
      "source": [
        "# same detections but ran with the threshold flag set to 0.5 \n",
        "!./darknet detector test cfg/coco.data cfg/yolov4.cfg yolov4.weights data/dog.jpg -thresh 0.5\n",
        "imShow('predictions.jpg')\n"
      ]
    },
    {
      "cell_type": "markdown",
      "metadata": {
        "id": "CraWJVRe3rSw"
      },
      "source": [
        "You can also output bounding box coordinates for each detection with the flag '-ext_output'. This external outputs flag will give you a few extra details about each detection within an image."
      ]
    },
    {
      "cell_type": "code",
      "execution_count": null,
      "metadata": {
        "id": "2gFajwSy3wG9"
      },
      "outputs": [],
      "source": [
        "# darknet run with external output flag to print bounding box coordinates\n",
        "!./darknet detector test cfg/coco.data cfg/yolov4.cfg yolov4.weights data/person.jpg -ext_output\n",
        "imShow('predictions.jpg')\n"
      ]
    },
    {
      "cell_type": "markdown",
      "metadata": {
        "id": "C3BhyT3H3LYF"
      },
      "source": [
        "## **9/ Train a YOLO model on your own data (MUNICH dataset)**\n",
        "\n",
        "We can train any YOLO models on our own data by using the following command line (https://github.com/AlexeyAB/darknet)\n",
        "\n",
        "```\n",
        " !./darknet detector train [data config file] [model config file] [pretrain-model weights] -dont_show > [file log saved]\n",
        " ```\n",
        "\n",
        " You can see that we need to create a data configuration file *(.data)* and a model configuration file *(.cfg)*. We also need a *'.names'* file which contains the names of objects to be detected.\n",
        "\n",
        " The necessary steps are described in the section: **How to train (to detect your custom objects)** of the repository.\n",
        "\n",
        " Let's practice with the MUNICH dataset downloaded from here:\n",
        " (https://filesender.renater.fr/?s=download&token=a3b67151-81b2-4bfa-bd9b-cce166daa833)"
      ]
    },
    {
      "cell_type": "code",
      "execution_count": null,
      "metadata": {
        "id": "INgBapM1_COJ"
      },
      "outputs": [],
      "source": [
        "!pwd"
      ]
    },
    {
      "cell_type": "code",
      "execution_count": null,
      "metadata": {
        "id": "hOHXt2LW_cpp"
      },
      "outputs": [],
      "source": []
    },
    {
      "cell_type": "markdown",
      "metadata": {
        "id": "hDdGy1i7o7t2"
      },
      "source": [
        "## **10/ Evaluate and compare different YOLO models on the VEDAI and XVIEW datasets**\n",
        "\n",
        "We can train any YOLO models on our own data by using the following command line (https://github.com/AlexeyAB/darknet)\n",
        "\n",
        "```\n",
        " !./darknet detector map [data config file] [model config file] [pretrain-model weights] -iou_thresh 0.xx -dont_show > [file log saved]\n",
        " ```\n",
        "\n",
        "Data and configuration files (and pre-trained weights in case of not enough time) will be provided. You will be asked to test different models with different thresholds and create a comparison tables on different metrics.\n",
        "\n"
      ]
    }
  ],
  "metadata": {
    "accelerator": "GPU",
    "colab": {
      "collapsed_sections": [],
      "name": "ImageAnalysis-objectDetection-lab.ipynb",
      "provenance": [],
      "toc_visible": true
    },
    "kernelspec": {
      "display_name": "Python 3",
      "name": "python3"
    },
    "language_info": {
      "codemirror_mode": {
        "name": "ipython",
        "version": 3
      },
      "file_extension": ".py",
      "mimetype": "text/x-python",
      "name": "python",
      "nbconvert_exporter": "python",
      "pygments_lexer": "ipython3",
      "version": "3.8.10"
    }
  },
  "nbformat": 4,
  "nbformat_minor": 0
}
