{
 "cells": [
  {
   "cell_type": "markdown",
   "metadata": {},
   "source": [
    "# Morphological Hierarchies: Trees\n",
    "\n",
    "![](img/partition_inclusion.svg)\n",
    "\n",
    "Partition vs inclusion trees."
   ]
  },
  {
   "cell_type": "markdown",
   "metadata": {},
   "source": [
    "## Component trees: min and max-trees\n",
    "\n",
    "![](img/bosilj_inclusion_image.svg)\n",
    "![](img/bosilj_inclusion_min.svg)\n",
    "![](img/bosilj_inclusion_max.svg)"
   ]
  },
  {
   "cell_type": "markdown",
   "metadata": {},
   "source": [
    "# LiDAR DEMs\n",
    "\n",
    "LiDAR (Light Detection and Ranging) provides precise 3D scans of landscapes and cities. LiDAR systems can be embedded in aircraft to provide Aerial Laser Scanning (ALS)."
   ]
  },
  {
   "cell_type": "code",
   "execution_count": 2,
   "metadata": {},
   "outputs": [
    {
     "data": {
      "text/html": [
       "\n",
       "<div align=\"middle\">\n",
       "<video width=\"80%\" controls>\n",
       "      <source src=\"https://upload.wikimedia.org/wikipedia/commons/transcoded/e/ec/50_Kilometers_of_Brazilian_Forest_Canopy.webm/50_Kilometers_of_Brazilian_Forest_Canopy.webm.360p.vp9.webm\" type=\"video/webm\">\n",
       "</video></div>"
      ],
      "text/plain": [
       "<IPython.core.display.HTML object>"
      ]
     },
     "execution_count": 2,
     "metadata": {},
     "output_type": "execute_result"
    }
   ],
   "source": [
    "from IPython.display import HTML\n",
    "\n",
    "HTML(\"\"\"\n",
    "<div align=\"middle\">\n",
    "<video width=\"80%\" controls>\n",
    "      <source src=\"https://upload.wikimedia.org/wikipedia/commons/transcoded/e/ec/50_Kilometers_of_Brazilian_Forest_Canopy.webm/50_Kilometers_of_Brazilian_Forest_Canopy.webm.360p.vp9.webm\" type=\"video/webm\">\n",
    "</video></div>\"\"\")"
   ]
  },
  {
   "cell_type": "markdown",
   "metadata": {},
   "source": [
    "## Digital Elevation Models\n",
    "\n",
    "![DSM vs DTM](img/dem.svg)\n",
    "\n",
    "Difference between the Digital Surface Model (DSM) and the Digital Terrain Model (DTM)."
   ]
  },
  {
   "cell_type": "markdown",
   "metadata": {},
   "source": [
    "# LiDAR DSM\n",
    "\n",
    "![](img/dsm_to_component_tree_3.svg)\n",
    "\n",
    "LiDAR derived DSM."
   ]
  },
  {
   "cell_type": "markdown",
   "metadata": {},
   "source": [
    "# Component Tree of LiDAR DSM\n",
    "\n",
    "![](img/dsm_to_component_tree_20.svg)\n",
    "\n",
    "Flat zones in the DSM, and the max-tree of the DSM."
   ]
  },
  {
   "cell_type": "markdown",
   "metadata": {},
   "source": []
  }
 ],
 "metadata": {
  "interpreter": {
   "hash": "27925b750a083e3b47c4ec71956773ceb2a89b99aaa44791cf9c231ea38145a2"
  },
  "kernelspec": {
   "display_name": "Python 3.9.7 64-bit ('gdal': conda)",
   "name": "python3"
  },
  "language_info": {
   "codemirror_mode": {
    "name": "ipython",
    "version": 3
   },
   "file_extension": ".py",
   "mimetype": "text/x-python",
   "name": "python",
   "nbconvert_exporter": "python",
   "pygments_lexer": "ipython3",
   "version": "3.9.7"
  }
 },
 "nbformat": 4,
 "nbformat_minor": 4
}
