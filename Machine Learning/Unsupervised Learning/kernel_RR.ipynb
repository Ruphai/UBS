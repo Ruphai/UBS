{
  "nbformat": 4,
  "nbformat_minor": 0,
  "metadata": {
    "colab": {
      "name": "kernel_RR.ipynb",
      "provenance": [],
      "collapsed_sections": []
    },
    "kernelspec": {
      "name": "python3",
      "display_name": "Python 3"
    },
    "language_info": {
      "name": "python"
    }
  },
  "cells": [
    {
      "cell_type": "markdown",
      "metadata": {
        "id": "nKKFmRClRkFQ"
      },
      "source": [
        "Let us consider the following set of points following roughly a linear trend\n",
        "$\n",
        "(y = ax + b)$ with $x \\in [-5, 5]$"
      ]
    },
    {
      "cell_type": "code",
      "metadata": {
        "id": "qES7L8I_Ra5a"
      },
      "source": [
        "import math\n",
        "import random\n",
        "import numpy as np\n",
        "import matplotlib.pyplot as plt\n",
        "from sklearn import linear_model\n",
        "from sklearn.metrics import mean_squared_error, r2_score\n",
        "from sklearn.kernel_ridge import KernelRidge"
      ],
      "execution_count": 31,
      "outputs": []
    },
    {
      "cell_type": "code",
      "metadata": {
        "id": "SKg6pymNSehC"
      },
      "source": [
        "#creating a list of 11 values randomly\n",
        "x = []\n",
        "y = []\n",
        "for i in range(-5,6):\n",
        "  list_x = i\n",
        "  rnd_number = random.uniform(-3,3)\n",
        "  list_y = i + rnd_number\n",
        "  x.append(list_x)\n",
        "  y.append(list_y)"
      ],
      "execution_count": 34,
      "outputs": []
    },
    {
      "cell_type": "markdown",
      "metadata": {
        "id": "kh0Jlp1KbDiM"
      },
      "source": [
        "Q1: Use sklearn (from sklearn import linear_model) to provide a linear\n",
        "regression on the previous 11 points. And display the predictions on 1000 values\n",
        "of x taken incrementally in [-5, 5] and display the results (the 11 previous\n",
        "points and the regression line connecting the regression points)."
      ]
    },
    {
      "cell_type": "code",
      "metadata": {
        "id": "cUvB-5RRWaOv"
      },
      "source": [
        "pred = []\n",
        "# Create list with 1010 points in interval x:[-5,5]\n",
        "for i in range(-50,51):       \n",
        "  list_pred = 0.1*i\n",
        "  pred.append(list_pred)"
      ],
      "execution_count": 35,
      "outputs": []
    },
    {
      "cell_type": "code",
      "metadata": {
        "id": "AJ2ycdLCcCGt"
      },
      "source": [
        "# Transform lists to np arrays\n",
        "x = np.array(x).reshape(-1, 1)\n",
        "pred = np.array(pred).reshape(-1, 1)"
      ],
      "execution_count": 36,
      "outputs": []
    },
    {
      "cell_type": "code",
      "metadata": {
        "id": "J-74qWXOdP_M"
      },
      "source": [
        "#computing linear regression\n",
        "regr = linear_model.LinearRegression()\n",
        "regr.fit(x,y)\n",
        "#prediction for pred values\n",
        "pred_y=regr.predict(pred)\n",
        "\n",
        "# Calculating value of linear regressor at 11 points in interval x:[-5,5]\n",
        "new_y = regr.predict(x)"
      ],
      "execution_count": 37,
      "outputs": []
    },
    {
      "cell_type": "code",
      "metadata": {
        "colab": {
          "base_uri": "https://localhost:8080/",
          "height": 312
        },
        "id": "2WZAMZMNd4tx",
        "outputId": "5ab87af9-119d-4858-a243-9667de4d0f32"
      },
      "source": [
        "# Print rmse value\n",
        "rmse = math.sqrt(mean_squared_error(new_y, y))\n",
        "print('Root Mean Squared Error:', rmse)\n",
        "\n",
        "# Set axes and labels\n",
        "fig = plt.figure()\n",
        "ax = fig.add_subplot()\n",
        "ax.set_xlim(-5.5,5.5)\n",
        "ax.set_ylim(-5.5,5.5)\n",
        "ax.xaxis.set_ticks(range(-5,6))\n",
        "ax.yaxis.set_ticks(range(-5,6))\n",
        "ax.set_xlabel('x')\n",
        "ax.set_ylabel('y')\n",
        "#ax.annotate(u'$RMSE$ = %.1f' % rmse, xy=(0.15,0.85), xycoords='axes fraction')\n",
        "# Plot as orange line the regression line at interval\n",
        "plt.plot(pred,pred_y,color='C1',linestyle='solid',linewidth=2)\n",
        "# Plot as blue points the original database\n",
        "plt.scatter(x, y,color='C0')"
      ],
      "execution_count": 38,
      "outputs": [
        {
          "output_type": "stream",
          "name": "stdout",
          "text": [
            "Root Mean Squared Error: 0.7810797397786132\n"
          ]
        },
        {
          "output_type": "execute_result",
          "data": {
            "text/plain": [
              "<matplotlib.collections.PathCollection at 0x7f0f8be4ce10>"
            ]
          },
          "metadata": {},
          "execution_count": 38
        },
        {
          "output_type": "display_data",
          "data": {
            "image/png": "[encoded data removed]",
            "text/plain": [
              "<Figure size 432x288 with 1 Axes>"
            ]
          },
          "metadata": {
            "needs_background": "light"
          }
        }
      ]
    },
    {
      "cell_type": "markdown",
      "metadata": {
        "id": "01a40A1wfcgS"
      },
      "source": [
        "Q2: Use again sklearn (from sklearn import linear_model) to provide\n",
        "a linear regression on the previous 21 points. And display the predictions on\n",
        "1000 values of x taken incrementally in [-5; 5] and display the results (the 11\n",
        "previous points and the regression line connecting the regression points)."
      ]
    },
    {
      "cell_type": "code",
      "metadata": {
        "id": "Hn_9Os1AQ5Ce"
      },
      "source": [
        "pred = []\n",
        "# Create list with 1010 points in interval x:[-5,5]\n",
        "for i in range(-50,51):\n",
        "  list_pred = 0.1*i\n",
        "  pred.append(list_pred)\n",
        "    \n",
        "pred = np.linspace(-5,6,100)"
      ],
      "execution_count": 39,
      "outputs": []
    },
    {
      "cell_type": "code",
      "metadata": {
        "id": "FnBKVW7_Q8U2"
      },
      "source": [
        "#creating a list of 21 values randomly\n",
        "x = []\n",
        "y = []\n",
        "#for i in range(-5,6):\n",
        "for i in np.linspace(-5,6,21):\n",
        "  list_x = i\n",
        "  rnd_number = random.uniform(-3,3)\n",
        "  list_y = list_x + rnd_number\n",
        "  x.append(list_x)\n",
        "  y.append(list_y)"
      ],
      "execution_count": 40,
      "outputs": []
    },
    {
      "cell_type": "code",
      "metadata": {
        "id": "NbBcR_QSQ-i6"
      },
      "source": [
        "# Transform lists to np arrays\n",
        "x = np.array(x).reshape(-1, 1)\n",
        "pred = np.array(pred).reshape(-1, 1)"
      ],
      "execution_count": 41,
      "outputs": []
    },
    {
      "cell_type": "code",
      "metadata": {
        "id": "3H8MTLGCRAoT"
      },
      "source": [
        "#computing linear regression\n",
        "regr = linear_model.LinearRegression()\n",
        "regr.fit(x,y)\n",
        "#prediction for pred values\n",
        "pred_y=regr.predict(pred)\n",
        "\n",
        "# Calculating value of linear regressor at 11 points in interval x:[-5,5]\n",
        "new_y = regr.predict(x)"
      ],
      "execution_count": 42,
      "outputs": []
    },
    {
      "cell_type": "code",
      "metadata": {
        "colab": {
          "base_uri": "https://localhost:8080/",
          "height": 312
        },
        "id": "BrBv87EkRCvP",
        "outputId": "f88916de-b01b-4ecd-eee2-f5934ac557e2"
      },
      "source": [
        "# Print rmse value\n",
        "rmse = math.sqrt(mean_squared_error(new_y, y))\n",
        "print('Root Mean Squared Error:', rmse)\n",
        "\n",
        "# Set axes and labels\n",
        "fig = plt.figure()\n",
        "ax = fig.add_subplot()\n",
        "#ax.set_xlim(-10.5,10.5)\n",
        "#ax.set_ylim(-10.5,10.5)\n",
        "ax.xaxis.set_ticks(range(-10,10))\n",
        "ax.yaxis.set_ticks(range(-10,10))\n",
        "ax.set_xlabel('x')\n",
        "ax.set_ylabel('y')\n",
        "#ax.annotate(u'$RMSE$ = %.1f' % rmse, xy=(0.15,0.85), xycoords='axes fraction')\n",
        "# Plot as orange line the regression line at interval\n",
        "plt.plot(pred,pred_y,color='C1',linestyle='solid',linewidth=2)\n",
        "# Plot as blue points the original database\n",
        "plt.scatter(x, y,color='C0')"
      ],
      "execution_count": 43,
      "outputs": [
        {
          "output_type": "stream",
          "name": "stdout",
          "text": [
            "Root Mean Squared Error: 1.7041032653478163\n"
          ]
        },
        {
          "output_type": "execute_result",
          "data": {
            "text/plain": [
              "<matplotlib.collections.PathCollection at 0x7f0f8be4cf10>"
            ]
          },
          "metadata": {},
          "execution_count": 43
        },
        {
          "output_type": "display_data",
          "data": {
            "image/png": "[encoded data removed]",
            "text/plain": [
              "<Figure size 432x288 with 1 Axes>"
            ]
          },
          "metadata": {
            "needs_background": "light"
          }
        }
      ]
    },
    {
      "cell_type": "markdown",
      "metadata": {
        "id": "f6pavimQgG2Z"
      },
      "source": [
        "Q3: Use sklearn (from sklearn.kernel_ridge import KernelRidge) to\n",
        "provide a kernel ridge regression on the previous 21 points using a polynomial\n",
        "kernel $K(x1,x2) = (\\gamma x^T_1x2+c)^d$, where $\\gamma$ and c are parameters and d is the\n",
        "degree of the polynomial. You will vary $d = 2,3,4,5 $And display the predictions\n",
        "on 1000 values of x taken incrementally in [-5; 5] and display the results (the\n",
        "21 previous points and the 1000 regression points)."
      ]
    },
    {
      "cell_type": "code",
      "metadata": {
        "id": "f-Mq33czS3oF"
      },
      "source": [
        "# Initialize lists and set random seed\n",
        "list_x = []\n",
        "list_y = []\n",
        "list_x_pred = []\n",
        "list_y_real = []"
      ],
      "execution_count": 44,
      "outputs": []
    },
    {
      "cell_type": "code",
      "metadata": {
        "id": "XtVAwXTSS66K"
      },
      "source": [
        "# Create database with 21 points following quasi-lienar relation in interval x:[-5,5]\n",
        "for i in range(-10,11):\n",
        "    x = i*0.5\n",
        "    rnd_number= random.uniform(-1,1)\n",
        "    y = (x+4)*(x+1)*(x-1)*(x-3) + rnd_number\n",
        "    list_x.append(x)\n",
        "    list_y.append(y)\n",
        "    #print(x,y)"
      ],
      "execution_count": 46,
      "outputs": []
    },
    {
      "cell_type": "code",
      "metadata": {
        "id": "dyZzE7j8S_Oe"
      },
      "source": [
        "# Create list with 1060 points in interval x:[-5,5]\n",
        "for i in range(-50,51):\n",
        "    x = 0.1*i\n",
        "    list_x_pred.append(x)\n",
        "    list_y_real.append((x+4)*(x+1)*(x-1)*(x-3))"
      ],
      "execution_count": 47,
      "outputs": []
    },
    {
      "cell_type": "code",
      "metadata": {
        "id": "1kcxIqaITBuU"
      },
      "source": [
        "# Transform lists to np arrays\n",
        "list_x = np.array(list_x).reshape(-1, 1)\n",
        "list_x_pred = np.array(list_x_pred).reshape(-1, 1)"
      ],
      "execution_count": 48,
      "outputs": []
    },
    {
      "cell_type": "code",
      "metadata": {
        "colab": {
          "base_uri": "https://localhost:8080/"
        },
        "id": "9jnSZWCxTFrD",
        "outputId": "8f0c8a94-63b1-40ea-b8b0-c779809cce37"
      },
      "source": [
        "# Do kernel ridge regression using database with 21 points\n",
        "list_y_pred = []\n",
        "short_list_y_pred = []\n",
        "rmse_list = []\n",
        "# For each of the tested polynomial degree values\n",
        "for degree_value in [2,3,4,5]:\n",
        "    krr = KernelRidge(alpha=1.0,kernel='polynomial',degree=degree_value)\n",
        "    krr.fit(list_x,list_y)\n",
        "    list_y_pred.append(krr.predict(list_x_pred))\n",
        "    new_y = krr.predict(list_x)\n",
        "    short_list_y_pred.append(new_y)\n",
        "    # Print rmse value\n",
        "    rmse = math.sqrt(mean_squared_error(new_y, list_y))\n",
        "    rmse_list.append(rmse)\n",
        "    print('############################')\n",
        "    print('Degree:', degree_value)\n",
        "    print('Root Mean Squared Error: %.1f' % rmse)"
      ],
      "execution_count": 49,
      "outputs": [
        {
          "output_type": "stream",
          "name": "stdout",
          "text": [
            "############################\n",
            "Degree: 2\n",
            "Root Mean Squared Error: 59.8\n",
            "############################\n",
            "Degree: 3\n",
            "Root Mean Squared Error: 55.9\n",
            "############################\n",
            "Degree: 4\n",
            "Root Mean Squared Error: 0.7\n",
            "############################\n",
            "Degree: 5\n",
            "Root Mean Squared Error: 0.7\n"
          ]
        }
      ]
    },
    {
      "cell_type": "code",
      "metadata": {
        "colab": {
          "base_uri": "https://localhost:8080/",
          "height": 312
        },
        "id": "b6K6yc3TTMYk",
        "outputId": "e7d4bb56-5960-4a19-b6b8-2449385385fe"
      },
      "source": [
        "# Set axes and labels\n",
        "fig, axs = plt.subplots(2, 2)\n",
        "for ax in axs.flat:\n",
        "    ax.set(xlabel='x', ylabel='y')\n",
        "# Hide x labels and tick labels for top plots and y ticks for right plots.\n",
        "for ax in axs.flat:\n",
        "    ax.label_outer()\n",
        "# Subplot top-left\n",
        "axs[0, 0].scatter(list_x, list_y,color='C0')\n",
        "axs[0, 0].plot(list_x_pred,list_y_pred[0],color='C1')\n",
        "axs[0, 0].set_title(r'$d = 2$')\n",
        "axs[0, 0].set_xlim(-5.5,5.5)\n",
        "axs[0, 0].set_ylim(-100,500)\n",
        "axs[0, 0].annotate(u'$RMSE$ = %.1f' % rmse_list[0], xy=(0.15,0.85), xycoords='axes fraction')\n",
        "# Subplot top-right\n",
        "axs[0, 1].scatter(list_x, list_y,color='C0')\n",
        "axs[0, 1].plot(list_x_pred,list_y_pred[1], color='C1')\n",
        "axs[0, 1].set_title(r'$d = 3$')\n",
        "axs[0, 1].set_xlim(-5.5,5.5)\n",
        "axs[0, 1].set_ylim(-100,500)\n",
        "axs[0, 1].annotate(u'$RMSE$ = %.1f' % rmse_list[1], xy=(0.15,0.85), xycoords='axes fraction')\n",
        "# Subplot bottom-left\n",
        "axs[1, 0].scatter(list_x, list_y,color='C0')\n",
        "axs[1, 0].plot(list_x_pred,list_y_pred[2], color='C1')\n",
        "axs[1, 0].set_title(r'$d = 4$')\n",
        "axs[1, 0].set_xlim(-5.5,5.5)\n",
        "axs[1, 0].set_ylim(-100,500)\n",
        "axs[1, 0].annotate(u'$RMSE$ = %.1f' % rmse_list[2], xy=(0.15,0.85), xycoords='axes fraction')\n",
        "# Subplot bottom-right\n",
        "axs[1, 1].scatter(list_x, list_y,color='C0')\n",
        "axs[1, 1].plot(list_x_pred,list_y_pred[3], color='C1')\n",
        "axs[1, 1].set_title(r'$d = 5$')\n",
        "axs[1, 1].set_xlim(-5.5,5.5)\n",
        "axs[1, 1].set_ylim(-100,500)\n",
        "axs[1, 1].annotate(u'$RMSE$ = %.1f' % rmse_list[3], xy=(0.15,0.85), xycoords='axes fraction')"
      ],
      "execution_count": 50,
      "outputs": [
        {
          "output_type": "execute_result",
          "data": {
            "text/plain": [
              "Text(0.15, 0.85, '$RMSE$ = 0.7')"
            ]
          },
          "metadata": {},
          "execution_count": 50
        },
        {
          "output_type": "display_data",
          "data": {
            "image/png": "[encoded data removed]",
            "text/plain": [
              "<Figure size 432x288 with 4 Axes>"
            ]
          },
          "metadata": {
            "needs_background": "light"
          }
        }
      ]
    },
    {
      "cell_type": "code",
      "metadata": {
        "id": "IrWDt7IHiTxu"
      },
      "source": [
        ""
      ],
      "execution_count": 50,
      "outputs": []
    }
  ]
}