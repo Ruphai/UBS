{
  "nbformat": 4,
  "nbformat_minor": 0,
  "metadata": {
    "kernelspec": {
      "display_name": "Python 3",
      "language": "python",
      "name": "python3"
    },
    "language_info": {
      "codemirror_mode": {
        "name": "ipython",
        "version": 3
      },
      "file_extension": ".py",
      "mimetype": "text/x-python",
      "name": "python",
      "nbconvert_exporter": "python",
      "pygments_lexer": "ipython3",
      "version": "3.8.3"
    },
    "colab": {
      "name": "Linear Regression_RufaiBalogun.ipynb",
      "provenance": [],
      "collapsed_sections": [
        "eyoS2n-M5oxb",
        "dl7hbp375oxd",
        "JDHFSM6f5oxe",
        "BiWEDr3OtLho",
        "fZaUOsaN5oxh",
        "FILPwOG35oxi",
        "3XDp9l-n5oxj",
        "zyVdNA4E5oxk"
      ],
      "include_colab_link": true
    }
  },
  "cells": [
    {
      "cell_type": "markdown",
      "metadata": {
        "id": "view-in-github",
        "colab_type": "text"
      },
      "source": [
        "<a href=\"https://colab.research.google.com/github/Ruphai/UBS/blob/main/Linear_Regression_RufaiBalogun.ipynb\" target=\"_parent\"><img src=\"https://colab.research.google.com/assets/colab-badge.svg\" alt=\"Open In Colab\"/></a>"
      ]
    },
    {
      "cell_type": "markdown",
      "metadata": {
        "id": "c6Off6xe5oxX"
      },
      "source": [
        "#**Linear Regression by using the gradient descent algorithm**\n",
        "\n",
        "In this notebook, we take a quick look at the optimisation function, herein called gradient descent and how it influences the selection of our model parameters. In this implementation, we considered the frequentist linear regression, where estimated the model parameter using a Maximum Likelihood Estimation. Afterwards, we evaluated how the model costs adjusted at each iteration of the gradient descent algorithm."
      ]
    },
    {
      "cell_type": "markdown",
      "metadata": {
        "id": "eyoS2n-M5oxb"
      },
      "source": [
        "## Workspace utilities"
      ]
    },
    {
      "cell_type": "code",
      "metadata": {
        "id": "gTbn696C5oxb"
      },
      "source": [
        "from sklearn import datasets\n",
        "import os\n",
        "import pandas as pd # data analysis\n",
        "from scipy import stats # statistical description\n",
        "import matplotlib.pyplot as plt # visualization\n",
        "import numpy as np # mathetical computation"
      ],
      "execution_count": null,
      "outputs": []
    },
    {
      "cell_type": "code",
      "metadata": {
        "colab": {
          "base_uri": "https://localhost:8080/"
        },
        "id": "clBSg2MW6C8D",
        "outputId": "17b9e8ab-6d23-4aa3-d72c-f56812692b6c"
      },
      "source": [
        "from google.colab import drive\n",
        "drive.mount('/content/drive')\n",
        "%cd /content/drive/My\\ Drive/"
      ],
      "execution_count": null,
      "outputs": [
        {
          "output_type": "stream",
          "name": "stdout",
          "text": [
            "Mounted at /content/drive\n",
            "/content/drive/My Drive\n"
          ]
        }
      ]
    },
    {
      "cell_type": "markdown",
      "metadata": {
        "id": "dl7hbp375oxd"
      },
      "source": [
        "## Data\n"
      ]
    },
    {
      "cell_type": "code",
      "metadata": {
        "colab": {
          "base_uri": "https://localhost:8080/"
        },
        "id": "MMfSf7ge5oxd",
        "outputId": "34341d25-89be-4619-9960-473f7f02f43f"
      },
      "source": [
        "#-- Reading the (training) data in a data frame\n",
        "data = pd.read_csv(\"UBS/ML4EO/data/pm25_train_data.csv\",  sep=';').dropna()\n",
        "data.sample(10)"
      ],
      "execution_count": null,
      "outputs": [
        {
          "output_type": "execute_result",
          "data": {
            "text/html": [
              "<div>\n",
              "<style scoped>\n",
              "    .dataframe tbody tr th:only-of-type {\n",
              "        vertical-align: middle;\n",
              "    }\n",
              "\n",
              "    .dataframe tbody tr th {\n",
              "        vertical-align: top;\n",
              "    }\n",
              "\n",
              "    .dataframe thead th {\n",
              "        text-align: right;\n",
              "    }\n",
              "</style>\n",
              "<table border=\"1\" class=\"dataframe\">\n",
              "  <thead>\n",
              "    <tr style=\"text-align: right;\">\n",
              "      <th></th>\n",
              "      <th>PM2.5</th>\n",
              "      <th>SO2</th>\n",
              "      <th>NO2</th>\n",
              "      <th>CO</th>\n",
              "      <th>O3</th>\n",
              "      <th>temperature</th>\n",
              "      <th>pressure</th>\n",
              "      <th>dew point</th>\n",
              "      <th>rainfall</th>\n",
              "      <th>windspeed</th>\n",
              "    </tr>\n",
              "  </thead>\n",
              "  <tbody>\n",
              "    <tr>\n",
              "      <th>10177</th>\n",
              "      <td>216.0</td>\n",
              "      <td>12.0</td>\n",
              "      <td>14.1657</td>\n",
              "      <td>300.0</td>\n",
              "      <td>56.5488</td>\n",
              "      <td>13.7</td>\n",
              "      <td>1012.3</td>\n",
              "      <td>-8.3</td>\n",
              "      <td>0.0</td>\n",
              "      <td>3.9</td>\n",
              "    </tr>\n",
              "    <tr>\n",
              "      <th>10611</th>\n",
              "      <td>280.0</td>\n",
              "      <td>70.0</td>\n",
              "      <td>91.0000</td>\n",
              "      <td>2100.0</td>\n",
              "      <td>19.0000</td>\n",
              "      <td>6.3</td>\n",
              "      <td>1013.5</td>\n",
              "      <td>-12.3</td>\n",
              "      <td>0.0</td>\n",
              "      <td>1.3</td>\n",
              "    </tr>\n",
              "    <tr>\n",
              "      <th>3731</th>\n",
              "      <td>107.0</td>\n",
              "      <td>17.0</td>\n",
              "      <td>26.0000</td>\n",
              "      <td>900.0</td>\n",
              "      <td>172.0000</td>\n",
              "      <td>30.4</td>\n",
              "      <td>1009.1</td>\n",
              "      <td>16.0</td>\n",
              "      <td>0.0</td>\n",
              "      <td>2.6</td>\n",
              "    </tr>\n",
              "    <tr>\n",
              "      <th>7811</th>\n",
              "      <td>97.0</td>\n",
              "      <td>6.0</td>\n",
              "      <td>29.0000</td>\n",
              "      <td>600.0</td>\n",
              "      <td>215.0000</td>\n",
              "      <td>31.5</td>\n",
              "      <td>1001.7</td>\n",
              "      <td>17.4</td>\n",
              "      <td>0.0</td>\n",
              "      <td>1.4</td>\n",
              "    </tr>\n",
              "    <tr>\n",
              "      <th>10752</th>\n",
              "      <td>93.0</td>\n",
              "      <td>4.0</td>\n",
              "      <td>29.0000</td>\n",
              "      <td>600.0</td>\n",
              "      <td>230.0000</td>\n",
              "      <td>33.1</td>\n",
              "      <td>1000.1</td>\n",
              "      <td>15.1</td>\n",
              "      <td>0.0</td>\n",
              "      <td>1.0</td>\n",
              "    </tr>\n",
              "    <tr>\n",
              "      <th>9877</th>\n",
              "      <td>49.0</td>\n",
              "      <td>3.0</td>\n",
              "      <td>53.0000</td>\n",
              "      <td>600.0</td>\n",
              "      <td>24.0000</td>\n",
              "      <td>12.5</td>\n",
              "      <td>1026.7</td>\n",
              "      <td>-7.0</td>\n",
              "      <td>0.0</td>\n",
              "      <td>2.2</td>\n",
              "    </tr>\n",
              "    <tr>\n",
              "      <th>8046</th>\n",
              "      <td>137.0</td>\n",
              "      <td>3.0</td>\n",
              "      <td>42.0000</td>\n",
              "      <td>2200.0</td>\n",
              "      <td>8.0000</td>\n",
              "      <td>20.7</td>\n",
              "      <td>1005.6</td>\n",
              "      <td>19.5</td>\n",
              "      <td>0.4</td>\n",
              "      <td>1.4</td>\n",
              "    </tr>\n",
              "    <tr>\n",
              "      <th>7705</th>\n",
              "      <td>58.0</td>\n",
              "      <td>5.0</td>\n",
              "      <td>23.0000</td>\n",
              "      <td>600.0</td>\n",
              "      <td>96.0000</td>\n",
              "      <td>22.4</td>\n",
              "      <td>1006.7</td>\n",
              "      <td>11.5</td>\n",
              "      <td>0.0</td>\n",
              "      <td>2.0</td>\n",
              "    </tr>\n",
              "    <tr>\n",
              "      <th>3881</th>\n",
              "      <td>246.0</td>\n",
              "      <td>40.0</td>\n",
              "      <td>83.0000</td>\n",
              "      <td>2700.0</td>\n",
              "      <td>7.0000</td>\n",
              "      <td>2.8</td>\n",
              "      <td>1025.8</td>\n",
              "      <td>-4.0</td>\n",
              "      <td>0.0</td>\n",
              "      <td>1.1</td>\n",
              "    </tr>\n",
              "    <tr>\n",
              "      <th>6182</th>\n",
              "      <td>89.0</td>\n",
              "      <td>20.0</td>\n",
              "      <td>17.0000</td>\n",
              "      <td>400.0</td>\n",
              "      <td>66.0000</td>\n",
              "      <td>3.7</td>\n",
              "      <td>1023.4</td>\n",
              "      <td>-19.9</td>\n",
              "      <td>0.0</td>\n",
              "      <td>1.3</td>\n",
              "    </tr>\n",
              "  </tbody>\n",
              "</table>\n",
              "</div>"
            ],
            "text/plain": [
              "       PM2.5   SO2      NO2      CO  ...  pressure  dew point  rainfall  windspeed\n",
              "10177  216.0  12.0  14.1657   300.0  ...    1012.3       -8.3       0.0        3.9\n",
              "10611  280.0  70.0  91.0000  2100.0  ...    1013.5      -12.3       0.0        1.3\n",
              "3731   107.0  17.0  26.0000   900.0  ...    1009.1       16.0       0.0        2.6\n",
              "7811    97.0   6.0  29.0000   600.0  ...    1001.7       17.4       0.0        1.4\n",
              "10752   93.0   4.0  29.0000   600.0  ...    1000.1       15.1       0.0        1.0\n",
              "9877    49.0   3.0  53.0000   600.0  ...    1026.7       -7.0       0.0        2.2\n",
              "8046   137.0   3.0  42.0000  2200.0  ...    1005.6       19.5       0.4        1.4\n",
              "7705    58.0   5.0  23.0000   600.0  ...    1006.7       11.5       0.0        2.0\n",
              "3881   246.0  40.0  83.0000  2700.0  ...    1025.8       -4.0       0.0        1.1\n",
              "6182    89.0  20.0  17.0000   400.0  ...    1023.4      -19.9       0.0        1.3\n",
              "\n",
              "[10 rows x 10 columns]"
            ]
          },
          "metadata": {},
          "execution_count": 3
        }
      ]
    },
    {
      "cell_type": "code",
      "metadata": {
        "id": "ymxzOoZI5oxd"
      },
      "source": [
        "#-- Save the explanatory variables in a variable X (and their names in a variable feature_names), and the target variable in Y\n",
        "# select the target variables and the explanatory variables\n",
        "target = \"PM2.5\"\n",
        "Y = data[target]\n",
        "X = data.drop(columns = [target])\n"
      ],
      "execution_count": null,
      "outputs": []
    },
    {
      "cell_type": "code",
      "metadata": {
        "colab": {
          "base_uri": "https://localhost:8080/"
        },
        "id": "jRDzWHFB89zR",
        "outputId": "c5bf02e8-d3fa-44d4-a3ff-df3584438aba"
      },
      "source": [
        "X.head()"
      ],
      "execution_count": null,
      "outputs": [
        {
          "output_type": "execute_result",
          "data": {
            "text/html": [
              "<div>\n",
              "<style scoped>\n",
              "    .dataframe tbody tr th:only-of-type {\n",
              "        vertical-align: middle;\n",
              "    }\n",
              "\n",
              "    .dataframe tbody tr th {\n",
              "        vertical-align: top;\n",
              "    }\n",
              "\n",
              "    .dataframe thead th {\n",
              "        text-align: right;\n",
              "    }\n",
              "</style>\n",
              "<table border=\"1\" class=\"dataframe\">\n",
              "  <thead>\n",
              "    <tr style=\"text-align: right;\">\n",
              "      <th></th>\n",
              "      <th>SO2</th>\n",
              "      <th>NO2</th>\n",
              "      <th>CO</th>\n",
              "      <th>O3</th>\n",
              "      <th>temperature</th>\n",
              "      <th>pressure</th>\n",
              "      <th>dew point</th>\n",
              "      <th>rainfall</th>\n",
              "      <th>windspeed</th>\n",
              "    </tr>\n",
              "  </thead>\n",
              "  <tbody>\n",
              "    <tr>\n",
              "      <th>0</th>\n",
              "      <td>7.0</td>\n",
              "      <td>13.0</td>\n",
              "      <td>300.0</td>\n",
              "      <td>74.0</td>\n",
              "      <td>3.9</td>\n",
              "      <td>1027.3</td>\n",
              "      <td>-19.7</td>\n",
              "      <td>0.0</td>\n",
              "      <td>5.1</td>\n",
              "    </tr>\n",
              "    <tr>\n",
              "      <th>1</th>\n",
              "      <td>25.0</td>\n",
              "      <td>76.0</td>\n",
              "      <td>900.0</td>\n",
              "      <td>22.0</td>\n",
              "      <td>2.7</td>\n",
              "      <td>1027.3</td>\n",
              "      <td>-16.4</td>\n",
              "      <td>0.0</td>\n",
              "      <td>2.7</td>\n",
              "    </tr>\n",
              "    <tr>\n",
              "      <th>2</th>\n",
              "      <td>77.0</td>\n",
              "      <td>99.0</td>\n",
              "      <td>1600.0</td>\n",
              "      <td>14.0</td>\n",
              "      <td>13.8</td>\n",
              "      <td>1012.5</td>\n",
              "      <td>-13.3</td>\n",
              "      <td>0.0</td>\n",
              "      <td>1.1</td>\n",
              "    </tr>\n",
              "    <tr>\n",
              "      <th>3</th>\n",
              "      <td>12.0</td>\n",
              "      <td>14.0</td>\n",
              "      <td>400.0</td>\n",
              "      <td>77.0</td>\n",
              "      <td>14.2</td>\n",
              "      <td>1018.9</td>\n",
              "      <td>-13.9</td>\n",
              "      <td>0.0</td>\n",
              "      <td>2.7</td>\n",
              "    </tr>\n",
              "    <tr>\n",
              "      <th>4</th>\n",
              "      <td>104.0</td>\n",
              "      <td>136.0</td>\n",
              "      <td>2299.0</td>\n",
              "      <td>15.0</td>\n",
              "      <td>11.9</td>\n",
              "      <td>1009.7</td>\n",
              "      <td>-7.5</td>\n",
              "      <td>0.0</td>\n",
              "      <td>1.3</td>\n",
              "    </tr>\n",
              "  </tbody>\n",
              "</table>\n",
              "</div>"
            ],
            "text/plain": [
              "     SO2    NO2      CO    O3  ...  pressure  dew point  rainfall  windspeed\n",
              "0    7.0   13.0   300.0  74.0  ...    1027.3      -19.7       0.0        5.1\n",
              "1   25.0   76.0   900.0  22.0  ...    1027.3      -16.4       0.0        2.7\n",
              "2   77.0   99.0  1600.0  14.0  ...    1012.5      -13.3       0.0        1.1\n",
              "3   12.0   14.0   400.0  77.0  ...    1018.9      -13.9       0.0        2.7\n",
              "4  104.0  136.0  2299.0  15.0  ...    1009.7       -7.5       0.0        1.3\n",
              "\n",
              "[5 rows x 9 columns]"
            ]
          },
          "metadata": {},
          "execution_count": 5
        }
      ]
    },
    {
      "cell_type": "code",
      "metadata": {
        "colab": {
          "base_uri": "https://localhost:8080/"
        },
        "id": "UXFyszXQZZy_",
        "outputId": "f7fe6568-305e-4de2-df83-79df23b2d9d8"
      },
      "source": [
        "Y.head()"
      ],
      "execution_count": null,
      "outputs": [
        {
          "output_type": "execute_result",
          "data": {
            "text/plain": [
              "0     24.0\n",
              "1     93.0\n",
              "2    117.0\n",
              "3     58.0\n",
              "4    226.0\n",
              "Name: PM2.5, dtype: float64"
            ]
          },
          "metadata": {},
          "execution_count": 6
        }
      ]
    },
    {
      "cell_type": "code",
      "metadata": {
        "colab": {
          "base_uri": "https://localhost:8080/"
        },
        "id": "XctYttRzV5y0",
        "outputId": "93eff163-4bd0-4810-fbfa-6dad6094a7da"
      },
      "source": [
        "print(\"The shape of X is: \", X.shape, \"\\n\", \" The shape of Y is: \", Y.shape)"
      ],
      "execution_count": null,
      "outputs": [
        {
          "output_type": "stream",
          "name": "stdout",
          "text": [
            "The shape of X is:  (11160, 9) \n",
            "  The shape of Y is:  (11160,)\n"
          ]
        }
      ]
    },
    {
      "cell_type": "markdown",
      "metadata": {
        "id": "JDHFSM6f5oxe"
      },
      "source": [
        "## Exploratory Data Analysis\n",
        "Here, a quick look at the statistical characteristics of the datasets is performed and the features with strong relationships with the target variables are computed. This step is an explorative step to check for the features that best fits our model or better still prepare new features to ease the development of our model."
      ]
    },
    {
      "cell_type": "code",
      "metadata": {
        "colab": {
          "base_uri": "https://localhost:8080/"
        },
        "id": "LkEkW3kl5oxe",
        "outputId": "d5644c05-a1d4-4788-809e-1ace11d14fa5"
      },
      "source": [
        "#-- Display some statistics on the data by using the describe function on the dataframe\n",
        "#obtain a general statistics of the explanatory variables\n",
        "X.describe()"
      ],
      "execution_count": null,
      "outputs": [
        {
          "output_type": "execute_result",
          "data": {
            "text/html": [
              "<div>\n",
              "<style scoped>\n",
              "    .dataframe tbody tr th:only-of-type {\n",
              "        vertical-align: middle;\n",
              "    }\n",
              "\n",
              "    .dataframe tbody tr th {\n",
              "        vertical-align: top;\n",
              "    }\n",
              "\n",
              "    .dataframe thead th {\n",
              "        text-align: right;\n",
              "    }\n",
              "</style>\n",
              "<table border=\"1\" class=\"dataframe\">\n",
              "  <thead>\n",
              "    <tr style=\"text-align: right;\">\n",
              "      <th></th>\n",
              "      <th>SO2</th>\n",
              "      <th>NO2</th>\n",
              "      <th>CO</th>\n",
              "      <th>O3</th>\n",
              "      <th>temperature</th>\n",
              "      <th>pressure</th>\n",
              "      <th>dew point</th>\n",
              "      <th>rainfall</th>\n",
              "      <th>windspeed</th>\n",
              "    </tr>\n",
              "  </thead>\n",
              "  <tbody>\n",
              "    <tr>\n",
              "      <th>count</th>\n",
              "      <td>11160.000000</td>\n",
              "      <td>11160.000000</td>\n",
              "      <td>11160.000000</td>\n",
              "      <td>11160.000000</td>\n",
              "      <td>11160.000000</td>\n",
              "      <td>11160.000000</td>\n",
              "      <td>11160.000000</td>\n",
              "      <td>11160.000000</td>\n",
              "      <td>11160.000000</td>\n",
              "    </tr>\n",
              "    <tr>\n",
              "      <th>mean</th>\n",
              "      <td>21.803471</td>\n",
              "      <td>44.614596</td>\n",
              "      <td>1165.918100</td>\n",
              "      <td>74.123981</td>\n",
              "      <td>17.943513</td>\n",
              "      <td>1009.810802</td>\n",
              "      <td>2.826747</td>\n",
              "      <td>0.046918</td>\n",
              "      <td>2.235968</td>\n",
              "    </tr>\n",
              "    <tr>\n",
              "      <th>std</th>\n",
              "      <td>26.880259</td>\n",
              "      <td>32.895568</td>\n",
              "      <td>1010.439512</td>\n",
              "      <td>51.904421</td>\n",
              "      <td>10.751609</td>\n",
              "      <td>10.075603</td>\n",
              "      <td>13.450111</td>\n",
              "      <td>0.535652</td>\n",
              "      <td>1.337821</td>\n",
              "    </tr>\n",
              "    <tr>\n",
              "      <th>min</th>\n",
              "      <td>0.856800</td>\n",
              "      <td>2.000000</td>\n",
              "      <td>100.000000</td>\n",
              "      <td>0.214200</td>\n",
              "      <td>-6.800000</td>\n",
              "      <td>984.500000</td>\n",
              "      <td>-31.300000</td>\n",
              "      <td>0.000000</td>\n",
              "      <td>0.000000</td>\n",
              "    </tr>\n",
              "    <tr>\n",
              "      <th>25%</th>\n",
              "      <td>4.000000</td>\n",
              "      <td>19.000000</td>\n",
              "      <td>500.000000</td>\n",
              "      <td>34.000000</td>\n",
              "      <td>8.200000</td>\n",
              "      <td>1001.800000</td>\n",
              "      <td>-8.200000</td>\n",
              "      <td>0.000000</td>\n",
              "      <td>1.300000</td>\n",
              "    </tr>\n",
              "    <tr>\n",
              "      <th>50%</th>\n",
              "      <td>12.000000</td>\n",
              "      <td>36.000000</td>\n",
              "      <td>900.000000</td>\n",
              "      <td>66.000000</td>\n",
              "      <td>20.000000</td>\n",
              "      <td>1009.300000</td>\n",
              "      <td>3.100000</td>\n",
              "      <td>0.000000</td>\n",
              "      <td>1.900000</td>\n",
              "    </tr>\n",
              "    <tr>\n",
              "      <th>75%</th>\n",
              "      <td>28.000000</td>\n",
              "      <td>62.000000</td>\n",
              "      <td>1500.000000</td>\n",
              "      <td>103.000000</td>\n",
              "      <td>27.400000</td>\n",
              "      <td>1017.600000</td>\n",
              "      <td>15.000000</td>\n",
              "      <td>0.000000</td>\n",
              "      <td>2.700000</td>\n",
              "    </tr>\n",
              "    <tr>\n",
              "      <th>max</th>\n",
              "      <td>224.000000</td>\n",
              "      <td>273.000000</td>\n",
              "      <td>10000.000000</td>\n",
              "      <td>345.000000</td>\n",
              "      <td>39.800000</td>\n",
              "      <td>1036.300000</td>\n",
              "      <td>28.500000</td>\n",
              "      <td>31.200000</td>\n",
              "      <td>12.900000</td>\n",
              "    </tr>\n",
              "  </tbody>\n",
              "</table>\n",
              "</div>"
            ],
            "text/plain": [
              "                SO2           NO2  ...      rainfall     windspeed\n",
              "count  11160.000000  11160.000000  ...  11160.000000  11160.000000\n",
              "mean      21.803471     44.614596  ...      0.046918      2.235968\n",
              "std       26.880259     32.895568  ...      0.535652      1.337821\n",
              "min        0.856800      2.000000  ...      0.000000      0.000000\n",
              "25%        4.000000     19.000000  ...      0.000000      1.300000\n",
              "50%       12.000000     36.000000  ...      0.000000      1.900000\n",
              "75%       28.000000     62.000000  ...      0.000000      2.700000\n",
              "max      224.000000    273.000000  ...     31.200000     12.900000\n",
              "\n",
              "[8 rows x 9 columns]"
            ]
          },
          "metadata": {},
          "execution_count": 8
        }
      ]
    },
    {
      "cell_type": "markdown",
      "metadata": {
        "id": "a2oUr1XAaSmA"
      },
      "source": [
        "The statistical description of the explanatory variables in our data shows useful information about the center points and spread of each of the data. In this case, we had removed NaN values to capture only recorded and uncorrupted data points."
      ]
    },
    {
      "cell_type": "code",
      "metadata": {
        "colab": {
          "base_uri": "https://localhost:8080/"
        },
        "id": "TYardNLXbkFW",
        "outputId": "4b01e8d8-41d0-4275-eed8-70978750525a"
      },
      "source": [
        "corr = data.corr().round(3)\n",
        "corr.style.background_gradient(cmap='bwr_r')"
      ],
      "execution_count": null,
      "outputs": [
        {
          "output_type": "execute_result",
          "data": {
            "text/html": [
              "<style  type=\"text/css\" >\n",
              "#T_914c77e6_2d2b_11ec_909e_0242ac1c0002row0_col0,#T_914c77e6_2d2b_11ec_909e_0242ac1c0002row1_col1,#T_914c77e6_2d2b_11ec_909e_0242ac1c0002row2_col2,#T_914c77e6_2d2b_11ec_909e_0242ac1c0002row3_col3,#T_914c77e6_2d2b_11ec_909e_0242ac1c0002row4_col4,#T_914c77e6_2d2b_11ec_909e_0242ac1c0002row5_col5,#T_914c77e6_2d2b_11ec_909e_0242ac1c0002row6_col6,#T_914c77e6_2d2b_11ec_909e_0242ac1c0002row7_col7,#T_914c77e6_2d2b_11ec_909e_0242ac1c0002row8_col8,#T_914c77e6_2d2b_11ec_909e_0242ac1c0002row9_col9{\n",
              "            background-color:  #0000ff;\n",
              "            color:  #f1f1f1;\n",
              "        }#T_914c77e6_2d2b_11ec_909e_0242ac1c0002row0_col1{\n",
              "            background-color:  #c0c0ff;\n",
              "            color:  #000000;\n",
              "        }#T_914c77e6_2d2b_11ec_909e_0242ac1c0002row0_col2{\n",
              "            background-color:  #9a9aff;\n",
              "            color:  #000000;\n",
              "        }#T_914c77e6_2d2b_11ec_909e_0242ac1c0002row0_col3{\n",
              "            background-color:  #8c8cff;\n",
              "            color:  #000000;\n",
              "        }#T_914c77e6_2d2b_11ec_909e_0242ac1c0002row0_col4{\n",
              "            background-color:  #ff6e6e;\n",
              "            color:  #000000;\n",
              "        }#T_914c77e6_2d2b_11ec_909e_0242ac1c0002row0_col5,#T_914c77e6_2d2b_11ec_909e_0242ac1c0002row6_col0{\n",
              "            background-color:  #ff9e9e;\n",
              "            color:  #000000;\n",
              "        }#T_914c77e6_2d2b_11ec_909e_0242ac1c0002row0_col6,#T_914c77e6_2d2b_11ec_909e_0242ac1c0002row3_col6{\n",
              "            background-color:  #f2f2ff;\n",
              "            color:  #000000;\n",
              "        }#T_914c77e6_2d2b_11ec_909e_0242ac1c0002row0_col7,#T_914c77e6_2d2b_11ec_909e_0242ac1c0002row6_col2{\n",
              "            background-color:  #ffcccc;\n",
              "            color:  #000000;\n",
              "        }#T_914c77e6_2d2b_11ec_909e_0242ac1c0002row0_col8,#T_914c77e6_2d2b_11ec_909e_0242ac1c0002row9_col3,#T_914c77e6_2d2b_11ec_909e_0242ac1c0002row9_col8{\n",
              "            background-color:  #ff0202;\n",
              "            color:  #f1f1f1;\n",
              "        }#T_914c77e6_2d2b_11ec_909e_0242ac1c0002row0_col9{\n",
              "            background-color:  #ff3c3c;\n",
              "            color:  #f1f1f1;\n",
              "        }#T_914c77e6_2d2b_11ec_909e_0242ac1c0002row1_col0{\n",
              "            background-color:  #d2d2ff;\n",
              "            color:  #000000;\n",
              "        }#T_914c77e6_2d2b_11ec_909e_0242ac1c0002row1_col2{\n",
              "            background-color:  #9090ff;\n",
              "            color:  #000000;\n",
              "        }#T_914c77e6_2d2b_11ec_909e_0242ac1c0002row1_col3{\n",
              "            background-color:  #8e8eff;\n",
              "            color:  #000000;\n",
              "        }#T_914c77e6_2d2b_11ec_909e_0242ac1c0002row1_col4,#T_914c77e6_2d2b_11ec_909e_0242ac1c0002row7_col0{\n",
              "            background-color:  #ff5858;\n",
              "            color:  #000000;\n",
              "        }#T_914c77e6_2d2b_11ec_909e_0242ac1c0002row1_col5{\n",
              "            background-color:  #ff7c7c;\n",
              "            color:  #000000;\n",
              "        }#T_914c77e6_2d2b_11ec_909e_0242ac1c0002row1_col6{\n",
              "            background-color:  #d8d8ff;\n",
              "            color:  #000000;\n",
              "        }#T_914c77e6_2d2b_11ec_909e_0242ac1c0002row1_col7,#T_914c77e6_2d2b_11ec_909e_0242ac1c0002row7_col3{\n",
              "            background-color:  #ff8c8c;\n",
              "            color:  #000000;\n",
              "        }#T_914c77e6_2d2b_11ec_909e_0242ac1c0002row1_col8,#T_914c77e6_2d2b_11ec_909e_0242ac1c0002row2_col9,#T_914c77e6_2d2b_11ec_909e_0242ac1c0002row4_col2,#T_914c77e6_2d2b_11ec_909e_0242ac1c0002row4_col3,#T_914c77e6_2d2b_11ec_909e_0242ac1c0002row5_col0,#T_914c77e6_2d2b_11ec_909e_0242ac1c0002row5_col1,#T_914c77e6_2d2b_11ec_909e_0242ac1c0002row5_col6,#T_914c77e6_2d2b_11ec_909e_0242ac1c0002row6_col4,#T_914c77e6_2d2b_11ec_909e_0242ac1c0002row6_col5,#T_914c77e6_2d2b_11ec_909e_0242ac1c0002row6_col7,#T_914c77e6_2d2b_11ec_909e_0242ac1c0002row7_col9{\n",
              "            background-color:  #ff0000;\n",
              "            color:  #f1f1f1;\n",
              "        }#T_914c77e6_2d2b_11ec_909e_0242ac1c0002row1_col9{\n",
              "            background-color:  #ff4646;\n",
              "            color:  #000000;\n",
              "        }#T_914c77e6_2d2b_11ec_909e_0242ac1c0002row2_col0{\n",
              "            background-color:  #aeaeff;\n",
              "            color:  #000000;\n",
              "        }#T_914c77e6_2d2b_11ec_909e_0242ac1c0002row2_col1{\n",
              "            background-color:  #9696ff;\n",
              "            color:  #000000;\n",
              "        }#T_914c77e6_2d2b_11ec_909e_0242ac1c0002row2_col3{\n",
              "            background-color:  #6262ff;\n",
              "            color:  #000000;\n",
              "        }#T_914c77e6_2d2b_11ec_909e_0242ac1c0002row2_col4{\n",
              "            background-color:  #ff2c2c;\n",
              "            color:  #f1f1f1;\n",
              "        }#T_914c77e6_2d2b_11ec_909e_0242ac1c0002row2_col5{\n",
              "            background-color:  #ffa6a6;\n",
              "            color:  #000000;\n",
              "        }#T_914c77e6_2d2b_11ec_909e_0242ac1c0002row2_col6{\n",
              "            background-color:  #f0f0ff;\n",
              "            color:  #000000;\n",
              "        }#T_914c77e6_2d2b_11ec_909e_0242ac1c0002row2_col7{\n",
              "            background-color:  #ffdada;\n",
              "            color:  #000000;\n",
              "        }#T_914c77e6_2d2b_11ec_909e_0242ac1c0002row2_col8{\n",
              "            background-color:  #ff0e0e;\n",
              "            color:  #f1f1f1;\n",
              "        }#T_914c77e6_2d2b_11ec_909e_0242ac1c0002row3_col0{\n",
              "            background-color:  #9494ff;\n",
              "            color:  #000000;\n",
              "        }#T_914c77e6_2d2b_11ec_909e_0242ac1c0002row3_col1{\n",
              "            background-color:  #8a8aff;\n",
              "            color:  #000000;\n",
              "        }#T_914c77e6_2d2b_11ec_909e_0242ac1c0002row3_col2{\n",
              "            background-color:  #5c5cff;\n",
              "            color:  #f1f1f1;\n",
              "        }#T_914c77e6_2d2b_11ec_909e_0242ac1c0002row3_col4,#T_914c77e6_2d2b_11ec_909e_0242ac1c0002row9_col1{\n",
              "            background-color:  #ff4c4c;\n",
              "            color:  #000000;\n",
              "        }#T_914c77e6_2d2b_11ec_909e_0242ac1c0002row3_col5{\n",
              "            background-color:  #ff9696;\n",
              "            color:  #000000;\n",
              "        }#T_914c77e6_2d2b_11ec_909e_0242ac1c0002row3_col7{\n",
              "            background-color:  #ffe2e2;\n",
              "            color:  #000000;\n",
              "        }#T_914c77e6_2d2b_11ec_909e_0242ac1c0002row3_col8{\n",
              "            background-color:  #ff1e1e;\n",
              "            color:  #f1f1f1;\n",
              "        }#T_914c77e6_2d2b_11ec_909e_0242ac1c0002row3_col9{\n",
              "            background-color:  #ff0c0c;\n",
              "            color:  #f1f1f1;\n",
              "        }#T_914c77e6_2d2b_11ec_909e_0242ac1c0002row4_col0{\n",
              "            background-color:  #ff0a0a;\n",
              "            color:  #f1f1f1;\n",
              "        }#T_914c77e6_2d2b_11ec_909e_0242ac1c0002row4_col1{\n",
              "            background-color:  #ff1c1c;\n",
              "            color:  #f1f1f1;\n",
              "        }#T_914c77e6_2d2b_11ec_909e_0242ac1c0002row4_col5{\n",
              "            background-color:  #5858ff;\n",
              "            color:  #f1f1f1;\n",
              "        }#T_914c77e6_2d2b_11ec_909e_0242ac1c0002row4_col6,#T_914c77e6_2d2b_11ec_909e_0242ac1c0002row5_col2{\n",
              "            background-color:  #ff4848;\n",
              "            color:  #000000;\n",
              "        }#T_914c77e6_2d2b_11ec_909e_0242ac1c0002row4_col7{\n",
              "            background-color:  #a0a0ff;\n",
              "            color:  #000000;\n",
              "        }#T_914c77e6_2d2b_11ec_909e_0242ac1c0002row4_col8,#T_914c77e6_2d2b_11ec_909e_0242ac1c0002row6_col8{\n",
              "            background-color:  #ff0404;\n",
              "            color:  #f1f1f1;\n",
              "        }#T_914c77e6_2d2b_11ec_909e_0242ac1c0002row4_col9{\n",
              "            background-color:  #ffaaaa;\n",
              "            color:  #000000;\n",
              "        }#T_914c77e6_2d2b_11ec_909e_0242ac1c0002row5_col3{\n",
              "            background-color:  #ff1212;\n",
              "            color:  #f1f1f1;\n",
              "        }#T_914c77e6_2d2b_11ec_909e_0242ac1c0002row5_col4{\n",
              "            background-color:  #6868ff;\n",
              "            color:  #000000;\n",
              "        }#T_914c77e6_2d2b_11ec_909e_0242ac1c0002row5_col7{\n",
              "            background-color:  #3838ff;\n",
              "            color:  #f1f1f1;\n",
              "        }#T_914c77e6_2d2b_11ec_909e_0242ac1c0002row5_col8{\n",
              "            background-color:  #ff1414;\n",
              "            color:  #f1f1f1;\n",
              "        }#T_914c77e6_2d2b_11ec_909e_0242ac1c0002row5_col9{\n",
              "            background-color:  #ff6060;\n",
              "            color:  #000000;\n",
              "        }#T_914c77e6_2d2b_11ec_909e_0242ac1c0002row6_col1{\n",
              "            background-color:  #ffe0e0;\n",
              "            color:  #000000;\n",
              "        }#T_914c77e6_2d2b_11ec_909e_0242ac1c0002row6_col3{\n",
              "            background-color:  #ffb2b2;\n",
              "            color:  #000000;\n",
              "        }#T_914c77e6_2d2b_11ec_909e_0242ac1c0002row6_col9,#T_914c77e6_2d2b_11ec_909e_0242ac1c0002row7_col2{\n",
              "            background-color:  #ff9c9c;\n",
              "            color:  #000000;\n",
              "        }#T_914c77e6_2d2b_11ec_909e_0242ac1c0002row7_col1{\n",
              "            background-color:  #ff2e2e;\n",
              "            color:  #f1f1f1;\n",
              "        }#T_914c77e6_2d2b_11ec_909e_0242ac1c0002row7_col4{\n",
              "            background-color:  #b0b0ff;\n",
              "            color:  #000000;\n",
              "        }#T_914c77e6_2d2b_11ec_909e_0242ac1c0002row7_col5{\n",
              "            background-color:  #3434ff;\n",
              "            color:  #f1f1f1;\n",
              "        }#T_914c77e6_2d2b_11ec_909e_0242ac1c0002row7_col6{\n",
              "            background-color:  #ff1a1a;\n",
              "            color:  #f1f1f1;\n",
              "        }#T_914c77e6_2d2b_11ec_909e_0242ac1c0002row7_col8{\n",
              "            background-color:  #ff3e3e;\n",
              "            color:  #f1f1f1;\n",
              "        }#T_914c77e6_2d2b_11ec_909e_0242ac1c0002row8_col0{\n",
              "            background-color:  #ff5656;\n",
              "            color:  #000000;\n",
              "        }#T_914c77e6_2d2b_11ec_909e_0242ac1c0002row8_col1{\n",
              "            background-color:  #ff7878;\n",
              "            color:  #000000;\n",
              "        }#T_914c77e6_2d2b_11ec_909e_0242ac1c0002row8_col2{\n",
              "            background-color:  #ff9292;\n",
              "            color:  #000000;\n",
              "        }#T_914c77e6_2d2b_11ec_909e_0242ac1c0002row8_col3{\n",
              "            background-color:  #ff8484;\n",
              "            color:  #000000;\n",
              "        }#T_914c77e6_2d2b_11ec_909e_0242ac1c0002row8_col4{\n",
              "            background-color:  #ffacac;\n",
              "            color:  #000000;\n",
              "        }#T_914c77e6_2d2b_11ec_909e_0242ac1c0002row8_col5{\n",
              "            background-color:  #ffe4e4;\n",
              "            color:  #000000;\n",
              "        }#T_914c77e6_2d2b_11ec_909e_0242ac1c0002row8_col6{\n",
              "            background-color:  #ffdcdc;\n",
              "            color:  #000000;\n",
              "        }#T_914c77e6_2d2b_11ec_909e_0242ac1c0002row8_col7{\n",
              "            background-color:  #ffeeee;\n",
              "            color:  #000000;\n",
              "        }#T_914c77e6_2d2b_11ec_909e_0242ac1c0002row8_col9{\n",
              "            background-color:  #ff7676;\n",
              "            color:  #000000;\n",
              "        }#T_914c77e6_2d2b_11ec_909e_0242ac1c0002row9_col0,#T_914c77e6_2d2b_11ec_909e_0242ac1c0002row9_col2{\n",
              "            background-color:  #ff1818;\n",
              "            color:  #f1f1f1;\n",
              "        }#T_914c77e6_2d2b_11ec_909e_0242ac1c0002row9_col4{\n",
              "            background-color:  #ffd6d6;\n",
              "            color:  #000000;\n",
              "        }#T_914c77e6_2d2b_11ec_909e_0242ac1c0002row9_col5{\n",
              "            background-color:  #ffcaca;\n",
              "            color:  #000000;\n",
              "        }#T_914c77e6_2d2b_11ec_909e_0242ac1c0002row9_col6{\n",
              "            background-color:  #fff6f6;\n",
              "            color:  #000000;\n",
              "        }#T_914c77e6_2d2b_11ec_909e_0242ac1c0002row9_col7{\n",
              "            background-color:  #ff6c6c;\n",
              "            color:  #000000;\n",
              "        }</style><table id=\"T_914c77e6_2d2b_11ec_909e_0242ac1c0002\" ><thead>    <tr>        <th class=\"blank level0\" ></th>        <th class=\"col_heading level0 col0\" >PM2.5</th>        <th class=\"col_heading level0 col1\" >SO2</th>        <th class=\"col_heading level0 col2\" >NO2</th>        <th class=\"col_heading level0 col3\" >CO</th>        <th class=\"col_heading level0 col4\" >O3</th>        <th class=\"col_heading level0 col5\" >temperature</th>        <th class=\"col_heading level0 col6\" >pressure</th>        <th class=\"col_heading level0 col7\" >dew point</th>        <th class=\"col_heading level0 col8\" >rainfall</th>        <th class=\"col_heading level0 col9\" >windspeed</th>    </tr></thead><tbody>\n",
              "                <tr>\n",
              "                        <th id=\"T_914c77e6_2d2b_11ec_909e_0242ac1c0002level0_row0\" class=\"row_heading level0 row0\" >PM2.5</th>\n",
              "                        <td id=\"T_914c77e6_2d2b_11ec_909e_0242ac1c0002row0_col0\" class=\"data row0 col0\" >1.000000</td>\n",
              "                        <td id=\"T_914c77e6_2d2b_11ec_909e_0242ac1c0002row0_col1\" class=\"data row0 col1\" >0.485000</td>\n",
              "                        <td id=\"T_914c77e6_2d2b_11ec_909e_0242ac1c0002row0_col2\" class=\"data row0 col2\" >0.573000</td>\n",
              "                        <td id=\"T_914c77e6_2d2b_11ec_909e_0242ac1c0002row0_col3\" class=\"data row0 col3\" >0.637000</td>\n",
              "                        <td id=\"T_914c77e6_2d2b_11ec_909e_0242ac1c0002row0_col4\" class=\"data row0 col4\" >-0.218000</td>\n",
              "                        <td id=\"T_914c77e6_2d2b_11ec_909e_0242ac1c0002row0_col5\" class=\"data row0 col5\" >-0.247000</td>\n",
              "                        <td id=\"T_914c77e6_2d2b_11ec_909e_0242ac1c0002row0_col6\" class=\"data row0 col6\" >0.140000</td>\n",
              "                        <td id=\"T_914c77e6_2d2b_11ec_909e_0242ac1c0002row0_col7\" class=\"data row0 col7\" >-0.030000</td>\n",
              "                        <td id=\"T_914c77e6_2d2b_11ec_909e_0242ac1c0002row0_col8\" class=\"data row0 col8\" >-0.037000</td>\n",
              "                        <td id=\"T_914c77e6_2d2b_11ec_909e_0242ac1c0002row0_col9\" class=\"data row0 col9\" >-0.188000</td>\n",
              "            </tr>\n",
              "            <tr>\n",
              "                        <th id=\"T_914c77e6_2d2b_11ec_909e_0242ac1c0002level0_row1\" class=\"row_heading level0 row1\" >SO2</th>\n",
              "                        <td id=\"T_914c77e6_2d2b_11ec_909e_0242ac1c0002row1_col0\" class=\"data row1 col0\" >0.485000</td>\n",
              "                        <td id=\"T_914c77e6_2d2b_11ec_909e_0242ac1c0002row1_col1\" class=\"data row1 col1\" >1.000000</td>\n",
              "                        <td id=\"T_914c77e6_2d2b_11ec_909e_0242ac1c0002row1_col2\" class=\"data row1 col2\" >0.599000</td>\n",
              "                        <td id=\"T_914c77e6_2d2b_11ec_909e_0242ac1c0002row1_col3\" class=\"data row1 col3\" >0.630000</td>\n",
              "                        <td id=\"T_914c77e6_2d2b_11ec_909e_0242ac1c0002row1_col4\" class=\"data row1 col4\" >-0.287000</td>\n",
              "                        <td id=\"T_914c77e6_2d2b_11ec_909e_0242ac1c0002row1_col5\" class=\"data row1 col5\" >-0.367000</td>\n",
              "                        <td id=\"T_914c77e6_2d2b_11ec_909e_0242ac1c0002row1_col6\" class=\"data row1 col6\" >0.232000</td>\n",
              "                        <td id=\"T_914c77e6_2d2b_11ec_909e_0242ac1c0002row1_col7\" class=\"data row1 col7\" >-0.242000</td>\n",
              "                        <td id=\"T_914c77e6_2d2b_11ec_909e_0242ac1c0002row1_col8\" class=\"data row1 col8\" >-0.042000</td>\n",
              "                        <td id=\"T_914c77e6_2d2b_11ec_909e_0242ac1c0002row1_col9\" class=\"data row1 col9\" >-0.163000</td>\n",
              "            </tr>\n",
              "            <tr>\n",
              "                        <th id=\"T_914c77e6_2d2b_11ec_909e_0242ac1c0002level0_row2\" class=\"row_heading level0 row2\" >NO2</th>\n",
              "                        <td id=\"T_914c77e6_2d2b_11ec_909e_0242ac1c0002row2_col0\" class=\"data row2 col0\" >0.573000</td>\n",
              "                        <td id=\"T_914c77e6_2d2b_11ec_909e_0242ac1c0002row2_col1\" class=\"data row2 col1\" >0.599000</td>\n",
              "                        <td id=\"T_914c77e6_2d2b_11ec_909e_0242ac1c0002row2_col2\" class=\"data row2 col2\" >1.000000</td>\n",
              "                        <td id=\"T_914c77e6_2d2b_11ec_909e_0242ac1c0002row2_col3\" class=\"data row2 col3\" >0.744000</td>\n",
              "                        <td id=\"T_914c77e6_2d2b_11ec_909e_0242ac1c0002row2_col4\" class=\"data row2 col4\" >-0.418000</td>\n",
              "                        <td id=\"T_914c77e6_2d2b_11ec_909e_0242ac1c0002row2_col5\" class=\"data row2 col5\" >-0.217000</td>\n",
              "                        <td id=\"T_914c77e6_2d2b_11ec_909e_0242ac1c0002row2_col6\" class=\"data row2 col6\" >0.147000</td>\n",
              "                        <td id=\"T_914c77e6_2d2b_11ec_909e_0242ac1c0002row2_col7\" class=\"data row2 col7\" >0.015000</td>\n",
              "                        <td id=\"T_914c77e6_2d2b_11ec_909e_0242ac1c0002row2_col8\" class=\"data row2 col8\" >-0.010000</td>\n",
              "                        <td id=\"T_914c77e6_2d2b_11ec_909e_0242ac1c0002row2_col9\" class=\"data row2 col9\" >-0.348000</td>\n",
              "            </tr>\n",
              "            <tr>\n",
              "                        <th id=\"T_914c77e6_2d2b_11ec_909e_0242ac1c0002level0_row3\" class=\"row_heading level0 row3\" >CO</th>\n",
              "                        <td id=\"T_914c77e6_2d2b_11ec_909e_0242ac1c0002row3_col0\" class=\"data row3 col0\" >0.637000</td>\n",
              "                        <td id=\"T_914c77e6_2d2b_11ec_909e_0242ac1c0002row3_col1\" class=\"data row3 col1\" >0.630000</td>\n",
              "                        <td id=\"T_914c77e6_2d2b_11ec_909e_0242ac1c0002row3_col2\" class=\"data row3 col2\" >0.744000</td>\n",
              "                        <td id=\"T_914c77e6_2d2b_11ec_909e_0242ac1c0002row3_col3\" class=\"data row3 col3\" >1.000000</td>\n",
              "                        <td id=\"T_914c77e6_2d2b_11ec_909e_0242ac1c0002row3_col4\" class=\"data row3 col4\" >-0.324000</td>\n",
              "                        <td id=\"T_914c77e6_2d2b_11ec_909e_0242ac1c0002row3_col5\" class=\"data row3 col5\" >-0.274000</td>\n",
              "                        <td id=\"T_914c77e6_2d2b_11ec_909e_0242ac1c0002row3_col6\" class=\"data row3 col6\" >0.139000</td>\n",
              "                        <td id=\"T_914c77e6_2d2b_11ec_909e_0242ac1c0002row3_col7\" class=\"data row3 col7\" >0.042000</td>\n",
              "                        <td id=\"T_914c77e6_2d2b_11ec_909e_0242ac1c0002row3_col8\" class=\"data row3 col8\" >0.022000</td>\n",
              "                        <td id=\"T_914c77e6_2d2b_11ec_909e_0242ac1c0002row3_col9\" class=\"data row3 col9\" >-0.314000</td>\n",
              "            </tr>\n",
              "            <tr>\n",
              "                        <th id=\"T_914c77e6_2d2b_11ec_909e_0242ac1c0002level0_row4\" class=\"row_heading level0 row4\" >O3</th>\n",
              "                        <td id=\"T_914c77e6_2d2b_11ec_909e_0242ac1c0002row4_col0\" class=\"data row4 col0\" >-0.218000</td>\n",
              "                        <td id=\"T_914c77e6_2d2b_11ec_909e_0242ac1c0002row4_col1\" class=\"data row4 col1\" >-0.287000</td>\n",
              "                        <td id=\"T_914c77e6_2d2b_11ec_909e_0242ac1c0002row4_col2\" class=\"data row4 col2\" >-0.418000</td>\n",
              "                        <td id=\"T_914c77e6_2d2b_11ec_909e_0242ac1c0002row4_col3\" class=\"data row4 col3\" >-0.324000</td>\n",
              "                        <td id=\"T_914c77e6_2d2b_11ec_909e_0242ac1c0002row4_col4\" class=\"data row4 col4\" >1.000000</td>\n",
              "                        <td id=\"T_914c77e6_2d2b_11ec_909e_0242ac1c0002row4_col5\" class=\"data row4 col5\" >0.683000</td>\n",
              "                        <td id=\"T_914c77e6_2d2b_11ec_909e_0242ac1c0002row4_col6\" class=\"data row4 col6\" >-0.555000</td>\n",
              "                        <td id=\"T_914c77e6_2d2b_11ec_909e_0242ac1c0002row4_col7\" class=\"data row4 col7\" >0.460000</td>\n",
              "                        <td id=\"T_914c77e6_2d2b_11ec_909e_0242ac1c0002row4_col8\" class=\"data row4 col8\" >-0.030000</td>\n",
              "                        <td id=\"T_914c77e6_2d2b_11ec_909e_0242ac1c0002row4_col9\" class=\"data row4 col9\" >0.101000</td>\n",
              "            </tr>\n",
              "            <tr>\n",
              "                        <th id=\"T_914c77e6_2d2b_11ec_909e_0242ac1c0002level0_row5\" class=\"row_heading level0 row5\" >temperature</th>\n",
              "                        <td id=\"T_914c77e6_2d2b_11ec_909e_0242ac1c0002row5_col0\" class=\"data row5 col0\" >-0.247000</td>\n",
              "                        <td id=\"T_914c77e6_2d2b_11ec_909e_0242ac1c0002row5_col1\" class=\"data row5 col1\" >-0.367000</td>\n",
              "                        <td id=\"T_914c77e6_2d2b_11ec_909e_0242ac1c0002row5_col2\" class=\"data row5 col2\" >-0.217000</td>\n",
              "                        <td id=\"T_914c77e6_2d2b_11ec_909e_0242ac1c0002row5_col3\" class=\"data row5 col3\" >-0.274000</td>\n",
              "                        <td id=\"T_914c77e6_2d2b_11ec_909e_0242ac1c0002row5_col4\" class=\"data row5 col4\" >0.683000</td>\n",
              "                        <td id=\"T_914c77e6_2d2b_11ec_909e_0242ac1c0002row5_col5\" class=\"data row5 col5\" >1.000000</td>\n",
              "                        <td id=\"T_914c77e6_2d2b_11ec_909e_0242ac1c0002row5_col6\" class=\"data row5 col6\" >-0.811000</td>\n",
              "                        <td id=\"T_914c77e6_2d2b_11ec_909e_0242ac1c0002row5_col7\" class=\"data row5 col7\" >0.810000</td>\n",
              "                        <td id=\"T_914c77e6_2d2b_11ec_909e_0242ac1c0002row5_col8\" class=\"data row5 col8\" >-0.001000</td>\n",
              "                        <td id=\"T_914c77e6_2d2b_11ec_909e_0242ac1c0002row5_col9\" class=\"data row5 col9\" >-0.093000</td>\n",
              "            </tr>\n",
              "            <tr>\n",
              "                        <th id=\"T_914c77e6_2d2b_11ec_909e_0242ac1c0002level0_row6\" class=\"row_heading level0 row6\" >pressure</th>\n",
              "                        <td id=\"T_914c77e6_2d2b_11ec_909e_0242ac1c0002row6_col0\" class=\"data row6 col0\" >0.140000</td>\n",
              "                        <td id=\"T_914c77e6_2d2b_11ec_909e_0242ac1c0002row6_col1\" class=\"data row6 col1\" >0.232000</td>\n",
              "                        <td id=\"T_914c77e6_2d2b_11ec_909e_0242ac1c0002row6_col2\" class=\"data row6 col2\" >0.147000</td>\n",
              "                        <td id=\"T_914c77e6_2d2b_11ec_909e_0242ac1c0002row6_col3\" class=\"data row6 col3\" >0.139000</td>\n",
              "                        <td id=\"T_914c77e6_2d2b_11ec_909e_0242ac1c0002row6_col4\" class=\"data row6 col4\" >-0.555000</td>\n",
              "                        <td id=\"T_914c77e6_2d2b_11ec_909e_0242ac1c0002row6_col5\" class=\"data row6 col5\" >-0.811000</td>\n",
              "                        <td id=\"T_914c77e6_2d2b_11ec_909e_0242ac1c0002row6_col6\" class=\"data row6 col6\" >1.000000</td>\n",
              "                        <td id=\"T_914c77e6_2d2b_11ec_909e_0242ac1c0002row6_col7\" class=\"data row6 col7\" >-0.716000</td>\n",
              "                        <td id=\"T_914c77e6_2d2b_11ec_909e_0242ac1c0002row6_col8\" class=\"data row6 col8\" >-0.031000</td>\n",
              "                        <td id=\"T_914c77e6_2d2b_11ec_909e_0242ac1c0002row6_col9\" class=\"data row6 col9\" >0.062000</td>\n",
              "            </tr>\n",
              "            <tr>\n",
              "                        <th id=\"T_914c77e6_2d2b_11ec_909e_0242ac1c0002level0_row7\" class=\"row_heading level0 row7\" >dew point</th>\n",
              "                        <td id=\"T_914c77e6_2d2b_11ec_909e_0242ac1c0002row7_col0\" class=\"data row7 col0\" >-0.030000</td>\n",
              "                        <td id=\"T_914c77e6_2d2b_11ec_909e_0242ac1c0002row7_col1\" class=\"data row7 col1\" >-0.242000</td>\n",
              "                        <td id=\"T_914c77e6_2d2b_11ec_909e_0242ac1c0002row7_col2\" class=\"data row7 col2\" >0.015000</td>\n",
              "                        <td id=\"T_914c77e6_2d2b_11ec_909e_0242ac1c0002row7_col3\" class=\"data row7 col3\" >0.042000</td>\n",
              "                        <td id=\"T_914c77e6_2d2b_11ec_909e_0242ac1c0002row7_col4\" class=\"data row7 col4\" >0.460000</td>\n",
              "                        <td id=\"T_914c77e6_2d2b_11ec_909e_0242ac1c0002row7_col5\" class=\"data row7 col5\" >0.810000</td>\n",
              "                        <td id=\"T_914c77e6_2d2b_11ec_909e_0242ac1c0002row7_col6\" class=\"data row7 col6\" >-0.716000</td>\n",
              "                        <td id=\"T_914c77e6_2d2b_11ec_909e_0242ac1c0002row7_col7\" class=\"data row7 col7\" >1.000000</td>\n",
              "                        <td id=\"T_914c77e6_2d2b_11ec_909e_0242ac1c0002row7_col8\" class=\"data row7 col8\" >0.088000</td>\n",
              "                        <td id=\"T_914c77e6_2d2b_11ec_909e_0242ac1c0002row7_col9\" class=\"data row7 col9\" >-0.350000</td>\n",
              "            </tr>\n",
              "            <tr>\n",
              "                        <th id=\"T_914c77e6_2d2b_11ec_909e_0242ac1c0002level0_row8\" class=\"row_heading level0 row8\" >rainfall</th>\n",
              "                        <td id=\"T_914c77e6_2d2b_11ec_909e_0242ac1c0002row8_col0\" class=\"data row8 col0\" >-0.037000</td>\n",
              "                        <td id=\"T_914c77e6_2d2b_11ec_909e_0242ac1c0002row8_col1\" class=\"data row8 col1\" >-0.042000</td>\n",
              "                        <td id=\"T_914c77e6_2d2b_11ec_909e_0242ac1c0002row8_col2\" class=\"data row8 col2\" >-0.010000</td>\n",
              "                        <td id=\"T_914c77e6_2d2b_11ec_909e_0242ac1c0002row8_col3\" class=\"data row8 col3\" >0.022000</td>\n",
              "                        <td id=\"T_914c77e6_2d2b_11ec_909e_0242ac1c0002row8_col4\" class=\"data row8 col4\" >-0.030000</td>\n",
              "                        <td id=\"T_914c77e6_2d2b_11ec_909e_0242ac1c0002row8_col5\" class=\"data row8 col5\" >-0.001000</td>\n",
              "                        <td id=\"T_914c77e6_2d2b_11ec_909e_0242ac1c0002row8_col6\" class=\"data row8 col6\" >-0.031000</td>\n",
              "                        <td id=\"T_914c77e6_2d2b_11ec_909e_0242ac1c0002row8_col7\" class=\"data row8 col7\" >0.088000</td>\n",
              "                        <td id=\"T_914c77e6_2d2b_11ec_909e_0242ac1c0002row8_col8\" class=\"data row8 col8\" >1.000000</td>\n",
              "                        <td id=\"T_914c77e6_2d2b_11ec_909e_0242ac1c0002row8_col9\" class=\"data row8 col9\" >-0.035000</td>\n",
              "            </tr>\n",
              "            <tr>\n",
              "                        <th id=\"T_914c77e6_2d2b_11ec_909e_0242ac1c0002level0_row9\" class=\"row_heading level0 row9\" >windspeed</th>\n",
              "                        <td id=\"T_914c77e6_2d2b_11ec_909e_0242ac1c0002row9_col0\" class=\"data row9 col0\" >-0.188000</td>\n",
              "                        <td id=\"T_914c77e6_2d2b_11ec_909e_0242ac1c0002row9_col1\" class=\"data row9 col1\" >-0.163000</td>\n",
              "                        <td id=\"T_914c77e6_2d2b_11ec_909e_0242ac1c0002row9_col2\" class=\"data row9 col2\" >-0.348000</td>\n",
              "                        <td id=\"T_914c77e6_2d2b_11ec_909e_0242ac1c0002row9_col3\" class=\"data row9 col3\" >-0.314000</td>\n",
              "                        <td id=\"T_914c77e6_2d2b_11ec_909e_0242ac1c0002row9_col4\" class=\"data row9 col4\" >0.101000</td>\n",
              "                        <td id=\"T_914c77e6_2d2b_11ec_909e_0242ac1c0002row9_col5\" class=\"data row9 col5\" >-0.093000</td>\n",
              "                        <td id=\"T_914c77e6_2d2b_11ec_909e_0242ac1c0002row9_col6\" class=\"data row9 col6\" >0.062000</td>\n",
              "                        <td id=\"T_914c77e6_2d2b_11ec_909e_0242ac1c0002row9_col7\" class=\"data row9 col7\" >-0.350000</td>\n",
              "                        <td id=\"T_914c77e6_2d2b_11ec_909e_0242ac1c0002row9_col8\" class=\"data row9 col8\" >-0.035000</td>\n",
              "                        <td id=\"T_914c77e6_2d2b_11ec_909e_0242ac1c0002row9_col9\" class=\"data row9 col9\" >1.000000</td>\n",
              "            </tr>\n",
              "    </tbody></table>"
            ],
            "text/plain": [
              "<pandas.io.formats.style.Styler at 0x7fd03cd8afd0>"
            ]
          },
          "metadata": {},
          "execution_count": 9
        }
      ]
    },
    {
      "cell_type": "markdown",
      "metadata": {
        "id": "3I6hJO9RccMK"
      },
      "source": [
        "In this quick exploration, we checked for the correlation between each of the explanatory variables and the target variables (in this case PM2.5). The blue colors signifies positive correlation while the red colors signifies negative correlation. Overall, we observe both positive and negative correlation for each of the explanatory variables and the target variable. Since most of these negative correlation are weak, only the strong positively correlated variables would be selected for further analysis and modelling."
      ]
    },
    {
      "cell_type": "code",
      "metadata": {
        "id": "iXsJZpYZ_WFl"
      },
      "source": [
        "#A quick scatter plot\n",
        "#for i in X.columns:\n",
        " #   train_data.plot.scatter(x=i, y='PM2.5')"
      ],
      "execution_count": null,
      "outputs": []
    },
    {
      "cell_type": "code",
      "metadata": {
        "id": "WwiwLPz6dyjd"
      },
      "source": [
        "# Select the explanatory variables that have the strongest positive correlation with PM 2.5 \n",
        "explanatory_variables = (\"SO2\", \"NO2\", \"CO\")"
      ],
      "execution_count": null,
      "outputs": []
    },
    {
      "cell_type": "code",
      "metadata": {
        "colab": {
          "base_uri": "https://localhost:8080/"
        },
        "id": "MRaSaAnmesAv",
        "outputId": "c360b4b0-69d2-4534-e99d-5aaea42f7543"
      },
      "source": [
        "#Variable for Linear regression:: strongest positive correlation\n",
        "x=data['CO']\n",
        "y=data['PM2.5']\n",
        "\n",
        "plt.plot(x, y, 'rx')\n",
        "m, b = np.polyfit(x, y, 1)\n",
        "plt.plot(x, m*x+b)\n",
        "plt.gca().set(title='Simple Fit of Linear regression on CO versus PM2.5', ylabel='PM2.5', xlabel='CO')"
      ],
      "execution_count": null,
      "outputs": [
        {
          "output_type": "execute_result",
          "data": {
            "text/plain": [
              "[Text(0, 0.5, 'PM2.5'),\n",
              " Text(0.5, 0, 'CO'),\n",
              " Text(0.5, 1.0, 'Simple Fit of Linear regression on CO versus PM2.5')]"
            ]
          },
          "metadata": {},
          "execution_count": 12
        },
        {
          "output_type": "display_data",
          "data": {
            "image/png": "[encoded data removed]",
            "text/plain": [
              "<Figure size 432x288 with 1 Axes>"
            ]
          },
          "metadata": {
            "needs_background": "light"
          }
        }
      ]
    },
    {
      "cell_type": "code",
      "metadata": {
        "colab": {
          "base_uri": "https://localhost:8080/"
        },
        "id": "8PIGtln0hBQq",
        "outputId": "13ae9a67-5938-423d-f58b-3c5417bc2b48"
      },
      "source": [
        "# data distribution plot\n",
        "import seaborn as sns \n",
        "#plt.hist(x, bins= 30)\n",
        "sns.distplot(x, color='blue')\n",
        "plt.gca().set(title='CO Distribution', ylabel='Frequency')"
      ],
      "execution_count": null,
      "outputs": [
        {
          "output_type": "stream",
          "name": "stderr",
          "text": [
            "/usr/local/lib/python3.7/dist-packages/seaborn/distributions.py:2619: FutureWarning: `distplot` is a deprecated function and will be removed in a future version. Please adapt your code to use either `displot` (a figure-level function with similar flexibility) or `histplot` (an axes-level function for histograms).\n",
            "  warnings.warn(msg, FutureWarning)\n"
          ]
        },
        {
          "output_type": "execute_result",
          "data": {
            "text/plain": [
              "[Text(0, 0.5, 'Frequency'), Text(0.5, 1.0, 'CO Distribution')]"
            ]
          },
          "metadata": {},
          "execution_count": 13
        },
        {
          "output_type": "display_data",
          "data": {
            "image/png": "[encoded data removed]",
            "text/plain": [
              "<Figure size 432x288 with 1 Axes>"
            ]
          },
          "metadata": {
            "needs_background": "light"
          }
        }
      ]
    },
    {
      "cell_type": "code",
      "metadata": {
        "id": "HcBZgpL_5oxf"
      },
      "source": [
        "#-- Select the explanatory variables for the simple linear regression, then the multiple linear regression, and display the scatter plots\n",
        "#plt.figure(figsize=(15,5))\n",
        "#plt.subplot(141).scatter(X['CO'], Y)\n",
        "#plt.subplot(142).scatter(X['SO2'], Y)\n",
        "#plt.subplot(143).scatter(X['NO2'], Y)\n",
        "#plt.subplot(144).scatter(X['pressure'], Y)\n",
        "#plt.show()"
      ],
      "execution_count": null,
      "outputs": []
    },
    {
      "cell_type": "code",
      "metadata": {
        "colab": {
          "base_uri": "https://localhost:8080/"
        },
        "id": "3z9FCN6qiBoY",
        "outputId": "c266b321-7f8f-49a9-888e-288af372a0d8"
      },
      "source": [
        "# a quick scatter plots of the selected explanatory variables for multiple linear regression\n",
        "fig, (ax1, ax2, ax3) = plt.subplots(1, 3, figsize= (18, 8))\n",
        "ax1.plot(X['SO2'], Y, 'rx')\n",
        "m, b = np.polyfit(X['SO2'], Y, 1)\n",
        "ax1.plot(X['SO2'], m*X['SO2']+b)\n",
        "ax1.set_title(\"SO2 versus PM2.5\")\n",
        "#(title=f'Simple Fit of Linear regression on , ylabel='PM2.5', xlabel=SO2)\n",
        "\n",
        "ax2.plot(X['NO2'], Y, 'rx')\n",
        "m, b = np.polyfit(X['NO2'], Y, 1)\n",
        "ax2.plot(X['NO2'], m*X['NO2']+b)\n",
        "ax2.set_title(\"NO2 versus PM2.5\")\n",
        "\n",
        "ax3.plot(X['CO'], Y, 'rx')\n",
        "m, b = np.polyfit(X['CO'], Y, 1)\n",
        "ax3.plot(X['CO'], m*X['CO']+b)\n",
        "ax3.set_title(\"CO versus PM2.5\")\n"
      ],
      "execution_count": null,
      "outputs": [
        {
          "output_type": "execute_result",
          "data": {
            "text/plain": [
              "Text(0.5, 1.0, 'CO versus PM2.5')"
            ]
          },
          "metadata": {},
          "execution_count": 15
        },
        {
          "output_type": "display_data",
          "data": {
            "image/png": "[encoded data removed]",
            "text/plain": [
              "<Figure size 1296x576 with 3 Axes>"
            ]
          },
          "metadata": {
            "needs_background": "light"
          }
        }
      ]
    },
    {
      "cell_type": "markdown",
      "metadata": {
        "id": "BiWEDr3OtLho"
      },
      "source": [
        "## Data preparation\n",
        "Here, we perform a quick mean-centering standardization of our explanatory variables and create our standard data matrix (with dimension d+1, m)"
      ]
    },
    {
      "cell_type": "code",
      "metadata": {
        "id": "QHAJTUz45oxg",
        "colab": {
          "base_uri": "https://localhost:8080/"
        },
        "outputId": "5b660efb-1ff1-46c2-c611-55122e9db6f2"
      },
      "source": [
        "#-- Extract the data and creates two X matrices that will be used for the regression (have a look at page 26 to know the form of X):\n",
        "#---- Xs for simple lin reg and Xm for multiple lin reg\n",
        "\n",
        "# selecting X matrices for simple linear regression and multiple linear regression\n",
        "Xs = np.vstack((X.loc[:, ['CO']].to_numpy()))\n",
        "Xm = np.vstack((X.loc[:, [\"SO2\", \"CO\", \"NO2\"]].to_numpy()))\n",
        "\n",
        "#-- Check the size of both matrices\n",
        "print(\"The shape of X matrix for simple linear regression is: \", Xs.shape, \"\\n\", \n",
        "      \"The shape of X matrix for multiple linear regression is: \", Xm.shape)\n",
        "# Hint: use stack/hstack/vstack"
      ],
      "execution_count": null,
      "outputs": [
        {
          "output_type": "stream",
          "name": "stdout",
          "text": [
            "The shape of X matrix for simple linear regression is:  (11160, 1) \n",
            " The shape of X matrix for multiple linear regression is:  (11160, 3)\n"
          ]
        }
      ]
    },
    {
      "cell_type": "code",
      "metadata": {
        "id": "uIUhSQAa5oxh",
        "colab": {
          "base_uri": "https://localhost:8080/"
        },
        "outputId": "5156c0b2-7b66-42eb-c8fc-50a838dd7bde"
      },
      "source": [
        "#--- Write the standardisation function to mean-center the X data\n",
        "# for mean-centering data, it is given that for every value in a x matrix, Xj = xj-x*j\n",
        "\n",
        "# Normalizing the data around the center\n",
        "\n",
        "def standardisation(X):\n",
        "  return ((X - np.nanmean(X, axis = 0))/np.nanstd(X, axis = 0))\n",
        "\n",
        "#-- Test 1 - simple lin reg\n",
        "Xs_std = standardisation(Xs)\n",
        "print('Standardized X matrix for linear regression: \\n', Xs)\n",
        "\n",
        "print('\\n')\n",
        "#-- Test 2 - multiple lin reg\n",
        "Xm_std = standardisation(Xm)\n",
        "print('Standardized X matrix for multiple regression: \\n', Xm)"
      ],
      "execution_count": null,
      "outputs": [
        {
          "output_type": "stream",
          "name": "stdout",
          "text": [
            "Standardized X matrix for linear regression: \n",
            " [[ 300.]\n",
            " [ 900.]\n",
            " [1600.]\n",
            " ...\n",
            " [3000.]\n",
            " [ 500.]\n",
            " [1200.]]\n",
            "\n",
            "\n",
            "Standardized X matrix for multiple regression: \n",
            " [[   7.  300.   13.]\n",
            " [  25.  900.   76.]\n",
            " [  77. 1600.   99.]\n",
            " ...\n",
            " [  46. 3000.   99.]\n",
            " [   7.  500.   15.]\n",
            " [  12. 1200.   54.]]\n"
          ]
        }
      ]
    },
    {
      "cell_type": "code",
      "metadata": {
        "colab": {
          "base_uri": "https://localhost:8080/"
        },
        "id": "yJqJC7nQzWrc",
        "outputId": "4334b83b-8472-46f4-f196-818cc80cb212"
      },
      "source": [
        "print(stats.describe(Xs))"
      ],
      "execution_count": null,
      "outputs": [
        {
          "output_type": "stream",
          "name": "stdout",
          "text": [
            "DescribeResult(nobs=11160, minmax=(array([100.]), array([10000.])), mean=array([1165.91810036]), variance=array([1020988.00673391]), skewness=array([2.39100859]), kurtosis=array([9.40441346]))\n"
          ]
        }
      ]
    },
    {
      "cell_type": "code",
      "metadata": {
        "id": "uKotsY9J5oxh"
      },
      "source": [
        "#-- Preparing the matrix used for the regression linear when using the gradient descent algorithm add 1 vector column\n",
        "ones = np.ones((len(X['SO2']), 1))\n",
        "Xs = np.hstack((ones, Xs_std))\n",
        "Xm = np.hstack((ones, Xm_std))"
      ],
      "execution_count": null,
      "outputs": []
    },
    {
      "cell_type": "code",
      "metadata": {
        "colab": {
          "base_uri": "https://localhost:8080/"
        },
        "id": "wlHoMzFe0JYt",
        "outputId": "671cb60e-9b48-4e7d-fa9a-99270f6fac0f"
      },
      "source": [
        "Xs"
      ],
      "execution_count": null,
      "outputs": [
        {
          "output_type": "execute_result",
          "data": {
            "text/plain": [
              "array([[ 1.        , -0.85701013],\n",
              "       [ 1.        , -0.26318252],\n",
              "       [ 1.        ,  0.42961636],\n",
              "       ...,\n",
              "       [ 1.        ,  1.81521413],\n",
              "       [ 1.        , -0.65906759],\n",
              "       [ 1.        ,  0.03373129]])"
            ]
          },
          "metadata": {},
          "execution_count": 20
        }
      ]
    },
    {
      "cell_type": "code",
      "metadata": {
        "colab": {
          "base_uri": "https://localhost:8080/"
        },
        "id": "_ERIPYeBqIyY",
        "outputId": "ebc60c8c-86a4-43dd-d6c2-f50ceff8fffd"
      },
      "source": [
        "Xm"
      ],
      "execution_count": null,
      "outputs": [
        {
          "output_type": "execute_result",
          "data": {
            "text/plain": [
              "array([[ 1.        , -0.55074374, -0.85701013, -0.96110249],\n",
              "       [ 1.        ,  0.11892268, -0.26318252,  0.9541349 ],\n",
              "       [ 1.        ,  2.05351456,  0.42961636,  1.65334855],\n",
              "       ...,\n",
              "       [ 1.        ,  0.90020017,  1.81521413,  1.65334855],\n",
              "       [ 1.        , -0.55074374, -0.65906759, -0.9003013 ],\n",
              "       [ 1.        , -0.36472529,  0.03373129,  0.28532184]])"
            ]
          },
          "metadata": {},
          "execution_count": 21
        }
      ]
    },
    {
      "cell_type": "markdown",
      "metadata": {
        "id": "fZaUOsaN5oxh"
      },
      "source": [
        "## Least squares or maximum likelihood solution"
      ]
    },
    {
      "cell_type": "code",
      "metadata": {
        "id": "hpt3TzsK5oxh",
        "colab": {
          "base_uri": "https://localhost:8080/"
        },
        "outputId": "f59b4840-62d3-4d0e-c0ef-64f71e8e8f17"
      },
      "source": [
        "#-- To compare the results of the gradient descent algorithm, we will first implement an exact solution with the maximum likelihood\n",
        "#Formulae recall: (X^T X)^-1 X^T Y\n",
        "def coef_ml(X, Y):\n",
        "  #computes the exact solution using the explicit solution formulation for \n",
        "  #Maximum likelihood based on the Gauss-Markov's theorem\n",
        "\n",
        "  beta_optimal = np.dot(np.linalg.inv(np.dot(X.T, X)), np.dot(X.T, Y))\n",
        "  return beta_optimal\n",
        "\n",
        "#-- Test 1  - simple regression\n",
        "Bs = coef_ml(Xs, Y)\n",
        "print(Bs)\n",
        "\n",
        "#-- Test 2 - multiple regression\n",
        "Bm = coef_ml(Xm, Y)\n",
        "print(Bm)\n",
        "\n",
        "#-- (We can also use the native functions of Scikit-Learn, but they are more parameters that needs to be tuned)"
      ],
      "execution_count": null,
      "outputs": [
        {
          "output_type": "stream",
          "name": "stdout",
          "text": [
            "[144.78560932  65.52511973]\n",
            "[144.78560932  10.09770389  44.35093241  19.89503689]\n"
          ]
        }
      ]
    },
    {
      "cell_type": "markdown",
      "metadata": {
        "id": "FILPwOG35oxi"
      },
      "source": [
        "## Gradient descent algorithm\n",
        "\n",
        "In the following we will implement several functions to apply linear regression.\n",
        "These functions should be generic and work for any number of explanatory variables. You should be able to apply them to Xs and Xm standardized variables.\n",
        "\n",
        "WARNING: parameters of the functions needs to be completed"
      ]
    },
    {
      "cell_type": "code",
      "metadata": {
        "id": "PkK1zB7r5oxi",
        "colab": {
          "base_uri": "https://localhost:8080/"
        },
        "outputId": "1e465206-d38a-438f-b077-b48d87412c9a"
      },
      "source": [
        "#-- Model\n",
        "# Do this computation without for loop, \n",
        "# Except for the gradient descent iterations. \n",
        "def f(X, B):\n",
        "  return np.dot(X, B)\n",
        "\n",
        "#-- Test 1 - simple reg\n",
        "XfuncLin = f(Xs, Bs)\n",
        "XfuncLin\n",
        "\n",
        "#-- Test 2 - multiple reg\n",
        "XfuncMult = f(Xm, Bm)\n",
        "XfuncMult"
      ],
      "execution_count": null,
      "outputs": [
        {
          "output_type": "execute_result",
          "data": {
            "text/plain": [
              "array([ 82.09399419, 153.29661435, 217.46870806, ..., 267.27543366,\n",
              "        92.08257216, 148.27522406])"
            ]
          },
          "metadata": {},
          "execution_count": 23
        }
      ]
    },
    {
      "cell_type": "code",
      "metadata": {
        "id": "MwFa6oh95oxi",
        "colab": {
          "base_uri": "https://localhost:8080/"
        },
        "outputId": "5ab28845-afa6-4d94-ea33-fa99461d35ce"
      },
      "source": [
        "#%% Cost function\n",
        "def cout(x, y, beta):\n",
        "  # no. of observations\n",
        "    m = y.shape[0]\n",
        "    cost = (np.sum(np.square(f(x, beta) - y)))/(2*m)\n",
        "    return cost\n",
        "\n",
        "#%% Test 1 - simple reg\n",
        "Js = cout(Xs, Y, Bs)\n",
        "print(Js)\n",
        "\n",
        "#%% Test 2 - multiple reg\n",
        "Jm = cout(Xm, Y, Bm)\n",
        "print(Jm)"
      ],
      "execution_count": null,
      "outputs": [
        {
          "output_type": "stream",
          "name": "stdout",
          "text": [
            "3149.7114780201705\n",
            "3004.7105796697406\n"
          ]
        }
      ]
    },
    {
      "cell_type": "code",
      "metadata": {
        "id": "3axBPvST5oxj",
        "colab": {
          "base_uri": "https://localhost:8080/"
        },
        "outputId": "ada1f4ca-a5ea-4e8d-ad4d-23e3db9a90c4"
      },
      "source": [
        "#%% Computation of the gradient\n",
        "def grad(x, y, betas):\n",
        "  #no. of observations\n",
        "    m = x.shape[0]\n",
        "    return 1/m * (np.dot((f(x, betas)-y),x))\n",
        "\n",
        "#%% Test 1 - simple reg\n",
        "Gs = grad(Xs, Y, Bs)\n",
        "print(Gs)\n",
        "#%% Test 2 - multiple reg\n",
        "Gm = grad(Xm, Y, Bm)\n",
        "print(Gm)"
      ],
      "execution_count": null,
      "outputs": [
        {
          "output_type": "stream",
          "name": "stdout",
          "text": [
            "[-6.51967528e-16 -1.21428952e-14]\n",
            "[-1.56472207e-14 -7.14719403e-14 -3.40653033e-14  4.15578364e-14]\n"
          ]
        }
      ]
    },
    {
      "cell_type": "code",
      "metadata": {
        "id": "0vChePLBUmeP"
      },
      "source": [
        "#gradient descent algorithm\n",
        "def grad_descent(x, y, beta, alpha, no_of_iter, tolerance = 0.001):\n",
        "\n",
        "    \"\"\"\n",
        "    Gradient Descent Algorithm: An optimisation function for selecting the best \n",
        "    model parameter. Here, we implement the gradient descent algorithm for \n",
        "    selecting the optimal beta parameters for a linear model\n",
        "    \"\"\"\n",
        "\n",
        "    #size of observations\n",
        "    size = x.shape[1]\n",
        "\n",
        "    #list to store the beta values and cost values\n",
        "    parameters = np.zeros((no_of_iter, size))\n",
        "\n",
        "    costs=[]\n",
        "    \n",
        "    #calculate the beta values for each iteration\n",
        "\n",
        "    for i in range(no_of_iter):\n",
        "\n",
        "      beta = beta - alpha*grad(x, y, beta)\n",
        "      parameters[i,:]=beta\n",
        "\n",
        "      cost= cout(x, y, beta)\n",
        "\n",
        "      if len(costs)>2 and costs[-1]-cost<tolerance:\n",
        "        break\n",
        "      costs.append(cost)\n",
        "\n",
        "    return beta, parameters, costs"
      ],
      "execution_count": null,
      "outputs": []
    },
    {
      "cell_type": "code",
      "metadata": {
        "id": "GsLED5tZy9EC"
      },
      "source": [
        "# Test Gradient Descent Algorithm for Simple Linear Regression\n",
        "#-- Test 1  - simple reg\n",
        "# set up the values of gradient descent parameters\n",
        "\n",
        "alpha, iter = 0.001, 5000\n",
        "vector_size=Xs.shape[1]\n",
        "\n",
        "#initialize beta value\n",
        "beta=np.random.randn(vector_size,)\n",
        "\n",
        "beta_s, parameters_s, costs_s= grad_descent(Xs, Y, beta, alpha, iter)"
      ],
      "execution_count": null,
      "outputs": []
    },
    {
      "cell_type": "code",
      "metadata": {
        "colab": {
          "base_uri": "https://localhost:8080/"
        },
        "id": "pIQH4i8Vzu5i",
        "outputId": "cdf7d896-90e7-425b-874c-c1fbb2246d01"
      },
      "source": [
        "optimal_parameter_s = parameters_s[len(costs_s)-1]\n",
        "print(\"The optimal parameter for SLR are: \", optimal_parameter_s)"
      ],
      "execution_count": null,
      "outputs": [
        {
          "output_type": "stream",
          "name": "stdout",
          "text": [
            "The optimal parameter for SLR are:  [143.8135428  65.0874613]\n"
          ]
        }
      ]
    },
    {
      "cell_type": "code",
      "metadata": {
        "colab": {
          "base_uri": "https://localhost:8080/",
          "height": 312
        },
        "id": "pWVSKJx2UoqF",
        "outputId": "e0a82be8-0187-4c2e-8cd2-e0b83f03970f"
      },
      "source": [
        "# Graphical plot of the cost (mean-squared error) per iteration\n",
        "# Cost per iteration analysis for single linear regression\n",
        "plt.plot(range(len(costs_s)),costs_s)\n",
        "plt.xlabel('Number of Iterations')\n",
        "plt.ylabel('Cost')\n",
        "plt.title('Cost versus number of iterations: SLR')"
      ],
      "execution_count": null,
      "outputs": [
        {
          "output_type": "execute_result",
          "data": {
            "text/plain": [
              "Text(0.5, 1.0, 'Cost versus number of iterations: SLR')"
            ]
          },
          "metadata": {},
          "execution_count": 31
        },
        {
          "output_type": "display_data",
          "data": {
            "image/png": "[encoded data removed]",
            "text/plain": [
              "<Figure size 432x288 with 1 Axes>"
            ]
          },
          "metadata": {
            "needs_background": "light"
          }
        }
      ]
    },
    {
      "cell_type": "code",
      "metadata": {
        "id": "OWRqqAGy02Zl"
      },
      "source": [
        "#Test Gradient Descent Algorithm for Multiple Linear Regression\n",
        "#-- Test 2 - multiple reg\n",
        "vector_size=Xm.shape[1]\n",
        "beta=np.random.randn(vector_size,)\n",
        "beta_m, parameters_m, costs_m= grad_descent(Xm, Y, beta, alpha, iter)"
      ],
      "execution_count": null,
      "outputs": []
    },
    {
      "cell_type": "code",
      "metadata": {
        "colab": {
          "base_uri": "https://localhost:8080/"
        },
        "id": "H0vOFnlg1fTq",
        "outputId": "07d2bb3c-a254-4b34-8b79-413eeb7ccdd1"
      },
      "source": [
        "optimal_parameter_m = parameters_m[len(costs_m)-1]\n",
        "print(\"The optimal parameters for MLR are: \", optimal_parameter_m)"
      ],
      "execution_count": null,
      "outputs": [
        {
          "output_type": "stream",
          "name": "stdout",
          "text": [
            "The optimal parameters for MLR are:  [143.80949764  11.96868548  39.88024377  22.67133856]\n"
          ]
        }
      ]
    },
    {
      "cell_type": "code",
      "metadata": {
        "colab": {
          "base_uri": "https://localhost:8080/",
          "height": 312
        },
        "id": "T-0p8eBh2srb",
        "outputId": "9b092e7d-18cc-4ebe-c433-aea5b9a4d59b"
      },
      "source": [
        "# Graphical plot of the cost (mean-squared error) per iteration\n",
        "# Cost per iteration analysis for single linear regression\n",
        "plt.plot(range(len(costs_m)),costs_m)\n",
        "plt.xlabel('Number of Iterations')\n",
        "plt.ylabel('Cost')\n",
        "plt.title('Cost versus number of iterations: MLR')"
      ],
      "execution_count": null,
      "outputs": [
        {
          "output_type": "execute_result",
          "data": {
            "text/plain": [
              "Text(0.5, 1.0, 'Cost versus number of iterations: MLR')"
            ]
          },
          "metadata": {},
          "execution_count": 34
        },
        {
          "output_type": "display_data",
          "data": {
            "image/png": "[encoded data removed]",
            "text/plain": [
              "<Figure size 432x288 with 1 Axes>"
            ]
          },
          "metadata": {
            "needs_background": "light"
          }
        }
      ]
    },
    {
      "cell_type": "markdown",
      "metadata": {
        "id": "3XDp9l-n5oxj"
      },
      "source": [
        "## Experiment with several initialisations: visualisation of the cost function and parameter values during the iterations"
      ]
    },
    {
      "cell_type": "code",
      "metadata": {
        "collapsed": true,
        "jupyter": {
          "outputs_hidden": true
        },
        "id": "gCnHX4eJ5oxk"
      },
      "source": [
        "#-- Test 1 -- simple linear regression: Adjust parameter value initialization.\n",
        "\n",
        "vector_size=Xs.shape[1]\n",
        "\n",
        "# set initialisation to zero:\n",
        "initials = [1, 10, 20, 50] #different initializations\n",
        "cost_i = []\n",
        "for i in initials:\n",
        "  beta=i*np.ones(vector_size,)\n",
        "  beta_s1, parameters_s1, costs_s1= grad_descent(Xs, Y, beta, alpha, iter)\n",
        "  cost_i.append(costs_s1)"
      ],
      "execution_count": null,
      "outputs": []
    },
    {
      "cell_type": "code",
      "metadata": {
        "colab": {
          "base_uri": "https://localhost:8080/"
        },
        "id": "_YUICTvBefxk",
        "outputId": "0d18415f-269c-45c8-c282-be5e92bec7ed"
      },
      "source": [
        "optimal_parameter_s1 = parameters_s1[len(costs_s1)-1]\n",
        "optimal_parameter_s1"
      ],
      "execution_count": null,
      "outputs": [
        {
          "output_type": "execute_result",
          "data": {
            "text/plain": [
              "array([143.7991818 ,  65.36355084])"
            ]
          },
          "metadata": {},
          "execution_count": 76
        }
      ]
    },
    {
      "cell_type": "code",
      "metadata": {
        "colab": {
          "base_uri": "https://localhost:8080/",
          "height": 295
        },
        "id": "aslfPfoIexQx",
        "outputId": "c3ac278a-65c6-47dd-9e25-d0126c160beb"
      },
      "source": [
        "idx =[0, 1, 2, 3]\n",
        "for i in idx:\n",
        "  plt.plot(range(len(cost_i[i])),cost_i[i])\n",
        "  plt.xlabel('Number of Iterations')\n",
        "  \n",
        "  plt.ylabel('Cost')\n",
        "  plt.legend(labels = initials)\n",
        "  plt.title('Cost distributions with different initializations: SLR')"
      ],
      "execution_count": null,
      "outputs": [
        {
          "output_type": "display_data",
          "data": {
            "image/png": "[encoded data removed]",
            "text/plain": [
              "<Figure size 432x288 with 1 Axes>"
            ]
          },
          "metadata": {
            "needs_background": "light"
          }
        }
      ]
    },
    {
      "cell_type": "code",
      "metadata": {
        "id": "YR2sxWQj2_TG"
      },
      "source": [
        "#-- Test 2 - multiple linear regression: adjust parameter value initialisation\n",
        "vector_size=Xm.shape[1]\n",
        "\n",
        "# set initialisation to zero:\n",
        "initials = [1, 10, 20, 50] #different initializations\n",
        "cost_i = []\n",
        "for i in initials:\n",
        "  beta=i*np.ones(vector_size,)\n",
        "  beta_s1, parameters_s1, costs_s1= grad_descent(Xm, Y, beta, alpha, iter)\n",
        "  cost_i.append(costs_s1)\n"
      ],
      "execution_count": null,
      "outputs": []
    },
    {
      "cell_type": "code",
      "metadata": {
        "id": "G5KyCz_bxjWI",
        "colab": {
          "base_uri": "https://localhost:8080/",
          "height": 295
        },
        "outputId": "2b31fc29-7b2a-49c3-c62e-1c55b0133225"
      },
      "source": [
        "idx =[0, 1, 2, 3]\n",
        "for i in idx:\n",
        "  plt.plot(range(len(cost_i[i])),cost_i[i])\n",
        "  plt.xlabel('Number of Iterations')\n",
        "  plt.ylabel('Cost')\n",
        "  plt.legend(labels = initials)\n",
        "  plt.title('Cost distributions with different initializations: MLR')"
      ],
      "execution_count": null,
      "outputs": [
        {
          "output_type": "display_data",
          "data": {
            "image/png": "[encoded data removed]",
            "text/plain": [
              "<Figure size 432x288 with 1 Axes>"
            ]
          },
          "metadata": {
            "needs_background": "light"
          }
        }
      ]
    },
    {
      "cell_type": "markdown",
      "metadata": {
        "id": "qGUFzt6h5oxk"
      },
      "source": [
        "**Notes:**\n",
        "Here, we see similar behaviour in the distribution of the cost regardless of the initial beta parameter. This shows the specificity of the gradient descent optimisation algorithm in finding the global minima in our model parameter regardless of the initial learning parameter. "
      ]
    },
    {
      "cell_type": "markdown",
      "metadata": {
        "id": "UiVZBt5L5oxk"
      },
      "source": [
        "## Experiment with several learning rates: visualisation of the cost function and parameter values during the iterations"
      ]
    },
    {
      "cell_type": "code",
      "metadata": {
        "id": "6dD4I_yP5oxk"
      },
      "source": [
        "#-- Test 1  - simple reg\n",
        "learning_rate = (0.0001, 0.005, 0.01)\n",
        "cost_lr = []\n",
        "vector_size=Xs.shape[1]\n",
        "beta = np.random.randn(vector_size,)\n",
        "for i in learning_rate:\n",
        "  beta, parameters, costs= grad_descent(Xs, Y, beta,i, iter)\n",
        "  cost_lr.append(costs)\n",
        "#-- Test 2 - multiple reg\n"
      ],
      "execution_count": null,
      "outputs": []
    },
    {
      "cell_type": "code",
      "metadata": {
        "colab": {
          "base_uri": "https://localhost:8080/",
          "height": 295
        },
        "id": "IxOQvfJDAbxr",
        "outputId": "6df4e663-96ec-487d-8243-9ac7810654aa"
      },
      "source": [
        "no =[0, 1, 2]\n",
        "for i in no:\n",
        "  plt.plot(range(len(cost_lr[i])),cost_lr[i])\n",
        "  plt.xlabel('Number of Iterations')\n",
        "  plt.ylabel('Cost')\n",
        "  plt.legend(labels = learning_rate)\n",
        "  plt.title('Cost versus number of iterations: SLR:Bo=0')"
      ],
      "execution_count": null,
      "outputs": [
        {
          "output_type": "display_data",
          "data": {
            "image/png": "[encoded data removed]",
            "text/plain": [
              "<Figure size 432x288 with 1 Axes>"
            ]
          },
          "metadata": {
            "needs_background": "light"
          }
        }
      ]
    },
    {
      "cell_type": "markdown",
      "metadata": {
        "id": "tooYkvo_5oxk"
      },
      "source": [
        "**Notes:**\n",
        "Here, we see three different learning rates showing different behaviour for the distribution of our cost function. The very small learning rate (0.0001) could not converge and reach the global minimum in our data, whereas a large learning rate (0.01) converged very quickly but risks getting stucked in a local minima. Notwithstanding, we were able to reach a compromise with 0.005 learning rate which shows a gradual progression of the cost and eventual convergence at about 1000 iterations."
      ]
    },
    {
      "cell_type": "markdown",
      "metadata": {
        "id": "zyVdNA4E5oxk"
      },
      "source": [
        "## **Notes**\n",
        "Analysis your results: short description of your analysis and visualization.\n",
        "\n",
        "\n",
        "**On the choice of the stopping criterion:**\n",
        "Since Gradient Descent Algorithm is an iterative algorithm that searches for th optimal parameter that minimizes the cost, we therefore need an efficient way of defining what an optimal cost would be. To do this, we use two approaches:\n",
        "\n",
        "I. Setting specific number of iteration at which our gradient descent will search through the data. Otherwise in cases where the algorithm does not converge, then it runs forever.\n",
        "\n",
        "II. Set a tolerance threshold to compare two consecutive costs computed in the gradient descent function. Since, we intend to optimize this cost, our aim is to get the difference between two consecutive cost to be closer to zero as much as possible. Hence we set this tolerance as close to zero as possible.\n",
        "\n",
        "\n",
        "**On the data normalisation:**\n",
        "\n",
        "Two steps were incorporation into the feature engineering of the data used for this analysis. First, a mean-centering data normalisation process to reduce the effects of high-variance data points on the overall data distribution. And second , extending the data matrix by an additional column of ones to capture the intercept in the linear regression model.  The former uses the standard deviation of the sample to to fix the variance and keep the data invariant to outliers.\n",
        "\n",
        "\n",
        "\n",
        "\n"
      ]
    }
  ]
}
