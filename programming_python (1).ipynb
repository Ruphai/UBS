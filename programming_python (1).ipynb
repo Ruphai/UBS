{
 "cells": [
  {
   "cell_type": "markdown",
   "metadata": {},
   "source": [
    "# Math and Programming Basics"
   ]
  },
  {
   "cell_type": "markdown",
   "metadata": {},
   "source": [
    "Reference: [Python Basics: A Practical Introduction to Python 3](https://realpython.com/products/python-basics-book/)"
   ]
  },
  {
   "cell_type": "markdown",
   "metadata": {},
   "source": [
    "## Notebooks"
   ]
  },
  {
   "cell_type": "markdown",
   "metadata": {},
   "source": [
    "This semester, we will use Jupyter notebooks and Google colab as the primary way to practice machine an deep learning. \n",
    "**Notebooks** are a great way to mix executable code with rich contents (HTML, images, equations written in LaTeX, *etc.*). Google colab allows us to run notebooks on the cloud for free without any prior installation, while leveraging the power of [GPUs](https://en.wikipedia.org/wiki/Graphics_processing_unit). We will use Google Colab during the deep learning course, but feel free to try it ou before.\n",
    "\n",
    "Today, we will work with Jupyter notebook!"
   ]
  },
  {
   "cell_type": "markdown",
   "metadata": {},
   "source": [
    "The notebook that you are currently reading is not a static page but an interactive environment, which allows you to read and execute some code. Notebooks are composed of cells, which reprent a block of one or several Python isntructions.\n",
    "The current cell is a particular cell where I wrote a text by using markdown (as in the README.md used in Github)."
   ]
  },
  {
   "cell_type": "markdown",
   "metadata": {},
   "source": [
    "By default, new added cells are code cell. You can change the type of a cell by either using the \"Code\" menu in the central tab below the notebook name or typing on \"M\" once outside the edition model of the cell (use escape). Moreover, \"B\"(elow) and \"A\"(bove) allow you to insert a cell below or above the current cell, respectively. Please try the different mouse-free option (as it is more efficient than using the mouse)."
   ]
  },
  {
   "cell_type": "markdown",
   "metadata": {},
   "source": [
    "The next cell is a code cell that you can execute by running the play sign or by using \"Ctrl+Enter\" (or \"Command+Enter\" on a Mac) (the blue cursor on the left of the cell stays in the same cell); \"Ctrl+Shift\" (the cursor move to the next cell) or \"Alt+Enter\" (the cursor will be moved in a new cell added below the current cell).\n",
    "In the following cell, we declare two variables `T` (which represent the temperature in Celsius degree) and  `x`. We also display the content of the `x` variable."
   ]
  },
  {
   "cell_type": "code",
   "execution_count": 1,
   "metadata": {},
   "outputs": [
    {
     "data": {
      "text/plain": [
       "195"
      ]
     },
     "execution_count": 1,
     "metadata": {},
     "output_type": "execute_result"
    }
   ],
   "source": [
    "T = 21 # Vannes' temperature\n",
    "x = 13*15 # a multiplication\n",
    "x"
   ]
  },
  {
   "cell_type": "markdown",
   "metadata": {},
   "source": [
    "To display the content of several variables, you need to use the `print` function. Otherwise, only the last variable is displayed."
   ]
  },
  {
   "cell_type": "code",
   "execution_count": 2,
   "metadata": {},
   "outputs": [
    {
     "data": {
      "text/plain": [
       "21"
      ]
     },
     "execution_count": 2,
     "metadata": {},
     "output_type": "execute_result"
    }
   ],
   "source": [
    "x\n",
    "T"
   ]
  },
  {
   "cell_type": "code",
   "execution_count": 3,
   "metadata": {},
   "outputs": [
    {
     "name": "stdout",
     "output_type": "stream",
     "text": [
      "195\n",
      "21\n"
     ]
    }
   ],
   "source": [
    "print(x)\n",
    "print(T)"
   ]
  },
  {
   "cell_type": "markdown",
   "metadata": {},
   "source": [
    "As long as a cell has not been executed, the defined variables, functions, classes, *etc.* are not known for the other cell. Hence the execution order of the cell is crucial. For example, if you do not execute the first cell (where `T` and `x` variables are declared) and try to execute the previous cell, an error message will be displayed (as the variables would not exist). You can try it by relaunching the Jupyter kernel: Kernel > Restart Kernal and Clear All Outputs.\n",
    "If you need to execute all the cells of the notebook, you can also use: Run > Run All Cells"
   ]
  },
  {
   "cell_type": "markdown",
   "metadata": {},
   "source": [
    "## Python basics"
   ]
  },
  {
   "cell_type": "markdown",
   "metadata": {},
   "source": [
    "In this section, we will review the main component of Python."
   ]
  },
  {
   "cell_type": "markdown",
   "metadata": {},
   "source": [
    "### Arithmetic operations"
   ]
  },
  {
   "cell_type": "code",
   "execution_count": 4,
   "metadata": {},
   "outputs": [
    {
     "name": "stdout",
     "output_type": "stream",
     "text": [
      "a = 23 and b = 5\n",
      "28\n",
      "115\n",
      "18\n",
      "4.6\n",
      "4\n",
      "11920928955078125\n",
      "3\n",
      "1\n"
     ]
    }
   ],
   "source": [
    "a = 23\n",
    "b = 5\n",
    "print(\"a =\", a, \"and b =\" , b)\n",
    "print(a + b)      # addition\n",
    "print(a * b)      # multiplication\n",
    "print(a - b)      # subtraction\n",
    "print(a / b)      # division\n",
    "print(a//b)       # floor division / integer division\n",
    "print(b ** a)     # exponentiation\n",
    "print(a % b)      # modulus - returns the remainder\n",
    "print(2 * a % b)  # modulus - returns the remainder"
   ]
  },
  {
   "cell_type": "markdown",
   "metadata": {},
   "source": [
    "### Functions"
   ]
  },
  {
   "cell_type": "markdown",
   "metadata": {},
   "source": [
    "To define a function that can be reused several time, we use the 'def' statement. For example,"
   ]
  },
  {
   "cell_type": "code",
   "execution_count": 5,
   "metadata": {},
   "outputs": [
    {
     "name": "stdout",
     "output_type": "stream",
     "text": [
      "Hello everybody!\n"
     ]
    }
   ],
   "source": [
    "def hi():\n",
    "    \"\"\"\n",
    "    This function simply prints \"Hello everybody\". \n",
    "    \n",
    "    This is a shorter way of writing documentation, \n",
    "    it is good practice to always include a \n",
    "    description of what a function does.\n",
    "    \"\"\"\n",
    "    print(\"Hello everybody!\")\n",
    "\n",
    "hi()"
   ]
  },
  {
   "cell_type": "markdown",
   "metadata": {},
   "source": [
    "A function can take one or several parameters:"
   ]
  },
  {
   "cell_type": "code",
   "execution_count": 6,
   "metadata": {},
   "outputs": [],
   "source": [
    "def great_work(name):\n",
    "    print('You are doing some great work', name)"
   ]
  },
  {
   "cell_type": "markdown",
   "metadata": {},
   "source": [
    "You can then reuse the function several times:"
   ]
  },
  {
   "cell_type": "code",
   "execution_count": 7,
   "metadata": {},
   "outputs": [
    {
     "name": "stdout",
     "output_type": "stream",
     "text": [
      "You are doing some great work Peter\n",
      "You are doing some great work Alicia\n"
     ]
    }
   ],
   "source": [
    "great_work(\"Peter\")\n",
    "great_work(\"Alicia\")"
   ]
  },
  {
   "cell_type": "code",
   "execution_count": 8,
   "metadata": {},
   "outputs": [
    {
     "name": "stdout",
     "output_type": "stream",
     "text": [
      "You are doing some great work Camille\n",
      "You are doing some great work Brice\n"
     ]
    }
   ],
   "source": [
    "name = \"Camille\"\n",
    "great_work(name)\n",
    "great_work(\"Brice\")"
   ]
  },
  {
   "cell_type": "markdown",
   "metadata": {},
   "source": [
    "Note that in the previous example the `name` variable is used to call the function `great_work`.\n",
    "Despite this variable has the same name than the one used in the header and the body of the function `great_work`, there are different:\n",
    "* `name` in `great_work(name)` is an **actual parameters** (argument)\n",
    "* `name` used to define the `great_work` function is a **formal parameter**\n",
    "The value of the actual parameter is used to replace the value of the formal parameter when calling the function."
   ]
  },
  {
   "cell_type": "code",
   "execution_count": 9,
   "metadata": {},
   "outputs": [
    {
     "name": "stdout",
     "output_type": "stream",
     "text": [
      "You are doing some great work Charlotte\n",
      "You are doing some great work Charlotte\n"
     ]
    }
   ],
   "source": [
    "myname = \"Charlotte\" # replace with your name for self-encouragement\n",
    "great_work(myname)\n",
    "great_work(name=myname) # `myname` is used as a value for `name`"
   ]
  },
  {
   "cell_type": "markdown",
   "metadata": {},
   "source": [
    "This is also possible to define a function with default values for some of its parameters. For example:"
   ]
  },
  {
   "cell_type": "code",
   "execution_count": 10,
   "metadata": {},
   "outputs": [],
   "source": [
    "def sum(a,b=1):\n",
    "    return a+b # this functions returns the sum of a+b"
   ]
  },
  {
   "cell_type": "code",
   "execution_count": 11,
   "metadata": {},
   "outputs": [
    {
     "name": "stdout",
     "output_type": "stream",
     "text": [
      "5\n"
     ]
    }
   ],
   "source": [
    "print(sum(2,3))"
   ]
  },
  {
   "cell_type": "code",
   "execution_count": 12,
   "metadata": {},
   "outputs": [
    {
     "name": "stdout",
     "output_type": "stream",
     "text": [
      "3\n"
     ]
    }
   ],
   "source": [
    "print(sum(2))"
   ]
  },
  {
   "cell_type": "code",
   "execution_count": 13,
   "metadata": {},
   "outputs": [
    {
     "name": "stdout",
     "output_type": "stream",
     "text": [
      "5\n"
     ]
    }
   ],
   "source": [
    "b = 5\n",
    "print(b) # difference between actual and formal parameters!"
   ]
  },
  {
   "cell_type": "markdown",
   "metadata": {},
   "source": [
    "**Exercise**: write a function which converts a temperature in Celsius degee to Fahrenheit degree:\n",
    "$$ Tfah = Tdeg * 9/5 + 32 $$"
   ]
  },
  {
   "cell_type": "code",
   "execution_count": 14,
   "metadata": {},
   "outputs": [],
   "source": [
    "#-- temperature conversion"
   ]
  },
  {
   "cell_type": "code",
   "execution_count": 15,
   "metadata": {},
   "outputs": [],
   "source": [
    "#-- check if this function works properly"
   ]
  },
  {
   "cell_type": "markdown",
   "metadata": {},
   "source": [
    "### Basic operations"
   ]
  },
  {
   "cell_type": "markdown",
   "metadata": {},
   "source": [
    "**if** statement"
   ]
  },
  {
   "cell_type": "code",
   "execution_count": 16,
   "metadata": {},
   "outputs": [
    {
     "name": "stdout",
     "output_type": "stream",
     "text": [
      "You pass\n"
     ]
    }
   ],
   "source": [
    "n = 11 \n",
    "if n > 10:\n",
    "    print(\"You pass\")\n",
    "else: \n",
    "    print(\"You fail\")"
   ]
  },
  {
   "cell_type": "code",
   "execution_count": 17,
   "metadata": {},
   "outputs": [
    {
     "name": "stdout",
     "output_type": "stream",
     "text": [
      "You pass with distinction\n"
     ]
    }
   ],
   "source": [
    "n = 17 \n",
    "if n > 16:\n",
    "    print(\"You pass with distinction\")\n",
    "elif n > 10:\n",
    "    print(\"You pass\")\n",
    "else: \n",
    "    print(\"You fail\")"
   ]
  },
  {
   "cell_type": "markdown",
   "metadata": {},
   "source": [
    "**Note**: While indented your code is a good practice for all programming languages, this is mandatory in Python."
   ]
  },
  {
   "cell_type": "markdown",
   "metadata": {},
   "source": [
    "**while** loop"
   ]
  },
  {
   "cell_type": "code",
   "execution_count": 18,
   "metadata": {},
   "outputs": [
    {
     "name": "stdout",
     "output_type": "stream",
     "text": [
      "55\n"
     ]
    }
   ],
   "source": [
    "count = 0  \n",
    "total = 0 \n",
    "while count < 10: \n",
    "    count += 1  \n",
    "    total += count \n",
    "print(total)"
   ]
  },
  {
   "cell_type": "markdown",
   "metadata": {},
   "source": [
    "**for** loop"
   ]
  },
  {
   "cell_type": "code",
   "execution_count": 19,
   "metadata": {},
   "outputs": [
    {
     "name": "stdout",
     "output_type": "stream",
     "text": [
      "0\n",
      "1\n",
      "2\n",
      "3\n",
      "4\n"
     ]
    }
   ],
   "source": [
    "for i in range(5):\n",
    "    print(i)"
   ]
  },
  {
   "cell_type": "markdown",
   "metadata": {},
   "source": [
    "**Exercise**  \n",
    "By using a `for` loop and the `print` command, it is possible to draw a line of stars:"
   ]
  },
  {
   "cell_type": "code",
   "execution_count": 20,
   "metadata": {},
   "outputs": [
    {
     "name": "stdout",
     "output_type": "stream",
     "text": [
      "*\n"
     ]
    }
   ],
   "source": [
    "print(\"*\") # print one star"
   ]
  },
  {
   "cell_type": "code",
   "execution_count": 21,
   "metadata": {},
   "outputs": [
    {
     "name": "stdout",
     "output_type": "stream",
     "text": [
      "* * *\n"
     ]
    }
   ],
   "source": [
    "print(\"* * *\") # print three stars"
   ]
  },
  {
   "cell_type": "code",
   "execution_count": 22,
   "metadata": {},
   "outputs": [
    {
     "name": "stdout",
     "output_type": "stream",
     "text": [
      "* * * * * "
     ]
    }
   ],
   "source": [
    "n = 5\n",
    "for i in range(n):\n",
    "    print(\"* \", end=\"\") # `end=\"\"` changes the break line `\\n` to an empty character"
   ]
  },
  {
   "cell_type": "markdown",
   "metadata": {},
   "source": [
    "There exists even a more compact version, which uses some properties of the strings:"
   ]
  },
  {
   "cell_type": "code",
   "execution_count": 23,
   "metadata": {},
   "outputs": [
    {
     "name": "stdout",
     "output_type": "stream",
     "text": [
      "* * * * * * * \n"
     ]
    }
   ],
   "source": [
    "n = 7\n",
    "print(\"* \"*n) # print seven stars"
   ]
  },
  {
   "cell_type": "markdown",
   "metadata": {},
   "source": [
    "Try now to draw the following squares:  \n",
    "\\* &nbsp; \\* &nbsp; \\* &nbsp; \\* &nbsp; \\*  \n",
    "\\* &nbsp; \\* &nbsp; \\* &nbsp; \\* &nbsp; \\*  \n",
    "\\* &nbsp; \\* &nbsp; \\* &nbsp; \\* &nbsp; \\*  \n",
    "\\* &nbsp; \\* &nbsp; \\* &nbsp; \\* &nbsp; \\*  "
   ]
  },
  {
   "cell_type": "code",
   "execution_count": 24,
   "metadata": {},
   "outputs": [],
   "source": [
    "#-- draw a square of size 4 X 4"
   ]
  },
  {
   "cell_type": "markdown",
   "metadata": {},
   "source": [
    "If you haven't, define now a function to draw squares of an arbitrary size."
   ]
  },
  {
   "cell_type": "code",
   "execution_count": 25,
   "metadata": {},
   "outputs": [],
   "source": [
    "def square(n):\n",
    "    \"\"\"\n",
    "        Drawing a square\n",
    "        n the size of the pattern\n",
    "    \"\"\"\n",
    "    pass # remove this line"
   ]
  },
  {
   "cell_type": "markdown",
   "metadata": {},
   "source": [
    "**Homework**  \n",
    "The goal of this exercise is to draw two patterns: a triangle and a pyramid. Each pattern has a size defined by the parameter n.\n",
    "For n=5, the triaingle looks like  \n",
    "\\*  \n",
    "\\* &nbsp; \\*  \n",
    "\\* &nbsp; \\* &nbsp; \\*  \n",
    "\\* &nbsp; \\* &nbsp; \\* &nbsp; \\*  \n",
    "\\* &nbsp; \\* &nbsp; \\* &nbsp; \\* &nbsp; \\*  \n",
    "\n",
    "and the pyramid  \n",
    "&nbsp; &nbsp; &nbsp; &nbsp; \\*  \n",
    "&nbsp; &nbsp; &nbsp; \\* &nbsp; \\*  \n",
    "&nbsp; &nbsp; \\* &nbsp; \\* &nbsp; \\*  \n",
    "&nbsp; \\* &nbsp; \\* &nbsp; \\* &nbsp; \\*  \n",
    "\\* &nbsp; \\* &nbsp; \\* &nbsp; \\* &nbsp; \\*  "
   ]
  },
  {
   "cell_type": "code",
   "execution_count": 26,
   "metadata": {},
   "outputs": [],
   "source": [
    "def triangle(n):\n",
    "    \"\"\"\n",
    "        Drawing a triangle\n",
    "        n the size of the pattern\n",
    "    \"\"\"\n",
    "    pass # remove this line"
   ]
  },
  {
   "cell_type": "code",
   "execution_count": 27,
   "metadata": {},
   "outputs": [],
   "source": [
    "def pyramid(n):\n",
    "    \"\"\"\n",
    "        Drawing a pyramid\n",
    "        n the size of the pattern\n",
    "    \"\"\"\n",
    "    pass # remove this line"
   ]
  },
  {
   "cell_type": "markdown",
   "metadata": {},
   "source": [
    "### String"
   ]
  },
  {
   "cell_type": "markdown",
   "metadata": {},
   "source": [
    "A string is a sequence of character:"
   ]
  },
  {
   "cell_type": "code",
   "execution_count": 28,
   "metadata": {},
   "outputs": [
    {
     "name": "stdout",
     "output_type": "stream",
     "text": [
      "Hello\n"
     ]
    }
   ],
   "source": [
    "astring = \"Hello\"\n",
    "print(astring)"
   ]
  },
  {
   "cell_type": "code",
   "execution_count": 29,
   "metadata": {},
   "outputs": [
    {
     "name": "stdout",
     "output_type": "stream",
     "text": [
      "Hello\n"
     ]
    }
   ],
   "source": [
    "astring = 'Hello'\n",
    "print(astring)"
   ]
  },
  {
   "cell_type": "markdown",
   "metadata": {},
   "source": [
    "It is possible to access individual characters using indiexing and a range of characters using slicing. Index starts from 0.  \n",
    "If you try to access a charcter out of index range will raise an `IndexError`. The index must be an integer.  \n",
    "\n",
    "Python allows negative indexing for its sequences.  \n",
    "The index of -1 refers to the last item, -2 to the second last item and so on. We can access a range of items in a string by using the slicing operator `:`. "
   ]
  },
  {
   "cell_type": "code",
   "execution_count": 30,
   "metadata": {},
   "outputs": [
    {
     "name": "stdout",
     "output_type": "stream",
     "text": [
      "myname =  Charlotte\n",
      "myname[0] =  C\n",
      "myname[-1] =  e\n",
      "myname[1:5] =  harl\n",
      "myname[5:-2] =  ot\n"
     ]
    }
   ],
   "source": [
    "#-- Accessing string characters in Python\n",
    "myname = 'Charlotte'\n",
    "print('myname = ', myname)\n",
    "\n",
    "#-- first character\n",
    "print('myname[0] = ', myname[0])\n",
    "\n",
    "#-- last character\n",
    "print('myname[-1] = ', myname[-1])\n",
    "\n",
    "#-- slicing 2nd to 5th character\n",
    "print('myname[1:5] = ', myname[1:5])\n",
    "\n",
    "#-- slicing 6th to 2nd last character\n",
    "print('myname[5:-2] = ', myname[5:-2])"
   ]
  },
  {
   "cell_type": "code",
   "execution_count": 31,
   "metadata": {},
   "outputs": [
    {
     "ename": "IndexError",
     "evalue": "string index out of range",
     "output_type": "error",
     "traceback": [
      "\u001b[0;31m---------------------------------------------------------------------------\u001b[0m",
      "\u001b[0;31mIndexError\u001b[0m                                Traceback (most recent call last)",
      "\u001b[0;32m<ipython-input-31-7dd65be670dd>\u001b[0m in \u001b[0;36m<module>\u001b[0;34m\u001b[0m\n\u001b[1;32m      1\u001b[0m \u001b[0;31m#-- accessing an unexisting element\u001b[0m\u001b[0;34m\u001b[0m\u001b[0;34m\u001b[0m\u001b[0;34m\u001b[0m\u001b[0m\n\u001b[0;32m----> 2\u001b[0;31m \u001b[0mprint\u001b[0m\u001b[0;34m(\u001b[0m\u001b[0;34m'myname[9] = '\u001b[0m\u001b[0;34m,\u001b[0m \u001b[0mmyname\u001b[0m\u001b[0;34m[\u001b[0m\u001b[0;36m9\u001b[0m\u001b[0;34m]\u001b[0m\u001b[0;34m)\u001b[0m\u001b[0;34m\u001b[0m\u001b[0;34m\u001b[0m\u001b[0m\n\u001b[0m",
      "\u001b[0;31mIndexError\u001b[0m: string index out of range"
     ]
    }
   ],
   "source": [
    "#-- accessing an unexisting element\n",
    "print('myname[9] = ', myname[9])"
   ]
  },
  {
   "cell_type": "code",
   "execution_count": 32,
   "metadata": {},
   "outputs": [
    {
     "ename": "IndexError",
     "evalue": "string index out of range",
     "output_type": "error",
     "traceback": [
      "\u001b[0;31m---------------------------------------------------------------------------\u001b[0m",
      "\u001b[0;31mIndexError\u001b[0m                                Traceback (most recent call last)",
      "\u001b[0;32m<ipython-input-32-877853718c0a>\u001b[0m in \u001b[0;36m<module>\u001b[0;34m\u001b[0m\n\u001b[1;32m      1\u001b[0m \u001b[0;31m#-- accessing unexisting elements\u001b[0m\u001b[0;34m\u001b[0m\u001b[0;34m\u001b[0m\u001b[0;34m\u001b[0m\u001b[0m\n\u001b[0;32m----> 2\u001b[0;31m \u001b[0mprint\u001b[0m\u001b[0;34m(\u001b[0m\u001b[0;34m'myname[7.5] = '\u001b[0m\u001b[0;34m,\u001b[0m \u001b[0mmyname\u001b[0m\u001b[0;34m[\u001b[0m\u001b[0;36m9\u001b[0m\u001b[0;34m]\u001b[0m\u001b[0;34m)\u001b[0m\u001b[0;34m\u001b[0m\u001b[0;34m\u001b[0m\u001b[0m\n\u001b[0m",
      "\u001b[0;31mIndexError\u001b[0m: string index out of range"
     ]
    }
   ],
   "source": [
    "#-- accessing unexisting elements\n",
    "print('myname[7.5] = ', myname[9])"
   ]
  },
  {
   "cell_type": "markdown",
   "metadata": {},
   "source": [
    "Strings are immutable. This means that elements of a string cannot be changed once they have been assigned. We can simply reassign different strings to the same name.  \n",
    "**Note**: We will see later on a formal definition of mutable and immutable types.\n",
    "\n"
   ]
  },
  {
   "cell_type": "code",
   "execution_count": 33,
   "metadata": {},
   "outputs": [
    {
     "ename": "TypeError",
     "evalue": "'str' object does not support item assignment",
     "output_type": "error",
     "traceback": [
      "\u001b[0;31m---------------------------------------------------------------------------\u001b[0m",
      "\u001b[0;31mTypeError\u001b[0m                                 Traceback (most recent call last)",
      "\u001b[0;32m<ipython-input-33-cd260f6918fa>\u001b[0m in \u001b[0;36m<module>\u001b[0;34m\u001b[0m\n\u001b[1;32m      1\u001b[0m \u001b[0mmyname\u001b[0m \u001b[0;34m=\u001b[0m \u001b[0;34m'Charlotte'\u001b[0m\u001b[0;34m\u001b[0m\u001b[0;34m\u001b[0m\u001b[0m\n\u001b[0;32m----> 2\u001b[0;31m \u001b[0mmyname\u001b[0m\u001b[0;34m[\u001b[0m\u001b[0;36m2\u001b[0m\u001b[0;34m]\u001b[0m \u001b[0;34m=\u001b[0m \u001b[0;34m'e'\u001b[0m\u001b[0;34m\u001b[0m\u001b[0;34m\u001b[0m\u001b[0m\n\u001b[0m",
      "\u001b[0;31mTypeError\u001b[0m: 'str' object does not support item assignment"
     ]
    }
   ],
   "source": [
    "myname = 'Charlotte'\n",
    "myname[2] = 'e'"
   ]
  },
  {
   "cell_type": "markdown",
   "metadata": {},
   "source": [
    "There exist many string operations. You will need to check out Python's documentation when you want to manipulate some strings.  \n",
    "For example, you can check if an element is inside a string (and also a list) by using `in`:"
   ]
  },
  {
   "cell_type": "code",
   "execution_count": 34,
   "metadata": {},
   "outputs": [
    {
     "name": "stdout",
     "output_type": "stream",
     "text": [
      "Queueing Theory\n",
      "Game Theory\n",
      "Inventory Theory\n",
      "Reliability Theory\n"
     ]
    }
   ],
   "source": [
    "for subject in [\"Queueing Theory\", \"Game Theory\", \n",
    "                \"Inventory Theory\", \"Reliability Theory\", \n",
    "                \"Project Management\", \"Decision Analysis\"]:\n",
    "    if \"Theory\" in subject:\n",
    "        print(subject)"
   ]
  },
  {
   "cell_type": "markdown",
   "metadata": {},
   "source": [
    "Try also the following commonly used methods: `lower`, `upper`, `join`, `split`, `find`, `replace`."
   ]
  },
  {
   "cell_type": "code",
   "execution_count": 35,
   "metadata": {},
   "outputs": [],
   "source": [
    "#-- your own examples"
   ]
  },
  {
   "cell_type": "markdown",
   "metadata": {},
   "source": [
    "**Homeworks**  \n",
    "A. Here we will write a function to find in a string the longest substring with non-repeating characters.\n",
    "In case of a tie, it returns the first one that occurs in the string..\n",
    "\n",
    "For example, \n",
    "\"copernicus\" returns \"coperni\" with length 7,\n",
    "\"aaaaa\" returns \"a\" with length 1,  \n",
    "\"abcde\" returns \"abcde\" with length 5.\n",
    "\n",
    "1. Write the code of the `long_substring` function\n",
    "2. Test your code with several examples"
   ]
  },
  {
   "cell_type": "code",
   "execution_count": 36,
   "metadata": {},
   "outputs": [],
   "source": [
    "#-- Function definition\n",
    "def  long_substring(astring):\n",
    "    \"\"\"\n",
    "        Extract the longest substring with non-repeating characters\n",
    "        astring: string to analyse\n",
    "    \"\"\"\n",
    "    pass # remove this line"
   ]
  },
  {
   "cell_type": "code",
   "execution_count": 37,
   "metadata": {},
   "outputs": [],
   "source": [
    "#-- Test"
   ]
  },
  {
   "cell_type": "markdown",
   "metadata": {},
   "source": [
    "B. Here you will write a code to find a palindrome (i.e., a word or a sentence that is read the same forward and backward)\n",
    "The capitalisation, the ponctuation and word boundaries are not considered.\n",
    "\n",
    "The goal of this exercise is to write the function `valid_palindrome` that returns `True` if by removing at most one character the input string is a valid palyndrome. Otherwise, it outputs `False`."
   ]
  },
  {
   "cell_type": "code",
   "execution_count": 40,
   "metadata": {},
   "outputs": [],
   "source": [
    "#-- Function definition\n",
    "def valid_palindrome(input_string):\n",
    "    #-- add a documentation\n",
    "    pass # remove this line"
   ]
  },
  {
   "cell_type": "code",
   "execution_count": 41,
   "metadata": {},
   "outputs": [
    {
     "name": "stdout",
     "output_type": "stream",
     "text": [
      "\"annan\" is not a valid palindrome.\n",
      "\"radkar\" is not a valid palindrome.\n",
      "\"I think I am not a valid palindrome\" is not a valid palindrome.\n",
      "\"Was it a cars or a cat I saw\" is not a valid palindrome.\n"
     ]
    }
   ],
   "source": [
    "#-- Test\n",
    "test_strings = [\"annan\", \"radkar\",  \"I think I am not a valid palindrome\", \"Was it a cars or a cat I saw\"]\n",
    "for ss in test_strings:\n",
    "    if (valid_palindrome(ss)):\n",
    "        print('\"' + ss + '\" is a valid palindrome.')\n",
    "    else:\n",
    "        print('\"' + ss + '\" is not a valid palindrome.')\n"
   ]
  },
  {
   "cell_type": "markdown",
   "metadata": {},
   "source": [
    "### List\n",
    "\n",
    "Lists are good for keeping track of things by their order, especially when the order and contents might change. You can change a list in-place, add new elements, and delete or overwrite existing elements. The same value can occur more than once in a list, and heterogenous information can be stored in a list."
   ]
  },
  {
   "cell_type": "code",
   "execution_count": 42,
   "metadata": {},
   "outputs": [
    {
     "data": {
      "text/plain": [
       "['monday', 'tuesday', 'wednesday', 'thrisday', 'friday']"
      ]
     },
     "execution_count": 42,
     "metadata": {},
     "output_type": "execute_result"
    }
   ],
   "source": [
    "weekdays = [\"monday\", \"tuesday\", \"wednesday\", \"thrisday\", \"friday\"]\n",
    "weekdays"
   ]
  },
  {
   "cell_type": "code",
   "execution_count": 43,
   "metadata": {},
   "outputs": [
    {
     "data": {
      "text/plain": [
       "[7, 'Peter', True, ['monday', 'tuesday', 'wednesday', 'thrisday', 'friday']]"
      ]
     },
     "execution_count": 43,
     "metadata": {},
     "output_type": "execute_result"
    }
   ],
   "source": [
    "inf = [7, \"Peter\", True, weekdays]\n",
    "inf"
   ]
  },
  {
   "cell_type": "code",
   "execution_count": 44,
   "metadata": {},
   "outputs": [
    {
     "data": {
      "text/plain": [
       "[]"
      ]
     },
     "execution_count": 44,
     "metadata": {},
     "output_type": "execute_result"
    }
   ],
   "source": [
    "empty_list = list()\n",
    "empty_list"
   ]
  },
  {
   "cell_type": "code",
   "execution_count": 45,
   "metadata": {},
   "outputs": [
    {
     "data": {
      "text/plain": [
       "[]"
      ]
     },
     "execution_count": 45,
     "metadata": {},
     "output_type": "execute_result"
    }
   ],
   "source": [
    "empty_list = []\n",
    "empty_list"
   ]
  },
  {
   "cell_type": "code",
   "execution_count": 46,
   "metadata": {},
   "outputs": [
    {
     "data": {
      "text/plain": [
       "['06', '09']"
      ]
     },
     "execution_count": 46,
     "metadata": {},
     "output_type": "execute_result"
    }
   ],
   "source": [
    "birthday=\"06/09\"\n",
    "birthday.split('/') # returns a list"
   ]
  },
  {
   "cell_type": "markdown",
   "metadata": {},
   "source": [
    "The number of elements is given by `len`, and each element is indexed starting by `0`.\n",
    "It is possible to add new elements with `append` and apply slicing "
   ]
  },
  {
   "cell_type": "code",
   "execution_count": 47,
   "metadata": {},
   "outputs": [
    {
     "data": {
      "text/plain": [
       "5"
      ]
     },
     "execution_count": 47,
     "metadata": {},
     "output_type": "execute_result"
    }
   ],
   "source": [
    "len(weekdays)"
   ]
  },
  {
   "cell_type": "code",
   "execution_count": 48,
   "metadata": {},
   "outputs": [
    {
     "data": {
      "text/plain": [
       "'Peter'"
      ]
     },
     "execution_count": 48,
     "metadata": {},
     "output_type": "execute_result"
    }
   ],
   "source": [
    "inf[1]"
   ]
  },
  {
   "cell_type": "code",
   "execution_count": 49,
   "metadata": {},
   "outputs": [
    {
     "data": {
      "text/plain": [
       "[7,\n",
       " 'Peter',\n",
       " True,\n",
       " ['monday', 'tuesday', 'wednesday', 'thrisday', 'friday'],\n",
       " 'Hello']"
      ]
     },
     "execution_count": 49,
     "metadata": {},
     "output_type": "execute_result"
    }
   ],
   "source": [
    "inf.append(\"Hello\")\n",
    "inf"
   ]
  },
  {
   "cell_type": "code",
   "execution_count": 50,
   "metadata": {},
   "outputs": [
    {
     "data": {
      "text/plain": [
       "[True, ['monday', 'tuesday', 'wednesday', 'thrisday', 'friday']]"
      ]
     },
     "execution_count": 50,
     "metadata": {},
     "output_type": "execute_result"
    }
   ],
   "source": [
    "inf[2:4] #slicing operation"
   ]
  },
  {
   "cell_type": "markdown",
   "metadata": {},
   "source": [
    "You can use `range` similar to how to you use slices: `range( start, stop, step )` return a list of numbers. If you omit start, the range begins at 0. The only required value is stop; as with slices, the last value created will be just before stop. The default value of step is 1, but you can go backward with -1.\n",
    "`range` is often used in `for` loop."
   ]
  },
  {
   "cell_type": "code",
   "execution_count": 51,
   "metadata": {},
   "outputs": [
    {
     "data": {
      "text/plain": [
       "[0, 1, 2, 3, 4]"
      ]
     },
     "execution_count": 51,
     "metadata": {},
     "output_type": "execute_result"
    }
   ],
   "source": [
    "list(range(5))"
   ]
  },
  {
   "cell_type": "code",
   "execution_count": 52,
   "metadata": {},
   "outputs": [
    {
     "data": {
      "text/plain": [
       "[10, 15, 20, 25, 30, 35, 40, 45, 50, 55, 60, 65, 70, 75, 80, 85, 90, 95]"
      ]
     },
     "execution_count": 52,
     "metadata": {},
     "output_type": "execute_result"
    }
   ],
   "source": [
    "list(range(10,100,5))"
   ]
  },
  {
   "cell_type": "markdown",
   "metadata": {},
   "source": [
    "A *comprehension* is a compact way of creating a Python data structure from one or more iterators.\n",
    "For example, "
   ]
  },
  {
   "cell_type": "code",
   "execution_count": 53,
   "metadata": {},
   "outputs": [
    {
     "data": {
      "text/plain": [
       "[0, 1, 2, 3, 4, 5, 6, 7, 8, 9]"
      ]
     },
     "execution_count": 53,
     "metadata": {},
     "output_type": "execute_result"
    }
   ],
   "source": [
    "[i for i in range(10)]"
   ]
  },
  {
   "cell_type": "code",
   "execution_count": 54,
   "metadata": {},
   "outputs": [
    {
     "data": {
      "text/plain": [
       "['h', 'e', 'l', 'l', 'o']"
      ]
     },
     "execution_count": 54,
     "metadata": {},
     "output_type": "execute_result"
    }
   ],
   "source": [
    "#-- for loop version\n",
    "h_letters = []\n",
    "for letter in 'hello':\n",
    "    h_letters.append(letter)\n",
    "h_letters"
   ]
  },
  {
   "cell_type": "code",
   "execution_count": 55,
   "metadata": {},
   "outputs": [
    {
     "data": {
      "text/plain": [
       "['h', 'e', 'l', 'l', 'o']"
      ]
     },
     "execution_count": 55,
     "metadata": {},
     "output_type": "execute_result"
    }
   ],
   "source": [
    "#-- list comprehension\n",
    "h_letters = [letter for letter in \"hello\"]\n",
    "h_letters"
   ]
  },
  {
   "cell_type": "markdown",
   "metadata": {},
   "source": [
    "### Dictionary\n",
    "\n",
    "A dictionary is similar to a list, but the order of items does not matter, and they are not selected by an offset such as 0 or 1. \n",
    "Instead, you specify a unique key to associate with each value. This key is often a string, but it can actually be any of Python’s **immutable** types: boolean, string, integer, float, tuple.  \n",
    "**Note**: We will see later on a formal definition of mutable and immutable types."
   ]
  },
  {
   "cell_type": "code",
   "execution_count": 56,
   "metadata": {},
   "outputs": [],
   "source": [
    "empty_dict = {}"
   ]
  },
  {
   "cell_type": "code",
   "execution_count": 57,
   "metadata": {},
   "outputs": [
    {
     "data": {
      "text/plain": [
       "{'Ten': 10, 'Twenty': 20, 'Thirty': 30}"
      ]
     },
     "execution_count": 57,
     "metadata": {},
     "output_type": "execute_result"
    }
   ],
   "source": [
    "keys = ['Ten', 'Twenty', 'Thirty']\n",
    "values = [10, 20, 30]\n",
    "sample_dict = dict(zip(keys, values))\n",
    "sample_dict"
   ]
  },
  {
   "cell_type": "code",
   "execution_count": 58,
   "metadata": {},
   "outputs": [
    {
     "data": {
      "text/plain": [
       "{'Peter': 20, 'Eva': 22, 'Anna': 24}"
      ]
     },
     "execution_count": 58,
     "metadata": {},
     "output_type": "execute_result"
    }
   ],
   "source": [
    "sample_dict = {'Peter': 20,\n",
    "              'Eva': 22,\n",
    "              'Anna': 24}\n",
    "sample_dict"
   ]
  },
  {
   "cell_type": "markdown",
   "metadata": {},
   "source": [
    "**Exercise**: Create a new dictionary where keys of the dictionary will be your first names and the value your birthday (string format: \"dd/mm\").\n",
    "\n",
    "1. Print each entry with the following format \"Adebowale's birhtday is XX/XX\".\n",
    "2. [**Homework**] Sort the dictionary by the birthdays in ascending order. Check the operation by printing the results."
   ]
  },
  {
   "cell_type": "code",
   "execution_count": 59,
   "metadata": {},
   "outputs": [],
   "source": [
    "#-- Dictionary"
   ]
  },
  {
   "cell_type": "code",
   "execution_count": 60,
   "metadata": {},
   "outputs": [],
   "source": [
    "#-- Print each entry"
   ]
  },
  {
   "cell_type": "code",
   "execution_count": 61,
   "metadata": {},
   "outputs": [],
   "source": [
    "#-- Sort"
   ]
  },
  {
   "cell_type": "markdown",
   "metadata": {},
   "source": [
    "## Object Oriented Programming"
   ]
  },
  {
   "cell_type": "markdown",
   "metadata": {},
   "source": [
    "In Python, there exist three main programming styles\n",
    "1. procedural programming (the one you probably knwo)\n",
    "2. object-orient programming (OOP)\n",
    "3. functional programming\n",
    "\n",
    "In OOP, real-world objects are modelised thanks to a **class**.\n",
    "Each object possesses \n",
    "* some properties defined by attributes\n",
    "* its behavior governed by methods\n",
    "* a state given the attribute's values.\n",
    "\n",
    "For example, a plane is an object with some characteritics, its attibutes, (*e.g.*, a price, a production year, a number of seats, *etc*) and it can perform some actions (*e.g.*, take off, fly, land, *etc*). \n",
    "\n",
    "In Python, everything is an object: String, lists, dictionaries, *etc.*"
   ]
  },
  {
   "cell_type": "markdown",
   "metadata": {},
   "source": [
    "Data Science libraries (for example, Pandas, NumPy) depend on OOP and its concepts. In the machine learning module, you will learn how to use Scikit-Learn and various algorithms ($k$-Nearest Neighbor, regression model, *etc*), which would require first to declare the learning model as object, and then to use a *fit* method. It is thus fundamental to understand the main OOP concetps to apply correctly all these models."
   ]
  },
  {
   "cell_type": "markdown",
   "metadata": {},
   "source": [
    "### Object *versus* Class\n",
    "A **class** is an abstract definition of the objects of the same nature. The class gives the formal description of the attributes and objects.\n",
    "You can create many objects of a same class (like there are many different planes)."
   ]
  },
  {
   "cell_type": "markdown",
   "metadata": {},
   "source": [
    "Let us see how to implement a class in Python.\n",
    "1. A new class is defined by using the keyword `class`\n",
    "2. A constructor is used to intialize the values of the attributes. It sets the initial state of an object.  \n",
    "The constructor is defined by using the keyword `def`, and is always named `__init__`. It can receive any number of parameters, but the first one is always a variable called `self`. When a new class instance (_i.e._, an object) is created, the instance is automatically passed to the `self` parameter in `__init__` so that the new attributes can be defined on the object.\n",
    "3. Methods are also defined by using the keyword `def` as a normal function. The key differences are (i) the method definition is within a class, and (ii) the first parameters is always `self`. The method is **never** called with `self`.\n",
    "\n",
    "\n",
    "Let us create the `Plane` class with only one attribute, the number of seats, and one method, `fly`."
   ]
  },
  {
   "cell_type": "code",
   "execution_count": 62,
   "metadata": {},
   "outputs": [],
   "source": [
    "class Plane:\n",
    "    \n",
    "    def __init__(self,noseats):\n",
    "        self.noseats = noseats\n",
    "    \n",
    "    def fly(self):\n",
    "        print(\"I fly\")"
   ]
  },
  {
   "cell_type": "markdown",
   "metadata": {},
   "source": [
    "In the body of `__init__`, there is one statement using the `self` variable: `self.noseats = noseats`.\n",
    "It creates an attribute called `noseats` and assigns to it the value of the `noseats` parameter."
   ]
  },
  {
   "cell_type": "markdown",
   "metadata": {},
   "source": [
    "Attributes in `__init__` are called **instance attributes**. Their values are specific to a particular instance of the class (*i.e.*, an object).\n",
    "\n",
    "This is also possible to define some **class attributes**, which have the same value for all class instances. You can define a class attribute by assigning a value to a variable name outside of .__init__().\n",
    "\n",
    "For example, the class definiton of `Plane` has a class attribute `color` with the value `white`."
   ]
  },
  {
   "cell_type": "code",
   "execution_count": 63,
   "metadata": {},
   "outputs": [],
   "source": [
    "class Plane:\n",
    "    colour = \"white\"\n",
    "    \n",
    "    def __init__(self,noseats):\n",
    "        self.noseats = noseats\n",
    "    \n",
    "    def fly(self):\n",
    "        print(\"I fly\")"
   ]
  },
  {
   "cell_type": "markdown",
   "metadata": {},
   "source": [
    "Let us know **instanciate** a plane."
   ]
  },
  {
   "cell_type": "code",
   "execution_count": 64,
   "metadata": {},
   "outputs": [
    {
     "data": {
      "text/plain": [
       "<__main__.Plane at 0x7fed00f7a0d0>"
      ]
     },
     "execution_count": 64,
     "metadata": {},
     "output_type": "execute_result"
    }
   ],
   "source": [
    "Plane(150)"
   ]
  },
  {
   "cell_type": "markdown",
   "metadata": {},
   "source": [
    "You now have a new Plane object at `0xXXXXXXXX`. This funny-looking string of letters and numbers is a memory address that indicates where the Plane object is stored in your computer’s memory.\n",
    "\n",
    "Now instantiate a second Dog object:"
   ]
  },
  {
   "cell_type": "code",
   "execution_count": 65,
   "metadata": {},
   "outputs": [
    {
     "data": {
      "text/plain": [
       "<__main__.Plane at 0x7fed00f7a100>"
      ]
     },
     "execution_count": 65,
     "metadata": {},
     "output_type": "execute_result"
    }
   ],
   "source": [
    "Plane(150)"
   ]
  },
  {
   "cell_type": "markdown",
   "metadata": {},
   "source": [
    "The new Plane instance is located at a different memory address. This an entirely new instance and is completely unique from the first Plane object that you instantiated, even if the number of seats for both Plan objects is the same.\n",
    "\n",
    "To see this another way, run the nex cell:"
   ]
  },
  {
   "cell_type": "code",
   "execution_count": 66,
   "metadata": {},
   "outputs": [
    {
     "data": {
      "text/plain": [
       "False"
      ]
     },
     "execution_count": 66,
     "metadata": {},
     "output_type": "execute_result"
    }
   ],
   "source": [
    "plane1 = Plane(150)\n",
    "plane2 = Plane(150)\n",
    "plane1==plane2"
   ]
  },
  {
   "cell_type": "markdown",
   "metadata": {},
   "source": [
    "`plane1` and `plane2` are two distinct objects in memory."
   ]
  },
  {
   "cell_type": "markdown",
   "metadata": {},
   "source": [
    "You can access class and instance attributes using dot notation:"
   ]
  },
  {
   "cell_type": "code",
   "execution_count": 67,
   "metadata": {},
   "outputs": [
    {
     "data": {
      "text/plain": [
       "150"
      ]
     },
     "execution_count": 67,
     "metadata": {},
     "output_type": "execute_result"
    }
   ],
   "source": [
    "plane1.noseats"
   ]
  },
  {
   "cell_type": "markdown",
   "metadata": {},
   "source": [
    "You can change here its value dynamically:"
   ]
  },
  {
   "cell_type": "code",
   "execution_count": 68,
   "metadata": {},
   "outputs": [
    {
     "data": {
      "text/plain": [
       "200"
      ]
     },
     "execution_count": 68,
     "metadata": {},
     "output_type": "execute_result"
    }
   ],
   "source": [
    "plane1.noseats = 200\n",
    "plane1.noseats"
   ]
  },
  {
   "cell_type": "markdown",
   "metadata": {},
   "source": [
    "**Note on mutable and immutable objects**\n",
    "\n",
    "We say that custom objects are **mutable** by default. An object is mutable if it can be altered dynamically. For example, lists and dictionaries are mutable, but int, strings, and tuples are immutable.\n",
    "\n",
    "Let us take the example of int and list."
   ]
  },
  {
   "cell_type": "code",
   "execution_count": 69,
   "metadata": {},
   "outputs": [],
   "source": [
    "x = 10\n",
    "y = x"
   ]
  },
  {
   "cell_type": "code",
   "execution_count": 70,
   "metadata": {},
   "outputs": [
    {
     "data": {
      "text/plain": [
       "True"
      ]
     },
     "execution_count": 70,
     "metadata": {},
     "output_type": "execute_result"
    }
   ],
   "source": [
    "id(x) == id(y) "
   ]
  },
  {
   "cell_type": "markdown",
   "metadata": {},
   "source": [
    "The built-in function `id` returns the identity of an object as an integer. This integer usually corresponds to the object’s location in memory, although this is specific to the Python implementation and the platform being used. The is operator compares the identity of two objects."
   ]
  },
  {
   "cell_type": "code",
   "execution_count": 71,
   "metadata": {},
   "outputs": [
    {
     "data": {
      "text/plain": [
       "False"
      ]
     },
     "execution_count": 71,
     "metadata": {},
     "output_type": "execute_result"
    }
   ],
   "source": [
    "x = x + 1\n",
    "id(x) == id(y)"
   ]
  },
  {
   "cell_type": "code",
   "execution_count": 72,
   "metadata": {},
   "outputs": [
    {
     "data": {
      "text/plain": [
       "[1, 2, 3]"
      ]
     },
     "execution_count": 72,
     "metadata": {},
     "output_type": "execute_result"
    }
   ],
   "source": [
    "l1 = list([1, 2, 3])\n",
    "l2 = l1\n",
    "l1"
   ]
  },
  {
   "cell_type": "code",
   "execution_count": 73,
   "metadata": {},
   "outputs": [
    {
     "data": {
      "text/plain": [
       "True"
      ]
     },
     "execution_count": 73,
     "metadata": {},
     "output_type": "execute_result"
    }
   ],
   "source": [
    "id(l1) == id(l2)"
   ]
  },
  {
   "cell_type": "code",
   "execution_count": 74,
   "metadata": {},
   "outputs": [
    {
     "data": {
      "text/plain": [
       "[1, 2]"
      ]
     },
     "execution_count": 74,
     "metadata": {},
     "output_type": "execute_result"
    }
   ],
   "source": [
    "l1.pop()\n",
    "l1"
   ]
  },
  {
   "cell_type": "code",
   "execution_count": 75,
   "metadata": {},
   "outputs": [
    {
     "data": {
      "text/plain": [
       "[1, 2]"
      ]
     },
     "execution_count": 75,
     "metadata": {},
     "output_type": "execute_result"
    }
   ],
   "source": [
    "l2"
   ]
  },
  {
   "cell_type": "code",
   "execution_count": 76,
   "metadata": {},
   "outputs": [
    {
     "data": {
      "text/plain": [
       "True"
      ]
     },
     "execution_count": 76,
     "metadata": {},
     "output_type": "execute_result"
    }
   ],
   "source": [
    "id(l1) == id(l2)"
   ]
  },
  {
   "cell_type": "markdown",
   "metadata": {},
   "source": [
    "`l1` and `l2` are pointing to the same list object after the modification. Both list objects now contain `[1, 2]`."
   ]
  },
  {
   "cell_type": "markdown",
   "metadata": {},
   "source": [
    "**Let us get back to our `Plane` class**\n",
    "\n",
    "We can apply the methods to the objects with thedot notation:"
   ]
  },
  {
   "cell_type": "code",
   "execution_count": 77,
   "metadata": {},
   "outputs": [
    {
     "name": "stdout",
     "output_type": "stream",
     "text": [
      "I fly\n"
     ]
    }
   ],
   "source": [
    "plane1.fly()"
   ]
  },
  {
   "cell_type": "markdown",
   "metadata": {},
   "source": [
    "In python, there are three types of methods:\n",
    "1. an **instance method** takes `self` as the first argument (similar to `fly`). They are also called Object or regular method.\n",
    "2. a **class method** takes `cls` as the first argument. `cls` refers to class. To access a class variable within a method, we use the @classmethod decorator, and pass the class to the method\n",
    "3. a **static method** does not take anything as the first argument. It has limited uses.\n",
    "\n",
    "We will not detail further class and static methods today."
   ]
  },
  {
   "cell_type": "markdown",
   "metadata": {},
   "source": [
    "### Practical exercise\n",
    "\n",
    "Let us create a class `Point` which has two attributes `_x` and `_y.\n",
    "1. Implement the class `Point`\n",
    "2. Add a method `__str__` which displays the mathematical representation of a point `(<x>,<y>)` with `<x>` and `<y>`the actual values of `x` and `y`.\n",
    "3. Add a method `distance` that computes the distance between the current point and another point.  \n",
    "Note: the distance between two points is $\\sqrt{(x_1-x_2)^2+(y_1-y_2)^2}$\n",
    "4. Add a method `center` which return the point at the middle of the segment between the current point and another point.\n",
    "\n",
    "Test all the functionalities of this class."
   ]
  },
  {
   "cell_type": "code",
   "execution_count": 78,
   "metadata": {},
   "outputs": [],
   "source": [
    "# Class implementation"
   ]
  },
  {
   "cell_type": "code",
   "execution_count": 79,
   "metadata": {},
   "outputs": [],
   "source": [
    "# Test"
   ]
  },
  {
   "cell_type": "markdown",
   "metadata": {},
   "source": [
    "If you haven't, try to `print` one of your point object. What happens?\n",
    "The `__str__` method produces a readable representation of the object."
   ]
  },
  {
   "cell_type": "markdown",
   "metadata": {},
   "source": [
    "**Homework**  \n",
    "Let us implement another class `Triangle` which has three `Point` attributes. \n",
    "1. Implement the class `Triangle`\n",
    "2. Add a method `flat` which returns `True` if the three points are aligned\n",
    "3. Add a method `isosceles` which return `True` if the triangle is isosceles"
   ]
  },
  {
   "cell_type": "code",
   "execution_count": 80,
   "metadata": {},
   "outputs": [],
   "source": [
    "# Class implementation"
   ]
  },
  {
   "cell_type": "code",
   "execution_count": 81,
   "metadata": {},
   "outputs": [],
   "source": [
    "# Test"
   ]
  },
  {
   "cell_type": "markdown",
   "metadata": {},
   "source": [
    "### Inheritance\n",
    "\n",
    "Inheritance is the process by which one class takes on the attributes and methods of another. Newly formed classes are called **child classes**, and the classes that child classes are derived from are called **parent classes**.\n",
    "\n",
    "Child classes can override or extend the attributes and methods of parent classes. In other words, child classes inherit all of the parent’s attributes and methods but can also specify attributes and methods that are unique to themselves.\n",
    "\n",
    "Let us take a new example of the students at UBS."
   ]
  },
  {
   "cell_type": "code",
   "execution_count": 82,
   "metadata": {},
   "outputs": [],
   "source": [
    "class Student:\n",
    "    def __init__(self,name,schoolyear):\n",
    "        self.name = name\n",
    "        self.schoolyear = schoolyear\n",
    "        \n",
    "    def printName(self):\n",
    "        print(\"My name is \", self.name)"
   ]
  },
  {
   "cell_type": "code",
   "execution_count": 83,
   "metadata": {},
   "outputs": [
    {
     "name": "stdout",
     "output_type": "stream",
     "text": [
      "My name is  Peter\n"
     ]
    }
   ],
   "source": [
    "peter = Student(\"Peter\",2021)\n",
    "peter.printName()"
   ]
  },
  {
   "cell_type": "markdown",
   "metadata": {},
   "source": [
    "We would like to create a `CDEClass`, which shares the similar information but as also an additional attribute `scholarship` and method `thesisMaster`:"
   ]
  },
  {
   "cell_type": "code",
   "execution_count": 84,
   "metadata": {},
   "outputs": [],
   "source": [
    "class CDEStudent(Student):\n",
    "    def __init__(self,name, schoolyear,scholarship):\n",
    "        super().__init__(name, schoolyear)\n",
    "        self.scholarship = scholarship\n",
    "        \n",
    "    def thesisMaster(self,subject):\n",
    "        print(\"My master thesis subjets is about\", subject)"
   ]
  },
  {
   "cell_type": "code",
   "execution_count": 85,
   "metadata": {},
   "outputs": [
    {
     "name": "stdout",
     "output_type": "stream",
     "text": [
      "My name is  Stephanie\n",
      "My master thesis subjets is about monitoring air pollution\n"
     ]
    }
   ],
   "source": [
    "stephanie = CDEStudent(\"Stephanie\",2020,1000)\n",
    "stephanie.printName()\n",
    "stephanie.thesisMaster(\"monitoring air pollution\")"
   ]
  },
  {
   "cell_type": "markdown",
   "metadata": {},
   "source": [
    "The `CDEStudent` class inherits `Student`. The class is initialized with the `name` and `schoolyyear` required by the base class. `super()` is used to initialize the members of the base class. \n",
    "`CDEStudent` also requires a `scholarship` initialization parameter that represents the scholarship amount.\n",
    "\n",
    "The class provides also the `thesisMaster` method that displays the master thesis topic. The implementation returns the string stored in the parameter `subject`."
   ]
  },
  {
   "cell_type": "markdown",
   "metadata": {},
   "source": [
    "### Practical exercise"
   ]
  },
  {
   "cell_type": "markdown",
   "metadata": {},
   "source": [
    "1. Let us create a class `Coin` that contains two methods:  \n",
    "(i) `random_draw`, which returns `0` or `1`, and   \n",
    "(ii) `average_draw`, which uses `random_draw` to compute an average over `n` runs.  \n",
    "**Hint**: you can use either the modulo operation `%` or `random.randint` to draw 0 or 1 at random."
   ]
  },
  {
   "cell_type": "code",
   "execution_count": 86,
   "metadata": {},
   "outputs": [],
   "source": [
    "#-- Coin"
   ]
  },
  {
   "cell_type": "markdown",
   "metadata": {},
   "source": [
    "2. Let us now create a class `TrickCoin`. The player is a cheater: when he loses, he plays a trick coin for which the odds of getting 1 are 0.7.\n",
    "We will add a parameter to the `random_draw` method, `previous`. If `previous=0`, the player lost at the last round."
   ]
  },
  {
   "cell_type": "code",
   "execution_count": 87,
   "metadata": {},
   "outputs": [],
   "source": [
    "#-- TrickCoin"
   ]
  },
  {
   "cell_type": "markdown",
   "metadata": {},
   "source": [
    "3. Write a class `MixedTrickCoin`, which calls either `Coin.randow_draw` or `TrickCoin.random_draw`."
   ]
  },
  {
   "cell_type": "code",
   "execution_count": 88,
   "metadata": {},
   "outputs": [],
   "source": [
    "#-- MixedTrickCoin"
   ]
  },
  {
   "cell_type": "markdown",
   "metadata": {},
   "source": [
    "Test the different classes. What returns `average_draw` for the three classes?"
   ]
  },
  {
   "cell_type": "code",
   "execution_count": null,
   "metadata": {},
   "outputs": [],
   "source": []
  },
  {
   "cell_type": "code",
   "execution_count": null,
   "metadata": {},
   "outputs": [],
   "source": []
  }
 ],
 "metadata": {
  "kernelspec": {
   "display_name": "Python 3",
   "language": "python",
   "name": "python3"
  },
  "language_info": {
   "codemirror_mode": {
    "name": "ipython",
    "version": 3
   },
   "file_extension": ".py",
   "mimetype": "text/x-python",
   "name": "python",
   "nbconvert_exporter": "python",
   "pygments_lexer": "ipython3",
   "version": "3.8.3"
  }
 },
 "nbformat": 4,
 "nbformat_minor": 4
}
