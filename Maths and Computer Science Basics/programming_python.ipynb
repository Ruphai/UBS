{
 "cells": [
  {
   "cell_type": "markdown",
   "source": [
    "# Math and Programming Basics"
   ],
   "metadata": {}
  },
  {
   "cell_type": "markdown",
   "source": [
    "Reference: [Python Basics: A Practical Introduction to Python 3](https://realpython.com/products/python-basics-book/)"
   ],
   "metadata": {}
  },
  {
   "cell_type": "markdown",
   "source": [
    "## Notebooks"
   ],
   "metadata": {}
  },
  {
   "cell_type": "markdown",
   "source": [
    "This semester, we will use Jupyter notebooks and Google colab as the primary way to practice machine an deep learning. \r\n",
    "**Notebooks** are a great way to mix executable code with rich contents (HTML, images, equations written in LaTeX, *etc.*). Google colab allows us to run notebooks on the cloud for free without any prior installation, while leveraging the power of [GPUs](https://en.wikipedia.org/wiki/Graphics_processing_unit). We will use Google Colab during the deep learning course, but feel free to try it out before.\r\n",
    "\r\n",
    "Today, we will work with Jupyter notebook!"
   ],
   "metadata": {}
  },
  {
   "cell_type": "markdown",
   "source": [
    "The notebook that you are currently reading is not a static page but an interactive environment, which allows you to read and execute some code. Notebooks are composed of cells, which reprent a block of one or several Python instructions.\r\n",
    "The current cell is a particular cell where I wrote a text by using markdown (as in the README.md used in Github)."
   ],
   "metadata": {}
  },
  {
   "cell_type": "markdown",
   "source": [
    "By default, new added cells are code cell. You can change the type of a cell by either using the \"Code\" menu in the central tab below the notebook name or typing on \"M\" once outside the edition model of the cell (use escape). Moreover, \"B\"(elow) and \"A\"(bove) allow you to insert a cell below or above the current cell, respectively. Please try the different mouse-free option (as it is more efficient than using the mouse)."
   ],
   "metadata": {}
  },
  {
   "cell_type": "markdown",
   "source": [
    "The next cell is a code cell that you can execute by running the play sign or by using \"Ctrl+Enter\" (or \"Command+Enter\" on a Mac) (the blue cursor on the left of the cell stays in the same cell); \"Ctrl+Shift\" (the cursor move to the next cell) or \"Alt+Enter\" (the cursor will be moved in a new cell added below the current cell).\n",
    "In the following cell, we declare two variables `T` (which represent the temperature in Celsius degree) and  `x`. We also display the content of the `x` variable."
   ],
   "metadata": {}
  },
  {
   "cell_type": "code",
   "execution_count": 1,
   "source": [
    "T = 21 # Vannes' temperature\r\n",
    "x = 13*15 # a multiplication\r\n",
    "x"
   ],
   "outputs": [
    {
     "output_type": "execute_result",
     "data": {
      "text/plain": [
       "195"
      ]
     },
     "metadata": {},
     "execution_count": 1
    }
   ],
   "metadata": {}
  },
  {
   "cell_type": "markdown",
   "source": [
    "To display the content of several variables, you need to use the `print` function. Otherwise, only the last variable is displayed."
   ],
   "metadata": {}
  },
  {
   "cell_type": "code",
   "execution_count": 2,
   "source": [
    "x\r\n",
    "T"
   ],
   "outputs": [
    {
     "output_type": "execute_result",
     "data": {
      "text/plain": [
       "21"
      ]
     },
     "metadata": {},
     "execution_count": 2
    }
   ],
   "metadata": {}
  },
  {
   "cell_type": "code",
   "execution_count": 3,
   "source": [
    "print(x)\r\n",
    "print(T)"
   ],
   "outputs": [
    {
     "output_type": "stream",
     "name": "stdout",
     "text": [
      "195\n",
      "21\n"
     ]
    }
   ],
   "metadata": {}
  },
  {
   "cell_type": "markdown",
   "source": [
    "As long as a cell has not been executed, the defined variables, functions, classes, *etc.* are not known for the other cell. Hence the execution order of the cell is crucial. For example, if you do not execute the first cell (where `T` and `x` variables are declared) and try to execute the previous cell, an error message will be displayed (as the variables would not exist). You can try it by relaunching the Jupyter kernel: Kernel > Restart Kernal and Clear All Outputs.\n",
    "If you need to execute all the cells of the notebook, you can also use: Run > Run All Cells"
   ],
   "metadata": {}
  },
  {
   "cell_type": "markdown",
   "source": [
    "## Python basics"
   ],
   "metadata": {}
  },
  {
   "cell_type": "markdown",
   "source": [
    "In this section, we will review the main component of Python."
   ],
   "metadata": {}
  },
  {
   "cell_type": "markdown",
   "source": [
    "### Arithmetic operations"
   ],
   "metadata": {}
  },
  {
   "cell_type": "code",
   "execution_count": 267,
   "source": [
    "a = 23\r\n",
    "b = 5\r\n",
    "print(\"a =\", a, \"and b =\" , b)\r\n",
    "print(a + b)      # addition\r\n",
    "print(a * b)      # multiplication\r\n",
    "print(a - b)      # subtraction\r\n",
    "print(a / b)      # division\r\n",
    "print(a//b)       # floor division / integer division\r\n",
    "print(b ** a)     # exponentiation\r\n",
    "print(a % b)      # modulus - returns the remainder\r\n",
    "print(2 * a % b)  # modulus - returns the remainder"
   ],
   "outputs": [
    {
     "output_type": "stream",
     "name": "stdout",
     "text": [
      "a = 23 and b = 5\n",
      "28\n",
      "115\n",
      "18\n",
      "4.6\n",
      "4\n",
      "11920928955078125\n",
      "3\n",
      "1\n"
     ]
    }
   ],
   "metadata": {}
  },
  {
   "cell_type": "markdown",
   "source": [
    "### Functions"
   ],
   "metadata": {}
  },
  {
   "cell_type": "markdown",
   "source": [
    "To define a function that can be reused several time, we use the 'def' statement. For example,"
   ],
   "metadata": {}
  },
  {
   "cell_type": "code",
   "execution_count": 268,
   "source": [
    "def hi():\r\n",
    "    \"\"\"\r\n",
    "    This function simply prints \"Hello everybody\". \r\n",
    "    \r\n",
    "    This is a shorter way of writing documentation, \r\n",
    "    it is good practice to always include a \r\n",
    "    description of what a function does.\r\n",
    "    \"\"\"\r\n",
    "    print(\"Hello everybody!\")\r\n",
    "    \r\n",
    "hi()"
   ],
   "outputs": [
    {
     "output_type": "stream",
     "name": "stdout",
     "text": [
      "Hello everybody!\n"
     ]
    }
   ],
   "metadata": {}
  },
  {
   "cell_type": "markdown",
   "source": [
    "A function can take one or several parameters:"
   ],
   "metadata": {}
  },
  {
   "cell_type": "code",
   "execution_count": 269,
   "source": [
    "def great_work(name):\r\n",
    "    print('You are doing some great work', name)"
   ],
   "outputs": [],
   "metadata": {}
  },
  {
   "cell_type": "markdown",
   "source": [
    "You can then reuse the function several times:"
   ],
   "metadata": {}
  },
  {
   "cell_type": "code",
   "execution_count": 270,
   "source": [
    "great_work(\"Peter\")\r\n",
    "great_work(\"Alicia\")"
   ],
   "outputs": [
    {
     "output_type": "stream",
     "name": "stdout",
     "text": [
      "You are doing some great work Peter\n",
      "You are doing some great work Alicia\n"
     ]
    }
   ],
   "metadata": {}
  },
  {
   "cell_type": "code",
   "execution_count": 271,
   "source": [
    "name = \"Camille\"\r\n",
    "great_work(name)\r\n",
    "great_work(\"Brice\")"
   ],
   "outputs": [
    {
     "output_type": "stream",
     "name": "stdout",
     "text": [
      "You are doing some great work Camille\n",
      "You are doing some great work Brice\n"
     ]
    }
   ],
   "metadata": {}
  },
  {
   "cell_type": "markdown",
   "source": [
    "Note that in the previous example the `name` variable is used to call the function `great_work`.\n",
    "Despite this variable has the same name than the one used in the header and the body of the function `great_work`, there are different:\n",
    "* `name` in `great_work(name)` is an **actual parameters** (argument)\n",
    "* `name` used to define the `great_work` function is a **formal parameter**\n",
    "The value of the actual parameter is used to replace the value of the formal parameter when calling the function."
   ],
   "metadata": {}
  },
  {
   "cell_type": "code",
   "execution_count": 272,
   "source": [
    "myname = \"Rufai\" # replace with your name for self-encouragement\r\n",
    "great_work(myname)\r\n",
    "great_work(name=myname) # `myname` is used as a value for `name`"
   ],
   "outputs": [
    {
     "output_type": "stream",
     "name": "stdout",
     "text": [
      "You are doing some great work Rufai\n",
      "You are doing some great work Rufai\n"
     ]
    }
   ],
   "metadata": {}
  },
  {
   "cell_type": "markdown",
   "source": [
    "This is also possible to define a function with default values for some of its parameters. For example:"
   ],
   "metadata": {}
  },
  {
   "cell_type": "code",
   "execution_count": 273,
   "source": [
    "def sum(a,b=1):\r\n",
    "    return a+b # this functions returns the sum of a+b"
   ],
   "outputs": [],
   "metadata": {}
  },
  {
   "cell_type": "code",
   "execution_count": 274,
   "source": [
    "print(sum(2,3))"
   ],
   "outputs": [
    {
     "output_type": "stream",
     "name": "stdout",
     "text": [
      "5\n"
     ]
    }
   ],
   "metadata": {}
  },
  {
   "cell_type": "code",
   "execution_count": 275,
   "source": [
    "print(sum(2))"
   ],
   "outputs": [
    {
     "output_type": "stream",
     "name": "stdout",
     "text": [
      "3\n"
     ]
    }
   ],
   "metadata": {}
  },
  {
   "cell_type": "code",
   "execution_count": 276,
   "source": [
    "b = 5\r\n",
    "print(b) # difference between actual and formal parameters!"
   ],
   "outputs": [
    {
     "output_type": "stream",
     "name": "stdout",
     "text": [
      "5\n"
     ]
    }
   ],
   "metadata": {}
  },
  {
   "cell_type": "markdown",
   "source": [
    "**Exercise**: write a function which converts a temperature in Celsius degee to Fahrenheit degree:\n",
    "$$ Tfah = Tdeg * 9/5 + 32 $$"
   ],
   "metadata": {}
  },
  {
   "cell_type": "code",
   "execution_count": 277,
   "source": [
    "#-- temperature conversion\r\n",
    "def temp_conversion(temp):\r\n",
    "    \"\"\"\r\n",
    "    This function converts temperature in degree Celsius to degree Fahrenheit\r\n",
    "    \"\"\"\r\n",
    "    temp = (temp*9)/5 + 32\r\n",
    "    return temp"
   ],
   "outputs": [],
   "metadata": {}
  },
  {
   "cell_type": "code",
   "execution_count": 278,
   "source": [
    "#-- check if this function works properly\r\n",
    "temp_conversion(32)"
   ],
   "outputs": [
    {
     "output_type": "execute_result",
     "data": {
      "text/plain": [
       "89.6"
      ]
     },
     "metadata": {},
     "execution_count": 278
    }
   ],
   "metadata": {}
  },
  {
   "cell_type": "markdown",
   "source": [
    "### Basic operations"
   ],
   "metadata": {}
  },
  {
   "cell_type": "markdown",
   "source": [
    "**if** statement"
   ],
   "metadata": {}
  },
  {
   "cell_type": "code",
   "execution_count": 279,
   "source": [
    "n = 11 \r\n",
    "if n > 10:\r\n",
    "    print(\"You pass\")\r\n",
    "else: \r\n",
    "    print(\"You fail\")"
   ],
   "outputs": [
    {
     "output_type": "stream",
     "name": "stdout",
     "text": [
      "You pass\n"
     ]
    }
   ],
   "metadata": {}
  },
  {
   "cell_type": "code",
   "execution_count": 280,
   "source": [
    "n = 17 \r\n",
    "if n > 16:\r\n",
    "    print(\"You pass with distinction\")\r\n",
    "elif n > 10:\r\n",
    "    print(\"You pass\")\r\n",
    "else: \r\n",
    "    print(\"You fail\")"
   ],
   "outputs": [
    {
     "output_type": "stream",
     "name": "stdout",
     "text": [
      "You pass with distinction\n"
     ]
    }
   ],
   "metadata": {}
  },
  {
   "cell_type": "markdown",
   "source": [
    "**Note**: While indenting your code is a good practice for all programming languages, this is mandatory in Python."
   ],
   "metadata": {}
  },
  {
   "cell_type": "markdown",
   "source": [
    "**while** loop"
   ],
   "metadata": {}
  },
  {
   "cell_type": "code",
   "execution_count": 5,
   "source": [
    "count = 0  \r\n",
    "total = 0 \r\n",
    "while count < 10: \r\n",
    "    count += 1  \r\n",
    "    total += count \r\n",
    "print(total)"
   ],
   "outputs": [
    {
     "output_type": "stream",
     "name": "stdout",
     "text": [
      "55\n"
     ]
    }
   ],
   "metadata": {}
  },
  {
   "cell_type": "markdown",
   "source": [
    "**for** loop"
   ],
   "metadata": {}
  },
  {
   "cell_type": "code",
   "execution_count": 282,
   "source": [
    "for i in range(5):\r\n",
    "    print(i)"
   ],
   "outputs": [
    {
     "output_type": "stream",
     "name": "stdout",
     "text": [
      "0\n",
      "1\n",
      "2\n",
      "3\n",
      "4\n"
     ]
    }
   ],
   "metadata": {}
  },
  {
   "cell_type": "markdown",
   "source": [
    "**Exercise**  \n",
    "By using a `for` loop and the `print` command, it is possible to draw a line of stars:"
   ],
   "metadata": {}
  },
  {
   "cell_type": "code",
   "execution_count": 283,
   "source": [
    "print(\"*\") # print one star"
   ],
   "outputs": [
    {
     "output_type": "stream",
     "name": "stdout",
     "text": [
      "*\n"
     ]
    }
   ],
   "metadata": {}
  },
  {
   "cell_type": "code",
   "execution_count": 284,
   "source": [
    "print(\"* * *\") # print three stars"
   ],
   "outputs": [
    {
     "output_type": "stream",
     "name": "stdout",
     "text": [
      "* * *\n"
     ]
    }
   ],
   "metadata": {}
  },
  {
   "cell_type": "code",
   "execution_count": 285,
   "source": [
    "n = 5\r\n",
    "for i in range(n):\r\n",
    "    print(\"* \", end=\"\") # `end=\"\"` changes the break line `\\n` to an empty character"
   ],
   "outputs": [
    {
     "output_type": "stream",
     "name": "stdout",
     "text": [
      "* * * * * "
     ]
    }
   ],
   "metadata": {}
  },
  {
   "cell_type": "code",
   "execution_count": 286,
   "source": [
    "n = 10\r\n",
    "for i in range(n):\r\n",
    "    print(\"* \", end=\"\")"
   ],
   "outputs": [
    {
     "output_type": "stream",
     "name": "stdout",
     "text": [
      "* * * * * * * * * * "
     ]
    }
   ],
   "metadata": {}
  },
  {
   "cell_type": "markdown",
   "source": [
    "There exists even a more compact version, which uses some properties of the strings:"
   ],
   "metadata": {}
  },
  {
   "cell_type": "code",
   "execution_count": 287,
   "source": [
    "n = 7\r\n",
    "print(\"* \"*n) # print seven stars"
   ],
   "outputs": [
    {
     "output_type": "stream",
     "name": "stdout",
     "text": [
      "* * * * * * * \n"
     ]
    }
   ],
   "metadata": {}
  },
  {
   "cell_type": "markdown",
   "source": [
    "Try now to draw the following squares:  \n",
    "\\* &nbsp; \\* &nbsp; \\* &nbsp; \\* &nbsp; \\*  \n",
    "\\* &nbsp; \\* &nbsp; \\* &nbsp; \\* &nbsp; \\*  \n",
    "\\* &nbsp; \\* &nbsp; \\* &nbsp; \\* &nbsp; \\*  \n",
    "\\* &nbsp; \\* &nbsp; \\* &nbsp; \\* &nbsp; \\*  "
   ],
   "metadata": {}
  },
  {
   "cell_type": "code",
   "execution_count": 288,
   "source": [
    "#-- draw a square of size 4 X 4\r\n",
    "# Test with 5 X 4\r\n",
    "n =5\r\n",
    "for row in range(n-1):\r\n",
    "    for col in range(n):\r\n",
    "        print(\"* \", end=\"\")\r\n",
    "    print()"
   ],
   "outputs": [
    {
     "output_type": "stream",
     "name": "stdout",
     "text": [
      "* * * * * \n",
      "* * * * * \n",
      "* * * * * \n",
      "* * * * * \n"
     ]
    }
   ],
   "metadata": {}
  },
  {
   "cell_type": "markdown",
   "source": [
    "If you haven't, define now a function to draw squares of an arbitrary size."
   ],
   "metadata": {}
  },
  {
   "cell_type": "code",
   "execution_count": 289,
   "source": [
    "def square(n):\r\n",
    "    \"\"\"\r\n",
    "        Drawing a square\r\n",
    "        n the size of the pattern\r\n",
    "    \"\"\"\r\n",
    "    for row in range(n):\r\n",
    "        for col in range(n):\r\n",
    "            print(\"* \", end=\" \")\r\n",
    "        print()\r\n",
    "    #pass # remove this line"
   ],
   "outputs": [],
   "metadata": {}
  },
  {
   "cell_type": "code",
   "execution_count": 290,
   "source": [
    "square(5)"
   ],
   "outputs": [
    {
     "output_type": "stream",
     "name": "stdout",
     "text": [
      "*  *  *  *  *  \n",
      "*  *  *  *  *  \n",
      "*  *  *  *  *  \n",
      "*  *  *  *  *  \n",
      "*  *  *  *  *  \n"
     ]
    }
   ],
   "metadata": {}
  },
  {
   "cell_type": "markdown",
   "source": [
    "**Homework**  \n",
    "The goal of this exercise is to draw two patterns: a triangle and a pyramid. Each pattern has a size defined by the parameter n.\n",
    "For n=5, the triaingle looks like  \n",
    "\\*  \n",
    "\\* &nbsp; \\*  \n",
    "\\* &nbsp; \\* &nbsp; \\*  \n",
    "\\* &nbsp; \\* &nbsp; \\* &nbsp; \\*  \n",
    "\\* &nbsp; \\* &nbsp; \\* &nbsp; \\* &nbsp; \\*  \n",
    "\n",
    "and the pyramid  \n",
    "&nbsp; &nbsp; &nbsp; &nbsp; \\*  \n",
    "&nbsp; &nbsp; &nbsp; \\* &nbsp; \\*  \n",
    "&nbsp; &nbsp; \\* &nbsp; \\* &nbsp; \\*  \n",
    "&nbsp; \\* &nbsp; \\* &nbsp; \\* &nbsp; \\*  \n",
    "\\* &nbsp; \\* &nbsp; \\* &nbsp; \\* &nbsp; \\*  "
   ],
   "metadata": {}
  },
  {
   "cell_type": "code",
   "execution_count": 291,
   "source": [
    "def triangle(n):\r\n",
    "    \"\"\"\r\n",
    "        Drawing a triangle\r\n",
    "        n the size of the pattern\r\n",
    "    \"\"\"\r\n",
    "    for row in range(n):\r\n",
    "        for col in range(row):\r\n",
    "            print(\"* \", end=\" \")\r\n",
    "        print()\r\n",
    "        \r\n",
    "    #pass # remove this line"
   ],
   "outputs": [],
   "metadata": {}
  },
  {
   "cell_type": "code",
   "execution_count": 292,
   "source": [
    "triangle(7)"
   ],
   "outputs": [
    {
     "output_type": "stream",
     "name": "stdout",
     "text": [
      "\n",
      "*  \n",
      "*  *  \n",
      "*  *  *  \n",
      "*  *  *  *  \n",
      "*  *  *  *  *  \n",
      "*  *  *  *  *  *  \n"
     ]
    }
   ],
   "metadata": {}
  },
  {
   "cell_type": "code",
   "execution_count": 293,
   "source": [
    "def pyramid(n):\r\n",
    "    \"\"\"\r\n",
    "        Drawing a pyramid\r\n",
    "        n the size of the pattern\r\n",
    "    \"\"\"\r\n",
    "    m = n - 1\r\n",
    "    for i in range(n):\r\n",
    "        for j in range(m):\r\n",
    "            print(end=\" \")\r\n",
    "        m = m - 1\r\n",
    "        for j in range(0, i + 1):\r\n",
    "            print(\"* \", end=\" \")\r\n",
    "        print(\" \")\r\n",
    "    #pass # remove this line"
   ],
   "outputs": [],
   "metadata": {}
  },
  {
   "cell_type": "code",
   "execution_count": 294,
   "source": [
    "pyramid(6)"
   ],
   "outputs": [
    {
     "output_type": "stream",
     "name": "stdout",
     "text": [
      "     *   \n",
      "    *  *   \n",
      "   *  *  *   \n",
      "  *  *  *  *   \n",
      " *  *  *  *  *   \n",
      "*  *  *  *  *  *   \n"
     ]
    }
   ],
   "metadata": {}
  },
  {
   "cell_type": "markdown",
   "source": [
    "### String"
   ],
   "metadata": {}
  },
  {
   "cell_type": "markdown",
   "source": [
    "A string is a sequence of character:"
   ],
   "metadata": {}
  },
  {
   "cell_type": "code",
   "execution_count": 295,
   "source": [
    "astring = \"Hello\"\r\n",
    "print(astring)"
   ],
   "outputs": [
    {
     "output_type": "stream",
     "name": "stdout",
     "text": [
      "Hello\n"
     ]
    }
   ],
   "metadata": {}
  },
  {
   "cell_type": "code",
   "execution_count": 296,
   "source": [
    "astring = 'Hello'\r\n",
    "print(astring)"
   ],
   "outputs": [
    {
     "output_type": "stream",
     "name": "stdout",
     "text": [
      "Hello\n"
     ]
    }
   ],
   "metadata": {}
  },
  {
   "cell_type": "markdown",
   "source": [
    "It is possible to access individual characters using indiexing and a range of characters using slicing. Index starts from 0.  \n",
    "If you try to access a charcter out of index range will raise an `IndexError`. The index must be an integer.  \n",
    "\n",
    "Python allows negative indexing for its sequences.  \n",
    "The index of -1 refers to the last item, -2 to the second last item and so on. We can access a range of items in a string by using the slicing operator `:`. "
   ],
   "metadata": {}
  },
  {
   "cell_type": "code",
   "execution_count": 297,
   "source": [
    "#-- Accessing string characters in Python\r\n",
    "myname = 'Charlotte'\r\n",
    "print('myname = ', myname)\r\n",
    "\r\n",
    "#-- first character\r\n",
    "print('myname[0] = ', myname[0])\r\n",
    "\r\n",
    "#-- last character\r\n",
    "print('myname[-1] = ', myname[-1])\r\n",
    "\r\n",
    "#-- slicing 2nd to 5th character\r\n",
    "print('myname[1:5] = ', myname[1:5])\r\n",
    "\r\n",
    "#-- slicing 6th to 2nd last character\r\n",
    "print('myname[5:-2] = ', myname[5:-2])"
   ],
   "outputs": [
    {
     "output_type": "stream",
     "name": "stdout",
     "text": [
      "myname =  Charlotte\n",
      "myname[0] =  C\n",
      "myname[-1] =  e\n",
      "myname[1:5] =  harl\n",
      "myname[5:-2] =  ot\n"
     ]
    }
   ],
   "metadata": {}
  },
  {
   "cell_type": "code",
   "execution_count": 298,
   "source": [
    "#-- accessing an unexisting element\r\n",
    "print('myname[9] = ', myname[9])"
   ],
   "outputs": [
    {
     "output_type": "error",
     "ename": "IndexError",
     "evalue": "string index out of range",
     "traceback": [
      "\u001b[1;31m---------------------------------------------------------------------------\u001b[0m",
      "\u001b[1;31mIndexError\u001b[0m                                Traceback (most recent call last)",
      "\u001b[1;32m<ipython-input-298-3b1647e8801e>\u001b[0m in \u001b[0;36m<module>\u001b[1;34m\u001b[0m\n\u001b[0;32m      1\u001b[0m \u001b[1;31m#-- accessing an unexisting element\u001b[0m\u001b[1;33m\u001b[0m\u001b[1;33m\u001b[0m\u001b[0m\n\u001b[1;32m----> 2\u001b[1;33m \u001b[0mprint\u001b[0m\u001b[1;33m(\u001b[0m\u001b[1;34m'myname[9] = '\u001b[0m\u001b[1;33m,\u001b[0m \u001b[0mmyname\u001b[0m\u001b[1;33m[\u001b[0m\u001b[1;36m9\u001b[0m\u001b[1;33m]\u001b[0m\u001b[1;33m)\u001b[0m\u001b[1;33m\u001b[0m\u001b[1;33m\u001b[0m\u001b[0m\n\u001b[0m",
      "\u001b[1;31mIndexError\u001b[0m: string index out of range"
     ]
    }
   ],
   "metadata": {}
  },
  {
   "cell_type": "code",
   "execution_count": null,
   "source": [
    "#-- accessing unexisting elements\r\n",
    "print('myname[7.5] = ', myname[9])"
   ],
   "outputs": [
    {
     "output_type": "error",
     "ename": "NameError",
     "evalue": "name 'myname' is not defined",
     "traceback": [
      "\u001b[1;31m---------------------------------------------------------------------------\u001b[0m",
      "\u001b[1;31mNameError\u001b[0m                                 Traceback (most recent call last)",
      "\u001b[1;32m<ipython-input-11-85c495896a7e>\u001b[0m in \u001b[0;36m<module>\u001b[1;34m\u001b[0m\n\u001b[0;32m      1\u001b[0m \u001b[1;31m#-- accessing unexisting elements\u001b[0m\u001b[1;33m\u001b[0m\u001b[1;33m\u001b[0m\u001b[0m\n\u001b[1;32m----> 2\u001b[1;33m \u001b[0mprint\u001b[0m\u001b[1;33m(\u001b[0m\u001b[1;34m'myname[7.5] = '\u001b[0m\u001b[1;33m,\u001b[0m \u001b[0mmyname\u001b[0m\u001b[1;33m[\u001b[0m\u001b[1;36m9\u001b[0m\u001b[1;33m]\u001b[0m\u001b[1;33m)\u001b[0m\u001b[1;33m\u001b[0m\u001b[1;33m\u001b[0m\u001b[0m\n\u001b[0m",
      "\u001b[1;31mNameError\u001b[0m: name 'myname' is not defined"
     ]
    }
   ],
   "metadata": {}
  },
  {
   "cell_type": "markdown",
   "source": [
    "Strings are immutable. This means that elements of a string cannot be changed once they have been assigned. We can simply reassign different strings to the same name.  \n",
    "**Note**: We will see later on a formal definition of mutable and immutable types.\n",
    "\n"
   ],
   "metadata": {}
  },
  {
   "cell_type": "code",
   "execution_count": null,
   "source": [
    "myname = 'Charlotte'\r\n",
    "myname[2] = 'e'"
   ],
   "outputs": [
    {
     "output_type": "error",
     "ename": "TypeError",
     "evalue": "'str' object does not support item assignment",
     "traceback": [
      "\u001b[1;31m---------------------------------------------------------------------------\u001b[0m",
      "\u001b[1;31mTypeError\u001b[0m                                 Traceback (most recent call last)",
      "\u001b[1;32m<ipython-input-14-b0ca9b9981da>\u001b[0m in \u001b[0;36m<module>\u001b[1;34m\u001b[0m\n\u001b[0;32m      1\u001b[0m \u001b[0mmyname\u001b[0m \u001b[1;33m=\u001b[0m \u001b[1;34m'Charlotte'\u001b[0m\u001b[1;33m\u001b[0m\u001b[1;33m\u001b[0m\u001b[0m\n\u001b[1;32m----> 2\u001b[1;33m \u001b[0mmyname\u001b[0m\u001b[1;33m[\u001b[0m\u001b[1;36m2\u001b[0m\u001b[1;33m]\u001b[0m \u001b[1;33m=\u001b[0m \u001b[1;34m'e'\u001b[0m\u001b[1;33m\u001b[0m\u001b[1;33m\u001b[0m\u001b[0m\n\u001b[0m",
      "\u001b[1;31mTypeError\u001b[0m: 'str' object does not support item assignment"
     ]
    }
   ],
   "metadata": {}
  },
  {
   "cell_type": "markdown",
   "source": [
    "There exist many string operations. You will need to check out Python's documentation when you want to manipulate some strings.  \n",
    "For example, you can check if an element is inside a string (and also a list) by using `in`:"
   ],
   "metadata": {}
  },
  {
   "cell_type": "code",
   "execution_count": null,
   "source": [
    "for subject in [\"Queueing Theory\", \"Game Theory\", \r\n",
    "                \"Inventory Theory\", \"Reliability Theory\", \r\n",
    "                \"Project Management\", \"Decision Analysis\"]:\r\n",
    "    if \"Theory\" in subject:\r\n",
    "        print(subject)"
   ],
   "outputs": [
    {
     "output_type": "stream",
     "name": "stdout",
     "text": [
      "Queueing Theory\n",
      "Game Theory\n",
      "Inventory Theory\n",
      "Reliability Theory\n"
     ]
    }
   ],
   "metadata": {}
  },
  {
   "cell_type": "markdown",
   "source": [
    "Try also the following commonly used methods: `lower`, `upper`, `join`, `split`, `find`, `replace`."
   ],
   "metadata": {}
  },
  {
   "cell_type": "code",
   "execution_count": null,
   "source": [
    "#-- your own examples\r\n",
    "print(myname.lower())\r\n",
    "print(myname.upper())\r\n",
    "print(myname.join(''))"
   ],
   "outputs": [
    {
     "output_type": "stream",
     "name": "stdout",
     "text": [
      "charlotte\n",
      "CHARLOTTE\n",
      "\n"
     ]
    }
   ],
   "metadata": {}
  },
  {
   "cell_type": "code",
   "execution_count": null,
   "source": [
    "my_name = \"Rufai Balogun\"\r\n",
    "my_name.split(\" \")"
   ],
   "outputs": [
    {
     "output_type": "execute_result",
     "data": {
      "text/plain": [
       "['Rufai', 'Balogun']"
      ]
     },
     "metadata": {},
     "execution_count": 17
    }
   ],
   "metadata": {}
  },
  {
   "cell_type": "markdown",
   "source": [
    "**Homeworks**  \r\n",
    "A. Here we will write a function to find in a string the longest substring with non-repeating characters.\r\n",
    "In case of a tie, it returns the first one that occurs in the string..\r\n",
    "\r\n",
    "For example, \r\n",
    "\"copernicus\" returns \"coperni\" with length 7,\r\n",
    "\"aaaaa\" returns \"a\" with length 1,  \r\n",
    "\"abcde\" returns \"abcde\" with length 5.\r\n",
    "\r\n",
    "1. Write the code of the `long_substring` function\r\n",
    "2. Test your code with several examples"
   ],
   "metadata": {}
  },
  {
   "cell_type": "code",
   "execution_count": null,
   "source": [
    "#-- Function definition\r\n",
    "def  long_substring(astring):\r\n",
    "    \"\"\"\r\n",
    "        Extract the longest substring with non-repeating characters\r\n",
    "        astring: string to analyse\r\n",
    "    \"\"\"\r\n",
    "    #Steps: \r\n",
    "    # I. Extract the Len of the Longest non-repeating string\r\n",
    "    # II. Slice the initial string based on this\r\n",
    "    #Final index\r\n",
    "    final_i = {}\r\n",
    "    length = 0\r\n",
    "    m = 0\r\n",
    "    #Initial Index\r\n",
    "    initial_i = 0\r\n",
    "    for i in range(len(astring)):\r\n",
    "        if astring[i] in final_i:\r\n",
    "            initial_i = max(initial_i, final_i[astring[i]] + 1)\r\n",
    "        # update when we get a larger window\r\n",
    "        m = max(m, i-initial_i + 1)\r\n",
    "        final_i[astring[i]] = i\r\n",
    "    print(m)\r\n",
    "    print(astring[:m])\r\n",
    "    print(final_i)\r\n",
    "    #pass # remove this line"
   ],
   "outputs": [],
   "metadata": {}
  },
  {
   "cell_type": "code",
   "execution_count": null,
   "source": [
    "long_substring(\"Gubernatorial\")"
   ],
   "outputs": [
    {
     "output_type": "stream",
     "name": "stdout",
     "text": [
      "9\n",
      "Gubernato\n",
      "{'G': 0, 'u': 1, 'b': 2, 'e': 3, 'r': 9, 'n': 5, 'a': 11, 't': 7, 'o': 8, 'i': 10, 'l': 12}\n"
     ]
    }
   ],
   "metadata": {}
  },
  {
   "cell_type": "code",
   "execution_count": null,
   "source": [
    "#-- Test n = 0\r\n",
    "long_substring(\"Gubernatorial\")"
   ],
   "outputs": [
    {
     "output_type": "stream",
     "name": "stdout",
     "text": [
      "9\n",
      "Gubernato\n"
     ]
    }
   ],
   "metadata": {}
  },
  {
   "cell_type": "markdown",
   "source": [
    "B. Here you will write a code to find a palindrome (i.e., a word or a sentence that is read the same forward and backward)\n",
    "The capitalisation, the ponctuation and word boundaries are not considered.\n",
    "\n",
    "The goal of this exercise is to write the function `valid_palindrome` that returns `True` if by removing at most one character the input string is a valid palyndrome. Otherwise, it outputs `False`."
   ],
   "metadata": {}
  },
  {
   "cell_type": "code",
   "execution_count": null,
   "source": [
    "#-- Function definition\r\n",
    "def valid_palindrome(input_string):\r\n",
    "    #-- add a documentation\r\n",
    "    if input_string[::-1] == input_string:\r\n",
    "        return True\r\n",
    "    else:\r\n",
    "        return False\r\n",
    "    \r\n",
    "    #pass # remove this line"
   ],
   "outputs": [],
   "metadata": {}
  },
  {
   "cell_type": "code",
   "execution_count": null,
   "source": [
    "#-- Test\r\n",
    "test_strings = [\"annan\", \"radkar\",  \"I think I am not a valid palindrome\", \"Was it a cars or a cat I saw\"]\r\n",
    "for ss in test_strings:\r\n",
    "    if (valid_palindrome(ss)):\r\n",
    "        print('\"' + ss + '\" is a valid palindrome.')\r\n",
    "    else:\r\n",
    "        print('\"' + ss + '\" is not a valid palindrome.')\r\n"
   ],
   "outputs": [
    {
     "output_type": "stream",
     "name": "stdout",
     "text": [
      "\"annan\" is not a valid palindrome.\n",
      "\"radkar\" is not a valid palindrome.\n",
      "\"I think I am not a valid palindrome\" is not a valid palindrome.\n",
      "\"Was it a cars or a cat I saw\" is not a valid palindrome.\n"
     ]
    }
   ],
   "metadata": {}
  },
  {
   "cell_type": "markdown",
   "source": [
    "### List\n",
    "\n",
    "Lists are good for keeping track of things by their order, especially when the order and contents might change. You can change a list in-place, add new elements, and delete or overwrite existing elements. The same value can occur more than once in a list, and heterogenous information can be stored in a list."
   ],
   "metadata": {}
  },
  {
   "cell_type": "code",
   "execution_count": null,
   "source": [
    "weekdays = [\"monday\", \"tuesday\", \"wednesday\", \"thrisday\", \"friday\"]\r\n",
    "weekdays"
   ],
   "outputs": [
    {
     "output_type": "execute_result",
     "data": {
      "text/plain": [
       "['monday', 'tuesday', 'wednesday', 'thrisday', 'friday']"
      ]
     },
     "metadata": {},
     "execution_count": 219
    }
   ],
   "metadata": {}
  },
  {
   "cell_type": "code",
   "execution_count": null,
   "source": [
    "inf = [7, \"Peter\", True, weekdays]\r\n",
    "inf"
   ],
   "outputs": [
    {
     "output_type": "execute_result",
     "data": {
      "text/plain": [
       "[7, 'Peter', True, ['monday', 'tuesday', 'wednesday', 'thrisday', 'friday']]"
      ]
     },
     "metadata": {},
     "execution_count": 220
    }
   ],
   "metadata": {}
  },
  {
   "cell_type": "code",
   "execution_count": null,
   "source": [
    "empty_list = list()\r\n",
    "empty_list"
   ],
   "outputs": [
    {
     "output_type": "execute_result",
     "data": {
      "text/plain": [
       "[]"
      ]
     },
     "metadata": {},
     "execution_count": 221
    }
   ],
   "metadata": {}
  },
  {
   "cell_type": "code",
   "execution_count": null,
   "source": [
    "empty_list = []\r\n",
    "empty_list"
   ],
   "outputs": [
    {
     "output_type": "execute_result",
     "data": {
      "text/plain": [
       "[]"
      ]
     },
     "metadata": {},
     "execution_count": 45
    }
   ],
   "metadata": {}
  },
  {
   "cell_type": "code",
   "execution_count": null,
   "source": [
    "birthday=\"06/09\"\r\n",
    "birthday.split('/') # returns a list"
   ],
   "outputs": [
    {
     "output_type": "execute_result",
     "data": {
      "text/plain": [
       "['06', '09']"
      ]
     },
     "metadata": {},
     "execution_count": 222
    }
   ],
   "metadata": {}
  },
  {
   "cell_type": "markdown",
   "source": [
    "The number of elements is given by `len`, and each element is indexed starting by `0`.\n",
    "It is possible to add new elements with `append` and apply slicing "
   ],
   "metadata": {}
  },
  {
   "cell_type": "code",
   "execution_count": null,
   "source": [
    "len(weekdays)"
   ],
   "outputs": [
    {
     "output_type": "execute_result",
     "data": {
      "text/plain": [
       "5"
      ]
     },
     "metadata": {},
     "execution_count": 223
    }
   ],
   "metadata": {}
  },
  {
   "cell_type": "code",
   "execution_count": null,
   "source": [
    "inf[1]"
   ],
   "outputs": [
    {
     "output_type": "execute_result",
     "data": {
      "text/plain": [
       "'Peter'"
      ]
     },
     "metadata": {},
     "execution_count": 224
    }
   ],
   "metadata": {}
  },
  {
   "cell_type": "code",
   "execution_count": null,
   "source": [
    "inf.append(\"Hello\")\r\n",
    "inf"
   ],
   "outputs": [
    {
     "output_type": "execute_result",
     "data": {
      "text/plain": [
       "[7,\n",
       " 'Peter',\n",
       " True,\n",
       " ['monday', 'tuesday', 'wednesday', 'thrisday', 'friday'],\n",
       " 'Hello']"
      ]
     },
     "metadata": {},
     "execution_count": 225
    }
   ],
   "metadata": {}
  },
  {
   "cell_type": "code",
   "execution_count": null,
   "source": [
    "inf[2:4] #slicing operation"
   ],
   "outputs": [
    {
     "output_type": "execute_result",
     "data": {
      "text/plain": [
       "[True, ['monday', 'tuesday', 'wednesday', 'thrisday', 'friday']]"
      ]
     },
     "metadata": {},
     "execution_count": 226
    }
   ],
   "metadata": {}
  },
  {
   "cell_type": "markdown",
   "source": [
    "You can use `range` similar to how to you use slices: `range( start, stop, step )` return a list of numbers. If you omit start, the range begins at 0. The only required value is stop; as with slices, the last value created will be just before stop. The default value of step is 1, but you can go backward with -1.\n",
    "`range` is often used in `for` loop."
   ],
   "metadata": {}
  },
  {
   "cell_type": "code",
   "execution_count": null,
   "source": [
    "list(range(5))"
   ],
   "outputs": [
    {
     "output_type": "execute_result",
     "data": {
      "text/plain": [
       "[0, 1, 2, 3, 4]"
      ]
     },
     "metadata": {},
     "execution_count": 227
    }
   ],
   "metadata": {}
  },
  {
   "cell_type": "code",
   "execution_count": null,
   "source": [
    "list(range(10,100,5))"
   ],
   "outputs": [
    {
     "output_type": "execute_result",
     "data": {
      "text/plain": [
       "[10, 15, 20, 25, 30, 35, 40, 45, 50, 55, 60, 65, 70, 75, 80, 85, 90, 95]"
      ]
     },
     "metadata": {},
     "execution_count": 228
    }
   ],
   "metadata": {}
  },
  {
   "cell_type": "markdown",
   "source": [
    "A *comprehension* is a compact way of creating a Python data structure from one or more iterators.\n",
    "For example, "
   ],
   "metadata": {}
  },
  {
   "cell_type": "code",
   "execution_count": null,
   "source": [
    "[i for i in range(10)]"
   ],
   "outputs": [
    {
     "output_type": "execute_result",
     "data": {
      "text/plain": [
       "[0, 1, 2, 3, 4, 5, 6, 7, 8, 9]"
      ]
     },
     "metadata": {},
     "execution_count": 230
    }
   ],
   "metadata": {}
  },
  {
   "cell_type": "code",
   "execution_count": null,
   "source": [
    "# The idea is to create a new list based on existing list\r\n",
    "# Usually, you can add additional conditions. See example codes below:\r\n",
    "[i for i in range(10) if i < 5]"
   ],
   "outputs": [
    {
     "output_type": "execute_result",
     "data": {
      "text/plain": [
       "[0, 1, 2, 3, 4]"
      ]
     },
     "metadata": {},
     "execution_count": 234
    }
   ],
   "metadata": {}
  },
  {
   "cell_type": "code",
   "execution_count": null,
   "source": [
    "fruits = [\"apple\", \"banana\", \"cherry\", \"kiwi\", \"mango\"]\r\n",
    "[x.upper() for x in fruits]"
   ],
   "outputs": [
    {
     "output_type": "execute_result",
     "data": {
      "text/plain": [
       "['APPLE', 'BANANA', 'CHERRY', 'KIWI', 'MANGO']"
      ]
     },
     "metadata": {},
     "execution_count": 235
    }
   ],
   "metadata": {}
  },
  {
   "cell_type": "code",
   "execution_count": null,
   "source": [
    "#-- for loop version\r\n",
    "h_letters = []\r\n",
    "for letter in 'hello':\r\n",
    "    h_letters.append(letter)\r\n",
    "h_letters"
   ],
   "outputs": [
    {
     "output_type": "execute_result",
     "data": {
      "text/plain": [
       "['h', 'e', 'l', 'l', 'o']"
      ]
     },
     "metadata": {},
     "execution_count": 236
    }
   ],
   "metadata": {}
  },
  {
   "cell_type": "code",
   "execution_count": null,
   "source": [
    "#-- list comprehension\r\n",
    "h_letters = [letter for letter in \"hello\"]\r\n",
    "h_letters"
   ],
   "outputs": [
    {
     "output_type": "execute_result",
     "data": {
      "text/plain": [
       "['h', 'e', 'l', 'l', 'o']"
      ]
     },
     "metadata": {},
     "execution_count": 237
    }
   ],
   "metadata": {}
  },
  {
   "cell_type": "markdown",
   "source": [
    "### Dictionary\n",
    "\n",
    "A dictionary is similar to a list, but the order of items does not matter, and they are not selected by an offset such as 0 or 1. \n",
    "Instead, you specify a unique key to associate with each value. This key is often a string, but it can actually be any of Python’s **immutable** types: boolean, string, integer, float, tuple.  \n",
    "**Note**: We will see later on a formal definition of mutable and immutable types."
   ],
   "metadata": {}
  },
  {
   "cell_type": "code",
   "execution_count": null,
   "source": [
    "empty_dict = {}"
   ],
   "outputs": [],
   "metadata": {}
  },
  {
   "cell_type": "code",
   "execution_count": null,
   "source": [
    "keys = ['Ten', 'Twenty', 'Thirty']\r\n",
    "values = [10, 20, 30]\r\n",
    "sample_dict = dict(zip(keys, values))\r\n",
    "sample_dict"
   ],
   "outputs": [
    {
     "output_type": "execute_result",
     "data": {
      "text/plain": [
       "{'Ten': 10, 'Twenty': 20, 'Thirty': 30}"
      ]
     },
     "metadata": {},
     "execution_count": 239
    }
   ],
   "metadata": {}
  },
  {
   "cell_type": "code",
   "execution_count": null,
   "source": [
    "sample_dict = {'Peter': 20,\r\n",
    "              'Eva': 22,\r\n",
    "              'Anna': 24}\r\n",
    "sample_dict"
   ],
   "outputs": [
    {
     "output_type": "execute_result",
     "data": {
      "text/plain": [
       "{'Peter': 20, 'Eva': 22, 'Anna': 24}"
      ]
     },
     "metadata": {},
     "execution_count": 240
    }
   ],
   "metadata": {}
  },
  {
   "cell_type": "markdown",
   "source": [
    "**Exercise**: Create a new dictionary where keys of the dictionary will be your first names and the value your birthday (string format: \"dd/mm\").\n",
    "\n",
    "1. Print each entry with the following format \"Adebowale's birhtday is XX/XX\".\n",
    "2. [**Homework**] Sort the dictionary by the birthdays in ascending order. Check the operation by printing the results."
   ],
   "metadata": {}
  },
  {
   "cell_type": "code",
   "execution_count": null,
   "source": [
    "#-- Dictionary\r\n",
    "keys = [\"Adebowale\", \"Cesar\", \"Simon\", \"Rufai\"]\r\n",
    "values = [\"28/06\", \"31/08\", '26/04', \"24/05\"]\r\n",
    "birthday_dict = dict(zip(keys, values))"
   ],
   "outputs": [],
   "metadata": {}
  },
  {
   "cell_type": "code",
   "execution_count": null,
   "source": [
    "#-- Print each entry\r\n",
    "for k, v in birthday_dict.items():\r\n",
    "    print(k + ' birthday is ' + v)"
   ],
   "outputs": [
    {
     "output_type": "stream",
     "name": "stdout",
     "text": [
      "Adebowale birthday is 28/06\n",
      "Cesar birthday is 31/08\n",
      "Simon birthday is 26/04\n",
      "Rufai birthday is 24/05\n"
     ]
    }
   ],
   "metadata": {}
  },
  {
   "cell_type": "code",
   "execution_count": null,
   "source": [
    "#-- Sort\r\n",
    "sorted_dict = sorted(\r\n",
    "    birthday_dict.items(),\r\n",
    "    key= lambda v: v[1].split(\"/\"))\r\n",
    "sorted_dict"
   ],
   "outputs": [
    {
     "output_type": "execute_result",
     "data": {
      "text/plain": [
       "[('Rufai', '24/05'),\n",
       " ('Simon', '26/04'),\n",
       " ('Adebowale', '28/06'),\n",
       " ('Cesar', '31/08')]"
      ]
     },
     "metadata": {},
     "execution_count": 43
    }
   ],
   "metadata": {}
  },
  {
   "cell_type": "markdown",
   "source": [
    "## Object Oriented Programming"
   ],
   "metadata": {}
  },
  {
   "cell_type": "markdown",
   "source": [
    "In Python, there exist three main programming styles\r\n",
    "1. procedural programming (the one you probably know)\r\n",
    "2. object-oriented programming (OOP)\r\n",
    "3. functional programming\r\n",
    "\r\n",
    "In OOP, real-world objects are modelised thanks to a **class**.\r\n",
    "Each object possesses \r\n",
    "* some properties defined by attributes\r\n",
    "* its behavior governed by methods\r\n",
    "* a state given the attribute's values.\r\n",
    "\r\n",
    "For example, a plane is an object with some characteristics, its attibutes, (*e.g.*, a price, a production year, a number of seats, *etc*) and it can perform some actions (*e.g.*, take off, fly, land, *etc*). \r\n",
    "\r\n",
    "In Python, everything is an object: String, lists, dictionaries, *etc.*"
   ],
   "metadata": {}
  },
  {
   "cell_type": "markdown",
   "source": [
    "Data Science libraries (for example, Pandas, NumPy) depend on OOP and its concepts. In the machine learning module, you will learn how to use Scikit-Learn and various algorithms ($k$-Nearest Neighbor, regression model, *etc*), which would require first to declare the learning model as object, and then to use a *fit* method. It is thus fundamental to understand the main OOP concetps to apply correctly all these models."
   ],
   "metadata": {}
  },
  {
   "cell_type": "markdown",
   "source": [
    "### Object *versus* Class\n",
    "A **class** is an abstract definition of the objects of the same nature. The class gives the formal description of the attributes and objects.\n",
    "You can create many objects of a same class (like there are many different planes)."
   ],
   "metadata": {}
  },
  {
   "cell_type": "markdown",
   "source": [
    "Let us see how to implement a class in Python.\n",
    "1. A new class is defined by using the keyword `class`\n",
    "2. A constructor is used to intialize the values of the attributes. It sets the initial state of an object.  \n",
    "The constructor is defined by using the keyword `def`, and is always named `__init__`. It can receive any number of parameters, but the first one is always a variable called `self`. When a new class instance (_i.e._, an object) is created, the instance is automatically passed to the `self` parameter in `__init__` so that the new attributes can be defined on the object.\n",
    "3. Methods are also defined by using the keyword `def` as a normal function. The key differences are (i) the method definition is within a class, and (ii) the first parameters is always `self`. The method is **never** called with `self`.\n",
    "\n",
    "\n",
    "Let us create the `Plane` class with only one attribute, the number of seats, and one method, `fly`."
   ],
   "metadata": {}
  },
  {
   "cell_type": "code",
   "execution_count": null,
   "source": [
    "class Plane:\r\n",
    "\r\n",
    "    def __init__(self, noseats):\r\n",
    "        self.noseats = noseats\r\n",
    "    \r\n",
    "    def fly(self):\r\n",
    "        print(\"I fly\")"
   ],
   "outputs": [],
   "metadata": {}
  },
  {
   "cell_type": "markdown",
   "source": [
    "In the body of `__init__`, there is one statement using the `self` variable: `self.noseats = noseats`.\n",
    "It creates an attribute called `noseats` and assigns to it the value of the `noseats` parameter."
   ],
   "metadata": {}
  },
  {
   "cell_type": "markdown",
   "source": [
    "Attributes in `__init__` are called **instance attributes**. Their values are specific to a particular instance of the class (*i.e.*, an object).\n",
    "\n",
    "This is also possible to define some **class attributes**, which have the same value for all class instances. You can define a class attribute by assigning a value to a variable name outside of .__init__().\n",
    "\n",
    "For example, the class definiton of `Plane` has a class attribute `color` with the value `white`."
   ],
   "metadata": {}
  },
  {
   "cell_type": "code",
   "execution_count": null,
   "source": [
    "class Plane:\r\n",
    "    colour = \"white\"\r\n",
    "    \r\n",
    "    def __init__(self,noseats):\r\n",
    "        self.noseats = noseats\r\n",
    "    \r\n",
    "    def fly(self):\r\n",
    "        print(\"I fly\")"
   ],
   "outputs": [],
   "metadata": {}
  },
  {
   "cell_type": "markdown",
   "source": [
    "Let us now **instantiate** a plane."
   ],
   "metadata": {}
  },
  {
   "cell_type": "code",
   "execution_count": null,
   "source": [
    "Plane(150)"
   ],
   "outputs": [
    {
     "output_type": "execute_result",
     "data": {
      "text/plain": [
       "<__main__.Plane at 0x1972ea4e220>"
      ]
     },
     "metadata": {},
     "execution_count": 46
    }
   ],
   "metadata": {}
  },
  {
   "cell_type": "markdown",
   "source": [
    "You now have a new Plane object at `0xXXXXXXXX`. This funny-looking string of letters and numbers is a memory address that indicates where the Plane object is stored in your computer’s memory.\r\n",
    "\r\n",
    "Now instantiate a second Plane object:"
   ],
   "metadata": {}
  },
  {
   "cell_type": "code",
   "execution_count": null,
   "source": [
    "Plane(150)"
   ],
   "outputs": [
    {
     "output_type": "execute_result",
     "data": {
      "text/plain": [
       "<__main__.Plane at 0x1972ea4ed00>"
      ]
     },
     "metadata": {},
     "execution_count": 48
    }
   ],
   "metadata": {}
  },
  {
   "cell_type": "markdown",
   "source": [
    "The new Plane instance is located at a different memory address. This an entirely new instance and is completely unique from the first Plane object that you instantiated, even if the number of seats for both Plane objects is the same.\r\n",
    "\r\n",
    "To see this another way, run the next cell:"
   ],
   "metadata": {}
  },
  {
   "cell_type": "code",
   "execution_count": null,
   "source": [
    "plane1 = Plane(150)\r\n",
    "plane2 = Plane(150)\r\n",
    "plane1==plane2"
   ],
   "outputs": [
    {
     "output_type": "execute_result",
     "data": {
      "text/plain": [
       "False"
      ]
     },
     "metadata": {},
     "execution_count": 49
    }
   ],
   "metadata": {}
  },
  {
   "cell_type": "markdown",
   "source": [
    "`plane1` and `plane2` are two distinct objects in memory."
   ],
   "metadata": {}
  },
  {
   "cell_type": "markdown",
   "source": [
    "You can access class and instance attributes using dot notation:"
   ],
   "metadata": {}
  },
  {
   "cell_type": "code",
   "execution_count": null,
   "source": [
    "plane1.noseats"
   ],
   "outputs": [
    {
     "output_type": "execute_result",
     "data": {
      "text/plain": [
       "150"
      ]
     },
     "metadata": {},
     "execution_count": 50
    }
   ],
   "metadata": {}
  },
  {
   "cell_type": "markdown",
   "source": [
    "You can change here its value dynamically:"
   ],
   "metadata": {}
  },
  {
   "cell_type": "code",
   "execution_count": null,
   "source": [
    "plane1.noseats = 200\r\n",
    "plane1.noseats"
   ],
   "outputs": [
    {
     "output_type": "execute_result",
     "data": {
      "text/plain": [
       "200"
      ]
     },
     "metadata": {},
     "execution_count": 51
    }
   ],
   "metadata": {}
  },
  {
   "cell_type": "markdown",
   "source": [
    "**Note on mutable and immutable objects**\n",
    "\n",
    "We say that custom objects are **mutable** by default. An object is mutable if it can be altered dynamically. For example, lists and dictionaries are mutable, but int, strings, and tuples are immutable.\n",
    "\n",
    "Let us take the example of int and list."
   ],
   "metadata": {}
  },
  {
   "cell_type": "code",
   "execution_count": null,
   "source": [
    "x = 10\r\n",
    "y = x"
   ],
   "outputs": [],
   "metadata": {}
  },
  {
   "cell_type": "code",
   "execution_count": null,
   "source": [
    "id(x) == id(y) "
   ],
   "outputs": [
    {
     "output_type": "execute_result",
     "data": {
      "text/plain": [
       "True"
      ]
     },
     "metadata": {},
     "execution_count": 53
    }
   ],
   "metadata": {}
  },
  {
   "cell_type": "markdown",
   "source": [
    "The built-in function `id` returns the identity of an object as an integer. This integer usually corresponds to the object’s location in memory, although this is specific to the Python implementation and the platform being used. The is operator compares the identity of two objects."
   ],
   "metadata": {}
  },
  {
   "cell_type": "code",
   "execution_count": null,
   "source": [
    "x = x + 1\r\n",
    "id(x) == id(y)"
   ],
   "outputs": [
    {
     "output_type": "execute_result",
     "data": {
      "text/plain": [
       "False"
      ]
     },
     "metadata": {},
     "execution_count": 54
    }
   ],
   "metadata": {}
  },
  {
   "cell_type": "code",
   "execution_count": null,
   "source": [
    "l1 = list([1, 2, 3])\r\n",
    "l2 = l1\r\n",
    "l1"
   ],
   "outputs": [
    {
     "output_type": "execute_result",
     "data": {
      "text/plain": [
       "[1, 2, 3]"
      ]
     },
     "metadata": {},
     "execution_count": 55
    }
   ],
   "metadata": {}
  },
  {
   "cell_type": "code",
   "execution_count": null,
   "source": [
    "id(l1) == id(l2)"
   ],
   "outputs": [
    {
     "output_type": "execute_result",
     "data": {
      "text/plain": [
       "True"
      ]
     },
     "metadata": {},
     "execution_count": 56
    }
   ],
   "metadata": {}
  },
  {
   "cell_type": "code",
   "execution_count": null,
   "source": [
    "l1.pop()\r\n",
    "l1"
   ],
   "outputs": [
    {
     "output_type": "execute_result",
     "data": {
      "text/plain": [
       "[1, 2]"
      ]
     },
     "metadata": {},
     "execution_count": 57
    }
   ],
   "metadata": {}
  },
  {
   "cell_type": "code",
   "execution_count": null,
   "source": [
    "l2"
   ],
   "outputs": [
    {
     "output_type": "execute_result",
     "data": {
      "text/plain": [
       "[1, 2]"
      ]
     },
     "metadata": {},
     "execution_count": 58
    }
   ],
   "metadata": {}
  },
  {
   "cell_type": "code",
   "execution_count": null,
   "source": [
    "id(l1) == id(l2)"
   ],
   "outputs": [
    {
     "output_type": "execute_result",
     "data": {
      "text/plain": [
       "True"
      ]
     },
     "metadata": {},
     "execution_count": 59
    }
   ],
   "metadata": {}
  },
  {
   "cell_type": "markdown",
   "source": [
    "`l1` and `l2` are pointing to the same list object after the modification. Both list objects now contain `[1, 2]`."
   ],
   "metadata": {}
  },
  {
   "cell_type": "markdown",
   "source": [
    "**Let us get back to our `Plane` class**\n",
    "\n",
    "We can apply the methods to the objects with thedot notation:"
   ],
   "metadata": {}
  },
  {
   "cell_type": "code",
   "execution_count": null,
   "source": [
    "plane1.fly()"
   ],
   "outputs": [
    {
     "output_type": "stream",
     "name": "stdout",
     "text": [
      "I fly\n"
     ]
    }
   ],
   "metadata": {}
  },
  {
   "cell_type": "markdown",
   "source": [
    "In python, there are three types of methods:\n",
    "1. an **instance method** takes `self` as the first argument (similar to `fly`). They are also called Object or regular method.\n",
    "2. a **class method** takes `cls` as the first argument. `cls` refers to class. To access a class variable within a method, we use the @classmethod decorator, and pass the class to the method\n",
    "3. a **static method** does not take anything as the first argument. It has limited uses.\n",
    "\n",
    "We will not detail further class and static methods today."
   ],
   "metadata": {}
  },
  {
   "cell_type": "markdown",
   "source": [
    "### Practical exercise\r\n",
    "\r\n",
    "Let us create a class `Point` which has two attributes `_x` and `_y.\r\n",
    "1. Implement the class `Point`\r\n",
    "2. Add a method `__str__` which displays the mathematical representation of a point `(<x>,<y>)` with `<x>` and `<y>`the actual values of `x` and `y`.\r\n",
    "3. Add a method `distance` that computes the distance between the current point and another point.  \r\n",
    "Note: the distance between two points is $\\sqrt{(x_1-x_2)^2+(y_1-y_2)^2}$\r\n",
    "4. Add a method `center` which return the point at the middle of the segment between the current point and another point.\r\n",
    "\r\n",
    "Test all the functionalities of this class."
   ],
   "metadata": {}
  },
  {
   "cell_type": "code",
   "execution_count": 315,
   "source": [
    "# Class implementation\r\n",
    "from math import sqrt\r\n",
    "class Point:\r\n",
    "    def __init__(self, x, y):\r\n",
    "        self._x = x\r\n",
    "        self._y = y\r\n",
    "\r\n",
    "    # the special instance __str__() define what get printed \r\n",
    "    # when the default print function is called on a class\r\n",
    "    def __str__(self):\r\n",
    "        return f\"({self._x}, {self._y})\"\r\n",
    "\r\n",
    "    def distance(self, p2):\r\n",
    "        #self.p1 = Point(x, y)\r\n",
    "        self.p2 = Point(x, y)\r\n",
    "        dist = sqrt(sum(self.p1._x - self.p2._x)** 2) + ((self.p1._y - self.p2._y)**2)\r\n",
    "        return dist\r\n",
    "\r\n",
    "    def center(self, p2):\r\n",
    "        self.p1 = Point(x, y)\r\n",
    "        self.p2 = Point(x, y)\r\n",
    "        center_x = (self.p1._x + self.p2._x)/2\r\n",
    "        center_y = (self.p1._y + self.p2._y)/2\r\n",
    "        mid_point = center_x + center_y\r\n",
    "        return center_x, center_y"
   ],
   "outputs": [],
   "metadata": {}
  },
  {
   "cell_type": "code",
   "execution_count": 317,
   "source": [
    "# Test\r\n",
    "P = Point(5, 8)\r\n",
    "print(P)"
   ],
   "outputs": [
    {
     "output_type": "stream",
     "name": "stdout",
     "text": [
      "(5, 8)\n"
     ]
    }
   ],
   "metadata": {}
  },
  {
   "cell_type": "code",
   "execution_count": 301,
   "source": [
    "P.distance(11, 10)"
   ],
   "outputs": [
    {
     "output_type": "execute_result",
     "data": {
      "text/plain": [
       "9.0"
      ]
     },
     "metadata": {},
     "execution_count": 301
    }
   ],
   "metadata": {}
  },
  {
   "cell_type": "code",
   "execution_count": 302,
   "source": [
    "P.center(11, 10)"
   ],
   "outputs": [
    {
     "output_type": "execute_result",
     "data": {
      "text/plain": [
       "(8.0, 9.0)"
      ]
     },
     "metadata": {},
     "execution_count": 302
    }
   ],
   "metadata": {}
  },
  {
   "cell_type": "code",
   "execution_count": 318,
   "source": [
    "print(P)"
   ],
   "outputs": [
    {
     "output_type": "stream",
     "name": "stdout",
     "text": [
      "(5, 8)\n"
     ]
    }
   ],
   "metadata": {}
  },
  {
   "cell_type": "markdown",
   "source": [
    "If you haven't, try to `print` one of your point object. What happens?\n",
    "The `__str__` method produces a readable representation of the object."
   ],
   "metadata": {}
  },
  {
   "cell_type": "code",
   "execution_count": 353,
   "source": [
    "class Car:\r\n",
    "    def __init__(self, color, mileage):\r\n",
    "        self.color = color\r\n",
    "        self.mileage = mileage\r\n",
    "        print(f\"The {self.color} car has {self.mileage} miles\")\r\n",
    "\r\n",
    "    def __str__(self):\r\n",
    "        return f\"Car color is {self.color} with {self.mileage} miles\"\r\n",
    "    \r\n",
    "    def drive(self, num):\r\n",
    "        self.num = num\r\n",
    "        self.mileage = int(self.mileage) + int(self.num)\r\n",
    "        return f\"The {self.color} car has {self.mileage} miles\"    "
   ],
   "outputs": [],
   "metadata": {}
  },
  {
   "cell_type": "code",
   "execution_count": 356,
   "source": [
    "Blue = Car(\"brown\", \"5000\")"
   ],
   "outputs": [
    {
     "output_type": "stream",
     "name": "stdout",
     "text": [
      "The brown car has 5000 miles\n"
     ]
    }
   ],
   "metadata": {}
  },
  {
   "cell_type": "code",
   "execution_count": 363,
   "source": [
    "Blue.drive(6000)"
   ],
   "outputs": [
    {
     "output_type": "execute_result",
     "data": {
      "text/plain": [
       "'The brown car has 42000 miles'"
      ]
     },
     "metadata": {},
     "execution_count": 363
    }
   ],
   "metadata": {}
  },
  {
   "cell_type": "markdown",
   "source": [
    "**Homework**  \r\n",
    "Let us implement another class `Triangle` which has three `Point` attributes. \r\n",
    "1. Implement the class `Triangle`\r\n",
    "2. Add a method `flat` which returns `True` if the three points are aligned\r\n",
    "3. Add a method `isosceles` which return `True` if the triangle is isosceles"
   ],
   "metadata": {}
  },
  {
   "cell_type": "code",
   "execution_count": 386,
   "source": [
    "# Class implementation\r\n",
    "class Triangle:\r\n",
    "    #Creating a class on previous classes\r\n",
    "    #x = Point(5, 8)\r\n",
    "    #y = Point(-5, 6)\r\n",
    "    #z = Point(3, 8)\r\n",
    "    def __init__(self, a, b, c):\r\n",
    "        self.a = a\r\n",
    "        self.b = b\r\n",
    "        self.c = c\r\n",
    "        a._x_y\r\n",
    "        b._x_y\r\n",
    "        c._x_y\r\n",
    "        \r\n",
    "    \r\n",
    "    def flat(self, _x, _y):\r\n",
    "        self.b._x_y = \r\n",
    "        if self.x== self.y== self.z:\r\n",
    "            return True\r\n",
    "        else:\r\n",
    "            return False\r\n",
    "\r\n",
    "    def isosceles(self):\r\n",
    "        if self.x==self.y or self.y==self.z or self.z==self.x:\r\n",
    "            return True"
   ],
   "outputs": [],
   "metadata": {}
  },
  {
   "cell_type": "code",
   "execution_count": 387,
   "source": [
    "T = Triangle(6, 7, 7)"
   ],
   "outputs": [],
   "metadata": {}
  },
  {
   "cell_type": "code",
   "execution_count": 388,
   "source": [
    "# Test\r\n",
    "T.isosceles()"
   ],
   "outputs": [
    {
     "output_type": "execute_result",
     "data": {
      "text/plain": [
       "True"
      ]
     },
     "metadata": {},
     "execution_count": 388
    }
   ],
   "metadata": {}
  },
  {
   "cell_type": "markdown",
   "source": [
    "### Inheritance\n",
    "\n",
    "Inheritance is the process by which one class takes on the attributes and methods of another. Newly formed classes are called **child classes**, and the classes that child classes are derived from are called **parent classes**.\n",
    "\n",
    "Child classes can override or extend the attributes and methods of parent classes. In other words, child classes inherit all of the parent’s attributes and methods but can also specify attributes and methods that are unique to themselves.\n",
    "\n",
    "Let us take a new example of the students at UBS."
   ],
   "metadata": {}
  },
  {
   "cell_type": "code",
   "execution_count": 305,
   "source": [
    "class Student:\r\n",
    "    def __init__(self,name,schoolyear):\r\n",
    "        self.name = name\r\n",
    "        self.schoolyear = schoolyear\r\n",
    "        \r\n",
    "    def printName(self):\r\n",
    "        print(\"My name is \", self.name)"
   ],
   "outputs": [],
   "metadata": {}
  },
  {
   "cell_type": "code",
   "execution_count": 306,
   "source": [
    "peter = Student(\"Peter\",2021)\r\n",
    "peter.printName()"
   ],
   "outputs": [
    {
     "output_type": "stream",
     "name": "stdout",
     "text": [
      "My name is  Peter\n"
     ]
    }
   ],
   "metadata": {}
  },
  {
   "cell_type": "markdown",
   "source": [
    "We would like to create a `CDEClass`, which shares the similar information but as also an additional attribute `scholarship` and method `thesisMaster`:"
   ],
   "metadata": {}
  },
  {
   "cell_type": "code",
   "execution_count": 381,
   "source": [
    "class CDEStudent(Student):\r\n",
    "    def __init__(self,name, schoolyear,scholarship):\r\n",
    "        super().__init__(name, schoolyear)\r\n",
    "        self.scholarship = scholarship\r\n",
    "        \r\n",
    "    def thesisMaster(self, subject):\r\n",
    "        print(\"My master thesis subjects is about\", subject)"
   ],
   "outputs": [],
   "metadata": {}
  },
  {
   "cell_type": "code",
   "execution_count": 382,
   "source": [
    "stephanie = CDEStudent(\"Stephanie\",2020,1000)\r\n",
    "stephanie.printName()\r\n",
    "stephanie.thesisMaster(\"monitoring air pollution\")"
   ],
   "outputs": [
    {
     "output_type": "stream",
     "name": "stdout",
     "text": [
      "My name is  Stephanie\n",
      "My master thesis subjets is about monitoring air pollution\n"
     ]
    }
   ],
   "metadata": {}
  },
  {
   "cell_type": "markdown",
   "source": [
    "The `CDEStudent` class inherits `Student`. The class is initialized with the `name` and `schoolyyear` required by the base class. `super()` is used to initialize the members of the base class. \n",
    "`CDEStudent` also requires a `scholarship` initialization parameter that represents the scholarship amount.\n",
    "\n",
    "The class provides also the `thesisMaster` method that displays the master thesis topic. The implementation returns the string stored in the parameter `subject`."
   ],
   "metadata": {}
  },
  {
   "cell_type": "markdown",
   "source": [
    "### Practical exercise"
   ],
   "metadata": {}
  },
  {
   "cell_type": "markdown",
   "source": [
    "1. Let us create a class `Coin` that contains two methods:  \n",
    "(i) `random_draw`, which returns `0` or `1`, and   \n",
    "(ii) `average_draw`, which uses `random_draw` to compute an average over `n` runs.  \n",
    "**Hint**: you can use either the modulo operation `%` or `random.randint` to draw 0 or 1 at random."
   ],
   "metadata": {}
  },
  {
   "cell_type": "code",
   "execution_count": 309,
   "source": [
    "#-- Coin\r\n",
    "import numpy as np\r\n",
    "class Coin:\r\n",
    "    def __init__(self):\r\n",
    "        pass\r\n",
    "    \r\n",
    "    def random_draw(self):\r\n",
    "        for _ in range(n):\r\n",
    "            r = np.random.randint(0, 1)\r\n",
    "        return r\r\n",
    "\r\n",
    "    def average_draw(random_draw):\r\n",
    "        super().random_draw()\r\n",
    "        return np.mean(super().r)"
   ],
   "outputs": [],
   "metadata": {}
  },
  {
   "cell_type": "markdown",
   "source": [
    "2. Let us now create a class `TrickCoin`. The player is a cheater: when he loses, he plays a trick coin for which the odds of getting 1 are 0.7.\n",
    "We will add a parameter to the `random_draw` method, `previous`. If `previous=0`, the player lost at the last round."
   ],
   "metadata": {}
  },
  {
   "cell_type": "code",
   "execution_count": 310,
   "source": [
    "#-- TrickCoin\r\n",
    "class TrickCoin(Coin):\r\n",
    "    super().random_draw(\r\n",
    "        self.previous = previous\r\n",
    "    )\r\n",
    "    def __init__(self) -> None:\r\n",
    "        pass"
   ],
   "outputs": [],
   "metadata": {}
  },
  {
   "cell_type": "markdown",
   "source": [
    "3. Write a class `MixedTrickCoin`, which calls either `Coin.randow_draw` or `TrickCoin.random_draw`."
   ],
   "metadata": {}
  },
  {
   "cell_type": "code",
   "execution_count": 311,
   "source": [
    "#-- MixedTrickCoin\r\n"
   ],
   "outputs": [],
   "metadata": {}
  },
  {
   "cell_type": "markdown",
   "source": [
    "Test the different classes. What returns `average_draw` for the three classes?"
   ],
   "metadata": {}
  },
  {
   "cell_type": "code",
   "execution_count": null,
   "source": [],
   "outputs": [],
   "metadata": {}
  }
 ],
 "metadata": {
  "kernelspec": {
   "name": "python3",
   "display_name": "Python 3.8.10 64-bit ('base': conda)"
  },
  "language_info": {
   "codemirror_mode": {
    "name": "ipython",
    "version": 3
   },
   "file_extension": ".py",
   "mimetype": "text/x-python",
   "name": "python",
   "nbconvert_exporter": "python",
   "pygments_lexer": "ipython3",
   "version": "3.8.10"
  },
  "interpreter": {
   "hash": "9be38a6015254017d4edd2046b770be20849a1c5b230911009defc72922fbf9d"
  }
 },
 "nbformat": 4,
 "nbformat_minor": 4
}